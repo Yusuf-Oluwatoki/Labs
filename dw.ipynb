{
 "cells": [
  {
   "cell_type": "code",
   "execution_count": 1,
   "metadata": {
    "init_cell": true
   },
   "outputs": [],
   "source": [
    "%logstop\n",
    "%logstart -rtq ~/.logs/dw.py append\n",
    "%matplotlib inline\n",
    "import matplotlib\n",
    "import seaborn as sns\n",
    "sns.set()\n",
    "matplotlib.rcParams['figure.dpi'] = 144"
   ]
  },
  {
   "cell_type": "code",
   "execution_count": 44,
   "metadata": {},
   "outputs": [],
   "source": [
    "from static_grader import grader"
   ]
  },
  {
   "cell_type": "markdown",
   "metadata": {},
   "source": [
    "# DW Miniproject\n",
    "## Introduction\n",
    "\n",
    "The objective of this miniproject is to exercise your ability to wrangle tabular data set and aggregate large data sets into meaningful summary statistics. We'll work with the same medical data used in the `pw` miniproject but leverage the power of Pandas to more efficiently represent and act on our data."
   ]
  },
  {
   "cell_type": "markdown",
   "metadata": {},
   "source": [
    "## Downloading the data\n",
    "\n",
    "We first need to download the data we'll be using from Amazon S3:"
   ]
  },
  {
   "cell_type": "code",
   "execution_count": 45,
   "metadata": {},
   "outputs": [
    {
     "name": "stdout",
     "output_type": "stream",
     "text": [
      "mkdir: cannot create directory ‘dw-data’: File exists\n",
      "File ‘./dw-data/201701scripts_sample.csv.gz’ already there; not retrieving.\n",
      "\n",
      "File ‘./dw-data/201606scripts_sample.csv.gz’ already there; not retrieving.\n",
      "\n",
      "File ‘./dw-data/practices.csv.gz’ already there; not retrieving.\n",
      "\n",
      "File ‘./dw-data/chem.csv.gz’ already there; not retrieving.\n",
      "\n"
     ]
    }
   ],
   "source": [
    "!mkdir dw-data\n",
    "!wget http://dataincubator-wqu.s3.amazonaws.com/dwdata/201701scripts_sample.csv.gz -nc -P ./dw-data/\n",
    "!wget http://dataincubator-wqu.s3.amazonaws.com/dwdata/201606scripts_sample.csv.gz -nc -P ./dw-data/\n",
    "!wget http://dataincubator-wqu.s3.amazonaws.com/dwdata/practices.csv.gz -nc -P ./dw-data/\n",
    "!wget http://dataincubator-wqu.s3.amazonaws.com/dwdata/chem.csv.gz -nc -P ./dw-data/"
   ]
  },
  {
   "cell_type": "markdown",
   "metadata": {},
   "source": [
    "## Loading the data\n",
    "\n",
    "Similar to the `PW` miniproject, the first step is to read in the data. The data files are stored as compressed CSV files. You can load the data into a Pandas DataFrame by making use of the `gzip` package to decompress the files and Panda's `read_csv` methods to parse the data into a DataFrame. You may want to check the Pandas documentation for parsing [CSV](http://pandas.pydata.org/pandas-docs/stable/generated/pandas.read_csv.html) files for reference.\n",
    "\n",
    "For a description of the data set please, refer to the [PW miniproject](./pw.ipynb). **Note that all questions make use of the 2017 data only, except for Question 5 which makes use of both the 2017 and 2016 data.**"
   ]
  },
  {
   "cell_type": "code",
   "execution_count": 46,
   "metadata": {},
   "outputs": [],
   "source": [
    "import pandas as pd\n",
    "import numpy as np\n",
    "import gzip"
   ]
  },
  {
   "cell_type": "code",
   "execution_count": 47,
   "metadata": {},
   "outputs": [
    {
     "data": {
      "text/html": [
       "<div>\n",
       "<style scoped>\n",
       "    .dataframe tbody tr th:only-of-type {\n",
       "        vertical-align: middle;\n",
       "    }\n",
       "\n",
       "    .dataframe tbody tr th {\n",
       "        vertical-align: top;\n",
       "    }\n",
       "\n",
       "    .dataframe thead th {\n",
       "        text-align: right;\n",
       "    }\n",
       "</style>\n",
       "<table border=\"1\" class=\"dataframe\">\n",
       "  <thead>\n",
       "    <tr style=\"text-align: right;\">\n",
       "      <th></th>\n",
       "      <th>practice</th>\n",
       "      <th>bnf_code</th>\n",
       "      <th>bnf_name</th>\n",
       "      <th>items</th>\n",
       "      <th>nic</th>\n",
       "      <th>act_cost</th>\n",
       "      <th>quantity</th>\n",
       "    </tr>\n",
       "  </thead>\n",
       "  <tbody>\n",
       "    <tr>\n",
       "      <th>0</th>\n",
       "      <td>N85639</td>\n",
       "      <td>0106020C0</td>\n",
       "      <td>Bisacodyl_Tab E/C 5mg</td>\n",
       "      <td>1</td>\n",
       "      <td>0.39</td>\n",
       "      <td>0.47</td>\n",
       "      <td>12</td>\n",
       "    </tr>\n",
       "    <tr>\n",
       "      <th>1</th>\n",
       "      <td>N85639</td>\n",
       "      <td>0106040M0</td>\n",
       "      <td>Movicol Plain_Paed Pdr Sach 6.9g</td>\n",
       "      <td>1</td>\n",
       "      <td>4.38</td>\n",
       "      <td>4.07</td>\n",
       "      <td>30</td>\n",
       "    </tr>\n",
       "    <tr>\n",
       "      <th>2</th>\n",
       "      <td>N85639</td>\n",
       "      <td>0301011R0</td>\n",
       "      <td>Salbutamol_Inha 100mcg (200 D) CFF</td>\n",
       "      <td>1</td>\n",
       "      <td>1.50</td>\n",
       "      <td>1.40</td>\n",
       "      <td>1</td>\n",
       "    </tr>\n",
       "    <tr>\n",
       "      <th>3</th>\n",
       "      <td>N85639</td>\n",
       "      <td>0304010G0</td>\n",
       "      <td>Chlorphenamine Mal_Oral Soln 2mg/5ml</td>\n",
       "      <td>1</td>\n",
       "      <td>2.62</td>\n",
       "      <td>2.44</td>\n",
       "      <td>150</td>\n",
       "    </tr>\n",
       "    <tr>\n",
       "      <th>4</th>\n",
       "      <td>N85639</td>\n",
       "      <td>0401020K0</td>\n",
       "      <td>Diazepam_Tab 2mg</td>\n",
       "      <td>1</td>\n",
       "      <td>0.16</td>\n",
       "      <td>0.26</td>\n",
       "      <td>6</td>\n",
       "    </tr>\n",
       "  </tbody>\n",
       "</table>\n",
       "</div>"
      ],
      "text/plain": [
       "  practice   bnf_code                              bnf_name  items   nic  \\\n",
       "0   N85639  0106020C0                 Bisacodyl_Tab E/C 5mg      1  0.39   \n",
       "1   N85639  0106040M0      Movicol Plain_Paed Pdr Sach 6.9g      1  4.38   \n",
       "2   N85639  0301011R0    Salbutamol_Inha 100mcg (200 D) CFF      1  1.50   \n",
       "3   N85639  0304010G0  Chlorphenamine Mal_Oral Soln 2mg/5ml      1  2.62   \n",
       "4   N85639  0401020K0                      Diazepam_Tab 2mg      1  0.16   \n",
       "\n",
       "   act_cost  quantity  \n",
       "0      0.47        12  \n",
       "1      4.07        30  \n",
       "2      1.40         1  \n",
       "3      2.44       150  \n",
       "4      0.26         6  "
      ]
     },
     "execution_count": 47,
     "metadata": {},
     "output_type": "execute_result"
    }
   ],
   "source": [
    "# load the 2017 data\n",
    "scripts = pd.read_csv('./dw-data/201701scripts_sample.csv.gz')\n",
    "scripts.head()"
   ]
  },
  {
   "cell_type": "code",
   "execution_count": 48,
   "metadata": {},
   "outputs": [
    {
     "data": {
      "text/html": [
       "<div>\n",
       "<style scoped>\n",
       "    .dataframe tbody tr th:only-of-type {\n",
       "        vertical-align: middle;\n",
       "    }\n",
       "\n",
       "    .dataframe tbody tr th {\n",
       "        vertical-align: top;\n",
       "    }\n",
       "\n",
       "    .dataframe thead th {\n",
       "        text-align: right;\n",
       "    }\n",
       "</style>\n",
       "<table border=\"1\" class=\"dataframe\">\n",
       "  <thead>\n",
       "    <tr style=\"text-align: right;\">\n",
       "      <th></th>\n",
       "      <th>code</th>\n",
       "      <th>name</th>\n",
       "      <th>addr_1</th>\n",
       "      <th>addr_2</th>\n",
       "      <th>borough</th>\n",
       "      <th>village</th>\n",
       "      <th>post_code</th>\n",
       "    </tr>\n",
       "  </thead>\n",
       "  <tbody>\n",
       "    <tr>\n",
       "      <th>0</th>\n",
       "      <td>A81002</td>\n",
       "      <td>QUEENS PARK MEDICAL CENTRE</td>\n",
       "      <td>QUEENS PARK MEDICAL CTR</td>\n",
       "      <td>FARRER STREET</td>\n",
       "      <td>STOCKTON ON TEES</td>\n",
       "      <td>CLEVELAND</td>\n",
       "      <td>TS18 2AW</td>\n",
       "    </tr>\n",
       "    <tr>\n",
       "      <th>1</th>\n",
       "      <td>A81003</td>\n",
       "      <td>VICTORIA MEDICAL PRACTICE</td>\n",
       "      <td>THE HEALTH CENTRE</td>\n",
       "      <td>VICTORIA ROAD</td>\n",
       "      <td>HARTLEPOOL</td>\n",
       "      <td>CLEVELAND</td>\n",
       "      <td>TS26 8DB</td>\n",
       "    </tr>\n",
       "    <tr>\n",
       "      <th>2</th>\n",
       "      <td>A81004</td>\n",
       "      <td>WOODLANDS ROAD SURGERY</td>\n",
       "      <td>6 WOODLANDS ROAD</td>\n",
       "      <td>NaN</td>\n",
       "      <td>MIDDLESBROUGH</td>\n",
       "      <td>CLEVELAND</td>\n",
       "      <td>TS1 3BE</td>\n",
       "    </tr>\n",
       "    <tr>\n",
       "      <th>3</th>\n",
       "      <td>A81005</td>\n",
       "      <td>SPRINGWOOD SURGERY</td>\n",
       "      <td>SPRINGWOOD SURGERY</td>\n",
       "      <td>RECTORY LANE</td>\n",
       "      <td>GUISBOROUGH</td>\n",
       "      <td>NaN</td>\n",
       "      <td>TS14 7DJ</td>\n",
       "    </tr>\n",
       "    <tr>\n",
       "      <th>4</th>\n",
       "      <td>A81006</td>\n",
       "      <td>TENNANT STREET MEDICAL PRACTICE</td>\n",
       "      <td>TENNANT ST MED PRACT</td>\n",
       "      <td>FARRER STREET</td>\n",
       "      <td>STOCKTON ON TEES</td>\n",
       "      <td>CLEVELAND</td>\n",
       "      <td>TS18 2AT</td>\n",
       "    </tr>\n",
       "  </tbody>\n",
       "</table>\n",
       "</div>"
      ],
      "text/plain": [
       "     code                             name                   addr_1  \\\n",
       "0  A81002       QUEENS PARK MEDICAL CENTRE  QUEENS PARK MEDICAL CTR   \n",
       "1  A81003        VICTORIA MEDICAL PRACTICE        THE HEALTH CENTRE   \n",
       "2  A81004           WOODLANDS ROAD SURGERY         6 WOODLANDS ROAD   \n",
       "3  A81005               SPRINGWOOD SURGERY       SPRINGWOOD SURGERY   \n",
       "4  A81006  TENNANT STREET MEDICAL PRACTICE     TENNANT ST MED PRACT   \n",
       "\n",
       "          addr_2           borough    village post_code  \n",
       "0  FARRER STREET  STOCKTON ON TEES  CLEVELAND  TS18 2AW  \n",
       "1  VICTORIA ROAD        HARTLEPOOL  CLEVELAND  TS26 8DB  \n",
       "2            NaN     MIDDLESBROUGH  CLEVELAND   TS1 3BE  \n",
       "3   RECTORY LANE       GUISBOROUGH        NaN  TS14 7DJ  \n",
       "4  FARRER STREET  STOCKTON ON TEES  CLEVELAND  TS18 2AT  "
      ]
     },
     "execution_count": 48,
     "metadata": {},
     "output_type": "execute_result"
    }
   ],
   "source": [
    "col_names=[ 'code', 'name', 'addr_1', 'addr_2', 'borough', 'village', 'post_code']\n",
    "practices = pd.read_csv('./dw-data/practices.csv.gz')\n",
    "#practices.column=col_names\n",
    "practices = practices.set_axis(col_names, axis=1, inplace=False)\n",
    "practices.head()"
   ]
  },
  {
   "cell_type": "code",
   "execution_count": 49,
   "metadata": {},
   "outputs": [
    {
     "name": "stdout",
     "output_type": "stream",
     "text": [
      "<class 'pandas.core.frame.DataFrame'>\n",
      "RangeIndex: 3487 entries, 0 to 3486\n",
      "Data columns (total 2 columns):\n",
      "CHEM SUB    3487 non-null object\n",
      "NAME        3487 non-null object\n",
      "dtypes: object(2)\n",
      "memory usage: 54.6+ KB\n"
     ]
    }
   ],
   "source": [
    "chem = pd.read_csv('./dw-data/chem.csv.gz')\n",
    "chem.info()"
   ]
  },
  {
   "cell_type": "markdown",
   "metadata": {},
   "source": [
    "Now that we've loaded in the data, let's first replicate our results from the `PW` miniproject. Note that we are now working with a larger data set so the answers will be different than in the `PW` miniproject even if the analysis is the same."
   ]
  },
  {
   "cell_type": "markdown",
   "metadata": {},
   "source": [
    "## Question 1: summary_statistics\n",
    "\n",
    "In the `PW` miniproject we first calculated the total, mean, standard deviation, and quartile statistics of the `'items'`, `'quantity'`', `'nic'`, and `'act_cost'` fields. To do this we had to write some functions to calculate the statistics and apply the functions to our data structure. The DataFrame has a `describe` method that will calculate most (not all) of these things for us.\n",
    "\n",
    "Submit the summary statistics to the grader as a list of tuples: [('act_cost', (total, mean, std, q25, median, q75)), ...]"
   ]
  },
  {
   "cell_type": "code",
   "execution_count": 50,
   "metadata": {},
   "outputs": [
    {
     "data": {
      "text/html": [
       "<div>\n",
       "<style scoped>\n",
       "    .dataframe tbody tr th:only-of-type {\n",
       "        vertical-align: middle;\n",
       "    }\n",
       "\n",
       "    .dataframe tbody tr th {\n",
       "        vertical-align: top;\n",
       "    }\n",
       "\n",
       "    .dataframe thead th {\n",
       "        text-align: right;\n",
       "    }\n",
       "</style>\n",
       "<table border=\"1\" class=\"dataframe\">\n",
       "  <thead>\n",
       "    <tr style=\"text-align: right;\">\n",
       "      <th></th>\n",
       "      <th>items</th>\n",
       "      <th>nic</th>\n",
       "      <th>act_cost</th>\n",
       "      <th>quantity</th>\n",
       "    </tr>\n",
       "  </thead>\n",
       "  <tbody>\n",
       "    <tr>\n",
       "      <th>count</th>\n",
       "      <td>973193.000000</td>\n",
       "      <td>973193.000000</td>\n",
       "      <td>973193.000000</td>\n",
       "      <td>973193.000000</td>\n",
       "    </tr>\n",
       "    <tr>\n",
       "      <th>mean</th>\n",
       "      <td>9.133136</td>\n",
       "      <td>73.058915</td>\n",
       "      <td>67.986613</td>\n",
       "      <td>741.329835</td>\n",
       "    </tr>\n",
       "    <tr>\n",
       "      <th>std</th>\n",
       "      <td>29.204198</td>\n",
       "      <td>188.070257</td>\n",
       "      <td>174.401703</td>\n",
       "      <td>3665.426958</td>\n",
       "    </tr>\n",
       "    <tr>\n",
       "      <th>min</th>\n",
       "      <td>1.000000</td>\n",
       "      <td>0.000000</td>\n",
       "      <td>0.040000</td>\n",
       "      <td>0.000000</td>\n",
       "    </tr>\n",
       "    <tr>\n",
       "      <th>25%</th>\n",
       "      <td>1.000000</td>\n",
       "      <td>7.800000</td>\n",
       "      <td>7.330000</td>\n",
       "      <td>28.000000</td>\n",
       "    </tr>\n",
       "    <tr>\n",
       "      <th>50%</th>\n",
       "      <td>2.000000</td>\n",
       "      <td>22.640000</td>\n",
       "      <td>21.220000</td>\n",
       "      <td>100.000000</td>\n",
       "    </tr>\n",
       "    <tr>\n",
       "      <th>75%</th>\n",
       "      <td>6.000000</td>\n",
       "      <td>65.000000</td>\n",
       "      <td>60.670000</td>\n",
       "      <td>350.000000</td>\n",
       "    </tr>\n",
       "    <tr>\n",
       "      <th>max</th>\n",
       "      <td>2384.000000</td>\n",
       "      <td>16320.000000</td>\n",
       "      <td>15108.320000</td>\n",
       "      <td>577720.000000</td>\n",
       "    </tr>\n",
       "  </tbody>\n",
       "</table>\n",
       "</div>"
      ],
      "text/plain": [
       "               items            nic       act_cost       quantity\n",
       "count  973193.000000  973193.000000  973193.000000  973193.000000\n",
       "mean        9.133136      73.058915      67.986613     741.329835\n",
       "std        29.204198     188.070257     174.401703    3665.426958\n",
       "min         1.000000       0.000000       0.040000       0.000000\n",
       "25%         1.000000       7.800000       7.330000      28.000000\n",
       "50%         2.000000      22.640000      21.220000     100.000000\n",
       "75%         6.000000      65.000000      60.670000     350.000000\n",
       "max      2384.000000   16320.000000   15108.320000  577720.000000"
      ]
     },
     "execution_count": 50,
     "metadata": {},
     "output_type": "execute_result"
    }
   ],
   "source": [
    "scripts.describe()"
   ]
  },
  {
   "cell_type": "code",
   "execution_count": 51,
   "metadata": {},
   "outputs": [
    {
     "data": {
      "text/plain": [
       "count    973193.000000\n",
       "mean          9.133136\n",
       "std          29.204198\n",
       "min           1.000000\n",
       "25%           1.000000\n",
       "50%           2.000000\n",
       "75%           6.000000\n",
       "max        2384.000000\n",
       "Name: items, dtype: float64"
      ]
     },
     "execution_count": 51,
     "metadata": {},
     "output_type": "execute_result"
    }
   ],
   "source": [
    "scripts['items'].describe()"
   ]
  },
  {
   "cell_type": "code",
   "execution_count": 52,
   "metadata": {},
   "outputs": [
    {
     "data": {
      "text/plain": [
       "174.40161372016178"
      ]
     },
     "execution_count": 52,
     "metadata": {},
     "output_type": "execute_result"
    }
   ],
   "source": [
    "np.std(scripts['act_cost'])"
   ]
  },
  {
   "cell_type": "code",
   "execution_count": 53,
   "metadata": {},
   "outputs": [],
   "source": [
    "aa=scripts['items'].describe().tolist()\n",
    "aa[0]=np.sum(scripts['items'])\n",
    "i=tuple(aa[:3]+aa[4:7])\n",
    "\n",
    "aa=scripts['quantity'].describe().tolist()\n",
    "aa[0]=np.sum(scripts['quantity'])\n",
    "q=tuple(aa[0:3]+aa[4:7])\n",
    "\n",
    "aa=scripts['nic'].describe().tolist()\n",
    "aa[0]=np.sum(scripts['nic'])\n",
    "n=tuple(aa[0:3]+aa[4:7])\n",
    "\n",
    "aa=scripts['act_cost'].describe().tolist()\n",
    "aa[0]=np.sum(scripts['act_cost'])\n",
    "a=tuple(aa[0:3]+aa[4:7])"
   ]
  },
  {
   "cell_type": "code",
   "execution_count": 54,
   "metadata": {},
   "outputs": [],
   "source": [
    "summary_stats = [('items', i),\n",
    "           ('quantity', q),\n",
    "           ('nic',n),\n",
    "           ('act_cost',a)]"
   ]
  },
  {
   "cell_type": "code",
   "execution_count": 55,
   "metadata": {},
   "outputs": [
    {
     "data": {
      "text/plain": [
       "[('items', (8888304, 9.133135976111625, 29.204198282803603, 1.0, 2.0, 6.0)),\n",
       " ('quantity',\n",
       "  (721457006, 741.3298348837282, 3665.426958467915, 28.0, 100.0, 350.0)),\n",
       " ('nic',\n",
       "  (71100424.84000002, 73.05891517920908, 188.070256906825, 7.8, 22.64, 65.0)),\n",
       " ('act_cost',\n",
       "  (66164096.11999999,\n",
       "   67.98661326170655,\n",
       "   174.40170332301963,\n",
       "   7.33,\n",
       "   21.22,\n",
       "   60.67))]"
      ]
     },
     "execution_count": 55,
     "metadata": {},
     "output_type": "execute_result"
    }
   ],
   "source": [
    "summary_stats "
   ]
  },
  {
   "cell_type": "code",
   "execution_count": 56,
   "metadata": {},
   "outputs": [
    {
     "name": "stdout",
     "output_type": "stream",
     "text": [
      "==================\n",
      "Your score:  1.0\n",
      "==================\n"
     ]
    }
   ],
   "source": [
    "grader.score.dw__summary_statistics(summary_stats)"
   ]
  },
  {
   "cell_type": "markdown",
   "metadata": {},
   "source": [
    "## Question 2: most_common_item\n",
    "\n",
    "We can also easily compute summary statistics on groups within the data. In the `pw` miniproject we had to explicitly construct the groups based on the values of a particular field. Pandas will handle that for us via the `groupby` method. This process is [detailed in the Pandas documentation](https://pandas.pydata.org/pandas-docs/stable/groupby.html).\n",
    "\n",
    "Use `groupby` to calculate the total number of items dispensed for each `'bnf_name'`. Find the item with the highest total and return the result as `[(bnf_name, total)]`."
   ]
  },
  {
   "cell_type": "code",
   "execution_count": 57,
   "metadata": {},
   "outputs": [
    {
     "data": {
      "text/plain": [
       "bnf_name\n",
       "365 Film 10cm x 12cm VP Adh Film Dress      2\n",
       "365 Non Adherent 10cm x 10cm Pfa Plas Fa    3\n",
       "365 Non Adherent 10cm x 20cm Pfa Plas Fa    1\n",
       "365 Non Woven Island 8cm x 10cm Adh Dres    1\n",
       "365 Transpt Island 5cm x 7.2cm VP Adh Fi    2\n",
       "Name: items, dtype: int64"
      ]
     },
     "execution_count": 57,
     "metadata": {},
     "output_type": "execute_result"
    }
   ],
   "source": [
    "group_bnf=scripts.groupby('bnf_name')['items'].sum()\n",
    "group_bnf.head()"
   ]
  },
  {
   "cell_type": "code",
   "execution_count": 58,
   "metadata": {},
   "outputs": [],
   "source": [
    "#total=max_item.max()\n",
    "#total"
   ]
  },
  {
   "cell_type": "code",
   "execution_count": 59,
   "metadata": {},
   "outputs": [],
   "source": [
    "#aah=max_item[max_item.values==total]"
   ]
  },
  {
   "cell_type": "code",
   "execution_count": 60,
   "metadata": {},
   "outputs": [],
   "source": [
    "#aah[:1]"
   ]
  },
  {
   "cell_type": "code",
   "execution_count": 61,
   "metadata": {},
   "outputs": [],
   "source": [
    "m=max(group_bnf)\n",
    "for i in range(len(group_bnf)):\n",
    "    a=group_bnf[i]\n",
    "    n=group_bnf.index[i]\n",
    "    if a==m:\n",
    "        t=tuple()\n",
    "        t=n,a"
   ]
  },
  {
   "cell_type": "code",
   "execution_count": 62,
   "metadata": {},
   "outputs": [
    {
     "name": "stdout",
     "output_type": "stream",
     "text": [
      "('Omeprazole_Cap E/C 20mg', 218583)\n"
     ]
    }
   ],
   "source": [
    "print(t)\n",
    "most_common_item = list()\n",
    "most_common_item.append(t)"
   ]
  },
  {
   "cell_type": "code",
   "execution_count": 63,
   "metadata": {},
   "outputs": [],
   "source": [
    "#most_common_item = [('0206020A0', 121.93611)]"
   ]
  },
  {
   "cell_type": "code",
   "execution_count": 64,
   "metadata": {},
   "outputs": [
    {
     "name": "stdout",
     "output_type": "stream",
     "text": [
      "==================\n",
      "Your score:  1.0\n",
      "==================\n"
     ]
    }
   ],
   "source": [
    "grader.score.dw__most_common_item(most_common_item)"
   ]
  },
  {
   "cell_type": "markdown",
   "metadata": {},
   "source": [
    "## Question 3: items_by_region\n",
    "\n",
    "Now let's find the most common item by post code. The post code information is in the `practices` DataFrame, and we'll need to `merge` it into the `scripts` DataFrame. Pandas provides [extensive documentation](https://pandas.pydata.org/pandas-docs/stable/merging.html) with diagrammed examples on different methods and approaches for joining data. The `merge` method is only one of many possible options.\n",
    "\n",
    "Return your results as a list of tuples `(post code, item name, amount dispensed as % of total)`. Sort your results ascending alphabetically by post code and take only results from the first 100 post codes.\n",
    "\n",
    "**NOTE:** Some practices have multiple postal codes associated with them. Use the alphabetically first postal code. Note some postal codes may have multiple `'bnf_name'` with the same prescription rate for the maximum. In this case, take the alphabetically first `'bnf_name'` (as in the PW miniproject)."
   ]
  },
  {
   "cell_type": "code",
   "execution_count": 65,
   "metadata": {},
   "outputs": [
    {
     "data": {
      "text/plain": [
       "practice  bnf_name                                \n",
       "A81005    3m Health Care_Cavilon Durable Barrier C    1\n",
       "          3m Health Care_Cavilon No Sting Barrier     1\n",
       "          Acetic Acid_Ear Spy 2% 5ml                  1\n",
       "          Acetylcy_Inj 200mg/ml 10ml Amp              1\n",
       "          Aciclovir_Crm 5%                            3\n",
       "Name: items, dtype: int64"
      ]
     },
     "execution_count": 65,
     "metadata": {},
     "output_type": "execute_result"
    }
   ],
   "source": [
    "group_practice = scripts.groupby(['practice','bnf_name'])['items'].sum()\n",
    "group_practice.head()"
   ]
  },
  {
   "cell_type": "code",
   "execution_count": 66,
   "metadata": {},
   "outputs": [
    {
     "data": {
      "text/plain": [
       "856"
      ]
     },
     "execution_count": 66,
     "metadata": {},
     "output_type": "execute_result"
    }
   ],
   "source": [
    "L=scripts['practice'].unique()\n",
    "L.sort()\n",
    "len(L)"
   ]
  },
  {
   "cell_type": "code",
   "execution_count": 67,
   "metadata": {},
   "outputs": [],
   "source": [
    "prac_2= practices.sort_values('post_code')"
   ]
  },
  {
   "cell_type": "code",
   "execution_count": 68,
   "metadata": {},
   "outputs": [],
   "source": [
    "prac = prac_2[prac_2['code'] =='E82060']"
   ]
  },
  {
   "cell_type": "code",
   "execution_count": 69,
   "metadata": {},
   "outputs": [
    {
     "data": {
      "text/plain": [
       "code\n",
       "A81001    TS18 1HU\n",
       "A81002    TS18 2AW\n",
       "A81003    TS25 1QU\n",
       "A81004     TS1 3BE\n",
       "A81005    TS14 7DJ\n",
       "Name: post_code, dtype: object"
      ]
     },
     "execution_count": 69,
     "metadata": {},
     "output_type": "execute_result"
    }
   ],
   "source": [
    "group_par = prac_2.groupby('code')['post_code'].min()\n",
    "group_par.head()"
   ]
  },
  {
   "cell_type": "code",
   "execution_count": 70,
   "metadata": {},
   "outputs": [],
   "source": [
    "D = dict()\n",
    "for key in L:\n",
    "    D[key] = group_par[key]"
   ]
  },
  {
   "cell_type": "code",
   "execution_count": 71,
   "metadata": {},
   "outputs": [],
   "source": [
    "df = pd.DataFrame()\n",
    "list_index = list()\n",
    "list_post_code = list()\n",
    "for i in scripts.index:\n",
    "    list_index.append(i)\n",
    "    #a = scripts['practice'][i]\n",
    "    list_post_code.append(D[scripts['practice'][i]])"
   ]
  },
  {
   "cell_type": "code",
   "execution_count": 72,
   "metadata": {},
   "outputs": [],
   "source": [
    "scripts['post_code']=list_post_code"
   ]
  },
  {
   "cell_type": "code",
   "execution_count": null,
   "metadata": {},
   "outputs": [],
   "source": []
  },
  {
   "cell_type": "code",
   "execution_count": 73,
   "metadata": {},
   "outputs": [
    {
     "data": {
      "text/plain": [
       "post_code  bnf_name                                \n",
       "B11 4BW    3m Health Care_Cavilon Durable Barrier C     7\n",
       "           3m Health Care_Cavilon No Sting Barrier      2\n",
       "           Abasaglar KwikPen_100u/ml 3ml Pf Pen         2\n",
       "           Abidec_Dps                                  63\n",
       "           Able Spacer + Sml/Med Mask                   1\n",
       "Name: items, dtype: int64"
      ]
     },
     "execution_count": 73,
     "metadata": {},
     "output_type": "execute_result"
    }
   ],
   "source": [
    "group_scripts_post_bnf = scripts.groupby(['post_code','bnf_name'])['items'].sum()\n",
    "group_scripts_post_bnf.head()"
   ]
  },
  {
   "cell_type": "code",
   "execution_count": 74,
   "metadata": {},
   "outputs": [
    {
     "name": "stdout",
     "output_type": "stream",
     "text": [
      "       practice   bnf_code    bnf_name  items     nic  act_cost  quantity  \\\n",
      "530007   M85078  090607000  Abidec_Dps     41  203.13    188.56      1525   \n",
      "533173   M85774  090607000  Abidec_Dps      5   23.31     21.65       175   \n",
      "534179   Y02620  090607000  Abidec_Dps     17   56.61     52.62       425   \n",
      "\n",
      "       post_code  \n",
      "530007   B11 4BW  \n",
      "533173   B11 4BW  \n",
      "534179   B11 4BW  \n"
     ]
    }
   ],
   "source": [
    "bb = scripts[(scripts['post_code'] == 'B11 4BW') & (scripts['bnf_name']=='Abidec_Dps')]\n",
    "print(bb)"
   ]
  },
  {
   "cell_type": "code",
   "execution_count": 75,
   "metadata": {},
   "outputs": [
    {
     "data": {
      "text/html": [
       "<div>\n",
       "<style scoped>\n",
       "    .dataframe tbody tr th:only-of-type {\n",
       "        vertical-align: middle;\n",
       "    }\n",
       "\n",
       "    .dataframe tbody tr th {\n",
       "        vertical-align: top;\n",
       "    }\n",
       "\n",
       "    .dataframe thead th {\n",
       "        text-align: right;\n",
       "    }\n",
       "</style>\n",
       "<table border=\"1\" class=\"dataframe\">\n",
       "  <thead>\n",
       "    <tr style=\"text-align: right;\">\n",
       "      <th></th>\n",
       "      <th>bnf_name</th>\n",
       "      <th>things</th>\n",
       "    </tr>\n",
       "    <tr>\n",
       "      <th>post_code</th>\n",
       "      <th></th>\n",
       "      <th></th>\n",
       "    </tr>\n",
       "  </thead>\n",
       "  <tbody>\n",
       "    <tr>\n",
       "      <th>B11 4BW</th>\n",
       "      <td>3m Health Care_Cavilon Durable Barrier C</td>\n",
       "      <td>7</td>\n",
       "    </tr>\n",
       "    <tr>\n",
       "      <th>B11 4BW</th>\n",
       "      <td>3m Health Care_Cavilon No Sting Barrier</td>\n",
       "      <td>2</td>\n",
       "    </tr>\n",
       "    <tr>\n",
       "      <th>B11 4BW</th>\n",
       "      <td>Abasaglar KwikPen_100u/ml 3ml Pf Pen</td>\n",
       "      <td>2</td>\n",
       "    </tr>\n",
       "    <tr>\n",
       "      <th>B11 4BW</th>\n",
       "      <td>Abidec_Dps</td>\n",
       "      <td>63</td>\n",
       "    </tr>\n",
       "    <tr>\n",
       "      <th>B11 4BW</th>\n",
       "      <td>Able Spacer + Sml/Med Mask</td>\n",
       "      <td>1</td>\n",
       "    </tr>\n",
       "  </tbody>\n",
       "</table>\n",
       "</div>"
      ],
      "text/plain": [
       "                                           bnf_name  things\n",
       "post_code                                                  \n",
       "B11 4BW    3m Health Care_Cavilon Durable Barrier C       7\n",
       "B11 4BW     3m Health Care_Cavilon No Sting Barrier       2\n",
       "B11 4BW        Abasaglar KwikPen_100u/ml 3ml Pf Pen       2\n",
       "B11 4BW                                  Abidec_Dps      63\n",
       "B11 4BW                  Able Spacer + Sml/Med Mask       1"
      ]
     },
     "execution_count": 75,
     "metadata": {},
     "output_type": "execute_result"
    }
   ],
   "source": [
    "df=pd.DataFrame(group_scripts_post_bnf)\n",
    "df.rename(columns={'items':'things'},inplace=True)\n",
    "df =df.reset_index(level='bnf_name')\n",
    "df.head()"
   ]
  },
  {
   "cell_type": "code",
   "execution_count": 76,
   "metadata": {},
   "outputs": [],
   "source": [
    "gg = df.groupby('post_code')['things'].max()"
   ]
  },
  {
   "cell_type": "code",
   "execution_count": 77,
   "metadata": {},
   "outputs": [],
   "source": [
    "GG =gg[:100]\n",
    "aa = df[(df['things'] == 706) & (df.index=='B11 4BW')]"
   ]
  },
  {
   "cell_type": "code",
   "execution_count": 78,
   "metadata": {},
   "outputs": [],
   "source": [
    "list_tuple = list()\n",
    "for i in range(100):\n",
    "    t=tuple()\n",
    "    x = GG[i]\n",
    "    y = GG.index[i]\n",
    "    aa = df[(df['things'] == x) & (df.index==y)]\n",
    "    t=y,aa['bnf_name'][0],x\n",
    "    list_tuple.append(t)"
   ]
  },
  {
   "cell_type": "code",
   "execution_count": 79,
   "metadata": {},
   "outputs": [],
   "source": [
    "group_scripts_post = scripts.groupby('post_code')['items'].sum()\n",
    "group_scripts_post_100=group_scripts_post[:100]"
   ]
  },
  {
   "cell_type": "code",
   "execution_count": 80,
   "metadata": {},
   "outputs": [],
   "source": [
    "items_by_region = list()\n",
    "\n",
    "for i in range(100):\n",
    "    t = tuple()\n",
    "    x,y,z = list_tuple[i]\n",
    "    z2 = z/float(group_scripts_post_100[i])\n",
    "    t = x,y,z2\n",
    "    items_by_region.append(t)"
   ]
  },
  {
   "cell_type": "code",
   "execution_count": 81,
   "metadata": {},
   "outputs": [],
   "source": [
    "#items_by_region = [(\"B11 4BW\", \"Salbutamol_Inha 100mcg (200 D) CFF\", 0.0310589063)] * 100"
   ]
  },
  {
   "cell_type": "code",
   "execution_count": 82,
   "metadata": {},
   "outputs": [
    {
     "name": "stdout",
     "output_type": "stream",
     "text": [
      "==================\n",
      "Your score:  1.0\n",
      "==================\n"
     ]
    }
   ],
   "source": [
    "grader.score.dw__items_by_region(items_by_region)"
   ]
  },
  {
   "cell_type": "markdown",
   "metadata": {},
   "source": [
    "## Question 4: script_anomalies\n",
    "\n",
    "Drug abuse is a source of human and monetary costs in health care. A first step in identifying practitioners that enable drug abuse is to look for practices where commonly abused drugs are prescribed unusually often. Let's try to find practices that prescribe an unusually high amount of opioids. The opioids we'll look for are given in the list below."
   ]
  },
  {
   "cell_type": "code",
   "execution_count": 83,
   "metadata": {},
   "outputs": [],
   "source": [
    "opioids = ['morphine', 'oxycodone', 'methadone', 'fentanyl', 'pethidine', 'buprenorphine', 'propoxyphene', 'codeine']"
   ]
  },
  {
   "cell_type": "code",
   "execution_count": 82,
   "metadata": {},
   "outputs": [
    {
     "data": {
      "text/plain": [
       "8"
      ]
     },
     "execution_count": 82,
     "metadata": {},
     "output_type": "execute_result"
    }
   ],
   "source": [
    "len(opioids)"
   ]
  },
  {
   "cell_type": "markdown",
   "metadata": {},
   "source": [
    "These are generic names for drugs, not brand names. Generic drug names can be found using the `'bnf_code'` field in `scripts` along with the `chem` table.. Use the list of opioids provided above along with these fields to make a new field in the `scripts` data that flags whether the row corresponds with a opioid prescription."
   ]
  },
  {
   "cell_type": "code",
   "execution_count": 84,
   "metadata": {},
   "outputs": [
    {
     "data": {
      "text/html": [
       "<div>\n",
       "<style scoped>\n",
       "    .dataframe tbody tr th:only-of-type {\n",
       "        vertical-align: middle;\n",
       "    }\n",
       "\n",
       "    .dataframe tbody tr th {\n",
       "        vertical-align: top;\n",
       "    }\n",
       "\n",
       "    .dataframe thead th {\n",
       "        text-align: right;\n",
       "    }\n",
       "</style>\n",
       "<table border=\"1\" class=\"dataframe\">\n",
       "  <thead>\n",
       "    <tr style=\"text-align: right;\">\n",
       "      <th></th>\n",
       "      <th>CHEM SUB</th>\n",
       "      <th>NAME</th>\n",
       "    </tr>\n",
       "  </thead>\n",
       "  <tbody>\n",
       "    <tr>\n",
       "      <th>0</th>\n",
       "      <td>0101010A0</td>\n",
       "      <td>Alexitol Sodium</td>\n",
       "    </tr>\n",
       "    <tr>\n",
       "      <th>1</th>\n",
       "      <td>0101010B0</td>\n",
       "      <td>Almasilate</td>\n",
       "    </tr>\n",
       "    <tr>\n",
       "      <th>2</th>\n",
       "      <td>0101010C0</td>\n",
       "      <td>Aluminium Hydroxide</td>\n",
       "    </tr>\n",
       "    <tr>\n",
       "      <th>3</th>\n",
       "      <td>0101010D0</td>\n",
       "      <td>Aluminium Hydroxide With Magnesium</td>\n",
       "    </tr>\n",
       "    <tr>\n",
       "      <th>4</th>\n",
       "      <td>0101010E0</td>\n",
       "      <td>Hydrotalcite</td>\n",
       "    </tr>\n",
       "  </tbody>\n",
       "</table>\n",
       "</div>"
      ],
      "text/plain": [
       "    CHEM SUB                                NAME\n",
       "0  0101010A0                     Alexitol Sodium\n",
       "1  0101010B0                          Almasilate\n",
       "2  0101010C0                 Aluminium Hydroxide\n",
       "3  0101010D0  Aluminium Hydroxide With Magnesium\n",
       "4  0101010E0                        Hydrotalcite"
      ]
     },
     "execution_count": 84,
     "metadata": {},
     "output_type": "execute_result"
    }
   ],
   "source": [
    "chem.head()"
   ]
  },
  {
   "cell_type": "code",
   "execution_count": 108,
   "metadata": {},
   "outputs": [
    {
     "data": {
      "text/plain": [
       "array(['0106020C0'], dtype=object)"
      ]
     },
     "execution_count": 108,
     "metadata": {},
     "output_type": "execute_result"
    }
   ],
   "source": [
    "chem_names=chem['CHEM SUB'].unique()\n",
    "chem_names[chem_names=='0106020C0']"
   ]
  },
  {
   "cell_type": "code",
   "execution_count": null,
   "metadata": {},
   "outputs": [],
   "source": [
    "chem_names[chem_names==opioids[1]]"
   ]
  },
  {
   "cell_type": "code",
   "execution_count": 94,
   "metadata": {},
   "outputs": [
    {
     "data": {
      "text/plain": [
       "False"
      ]
     },
     "execution_count": 94,
     "metadata": {},
     "output_type": "execute_result"
    }
   ],
   "source": [
    "matching_names=[chem_names==opioids[1]]\n"
   ]
  },
  {
   "cell_type": "code",
   "execution_count": 80,
   "metadata": {},
   "outputs": [
    {
     "data": {
      "text/html": [
       "<div>\n",
       "<style scoped>\n",
       "    .dataframe tbody tr th:only-of-type {\n",
       "        vertical-align: middle;\n",
       "    }\n",
       "\n",
       "    .dataframe tbody tr th {\n",
       "        vertical-align: top;\n",
       "    }\n",
       "\n",
       "    .dataframe thead th {\n",
       "        text-align: right;\n",
       "    }\n",
       "</style>\n",
       "<table border=\"1\" class=\"dataframe\">\n",
       "  <thead>\n",
       "    <tr style=\"text-align: right;\">\n",
       "      <th></th>\n",
       "      <th>code</th>\n",
       "      <th>name</th>\n",
       "      <th>addr_1</th>\n",
       "      <th>addr_2</th>\n",
       "      <th>borough</th>\n",
       "      <th>village</th>\n",
       "      <th>post_code</th>\n",
       "    </tr>\n",
       "  </thead>\n",
       "  <tbody>\n",
       "    <tr>\n",
       "      <th>0</th>\n",
       "      <td>A81002</td>\n",
       "      <td>QUEENS PARK MEDICAL CENTRE</td>\n",
       "      <td>QUEENS PARK MEDICAL CTR</td>\n",
       "      <td>FARRER STREET</td>\n",
       "      <td>STOCKTON ON TEES</td>\n",
       "      <td>CLEVELAND</td>\n",
       "      <td>TS18 2AW</td>\n",
       "    </tr>\n",
       "    <tr>\n",
       "      <th>1</th>\n",
       "      <td>A81003</td>\n",
       "      <td>VICTORIA MEDICAL PRACTICE</td>\n",
       "      <td>THE HEALTH CENTRE</td>\n",
       "      <td>VICTORIA ROAD</td>\n",
       "      <td>HARTLEPOOL</td>\n",
       "      <td>CLEVELAND</td>\n",
       "      <td>TS26 8DB</td>\n",
       "    </tr>\n",
       "    <tr>\n",
       "      <th>2</th>\n",
       "      <td>A81004</td>\n",
       "      <td>WOODLANDS ROAD SURGERY</td>\n",
       "      <td>6 WOODLANDS ROAD</td>\n",
       "      <td>NaN</td>\n",
       "      <td>MIDDLESBROUGH</td>\n",
       "      <td>CLEVELAND</td>\n",
       "      <td>TS1 3BE</td>\n",
       "    </tr>\n",
       "    <tr>\n",
       "      <th>3</th>\n",
       "      <td>A81005</td>\n",
       "      <td>SPRINGWOOD SURGERY</td>\n",
       "      <td>SPRINGWOOD SURGERY</td>\n",
       "      <td>RECTORY LANE</td>\n",
       "      <td>GUISBOROUGH</td>\n",
       "      <td>NaN</td>\n",
       "      <td>TS14 7DJ</td>\n",
       "    </tr>\n",
       "    <tr>\n",
       "      <th>4</th>\n",
       "      <td>A81006</td>\n",
       "      <td>TENNANT STREET MEDICAL PRACTICE</td>\n",
       "      <td>TENNANT ST MED PRACT</td>\n",
       "      <td>FARRER STREET</td>\n",
       "      <td>STOCKTON ON TEES</td>\n",
       "      <td>CLEVELAND</td>\n",
       "      <td>TS18 2AT</td>\n",
       "    </tr>\n",
       "  </tbody>\n",
       "</table>\n",
       "</div>"
      ],
      "text/plain": [
       "     code                             name                   addr_1  \\\n",
       "0  A81002       QUEENS PARK MEDICAL CENTRE  QUEENS PARK MEDICAL CTR   \n",
       "1  A81003        VICTORIA MEDICAL PRACTICE        THE HEALTH CENTRE   \n",
       "2  A81004           WOODLANDS ROAD SURGERY         6 WOODLANDS ROAD   \n",
       "3  A81005               SPRINGWOOD SURGERY       SPRINGWOOD SURGERY   \n",
       "4  A81006  TENNANT STREET MEDICAL PRACTICE     TENNANT ST MED PRACT   \n",
       "\n",
       "          addr_2           borough    village post_code  \n",
       "0  FARRER STREET  STOCKTON ON TEES  CLEVELAND  TS18 2AW  \n",
       "1  VICTORIA ROAD        HARTLEPOOL  CLEVELAND  TS26 8DB  \n",
       "2            NaN     MIDDLESBROUGH  CLEVELAND   TS1 3BE  \n",
       "3   RECTORY LANE       GUISBOROUGH        NaN  TS14 7DJ  \n",
       "4  FARRER STREET  STOCKTON ON TEES  CLEVELAND  TS18 2AT  "
      ]
     },
     "execution_count": 80,
     "metadata": {},
     "output_type": "execute_result"
    }
   ],
   "source": [
    "practices.head()"
   ]
  },
  {
   "cell_type": "code",
   "execution_count": 73,
   "metadata": {},
   "outputs": [
    {
     "data": {
      "text/html": [
       "<div>\n",
       "<style scoped>\n",
       "    .dataframe tbody tr th:only-of-type {\n",
       "        vertical-align: middle;\n",
       "    }\n",
       "\n",
       "    .dataframe tbody tr th {\n",
       "        vertical-align: top;\n",
       "    }\n",
       "\n",
       "    .dataframe thead th {\n",
       "        text-align: right;\n",
       "    }\n",
       "</style>\n",
       "<table border=\"1\" class=\"dataframe\">\n",
       "  <thead>\n",
       "    <tr style=\"text-align: right;\">\n",
       "      <th></th>\n",
       "      <th>practice</th>\n",
       "      <th>bnf_code</th>\n",
       "      <th>bnf_name</th>\n",
       "      <th>items</th>\n",
       "      <th>nic</th>\n",
       "      <th>act_cost</th>\n",
       "      <th>quantity</th>\n",
       "      <th>post_code</th>\n",
       "    </tr>\n",
       "  </thead>\n",
       "  <tbody>\n",
       "    <tr>\n",
       "      <th>0</th>\n",
       "      <td>N85639</td>\n",
       "      <td>0106020C0</td>\n",
       "      <td>Bisacodyl_Tab E/C 5mg</td>\n",
       "      <td>1</td>\n",
       "      <td>0.39</td>\n",
       "      <td>0.47</td>\n",
       "      <td>12</td>\n",
       "      <td>CH44 5UF</td>\n",
       "    </tr>\n",
       "    <tr>\n",
       "      <th>1</th>\n",
       "      <td>N85639</td>\n",
       "      <td>0106040M0</td>\n",
       "      <td>Movicol Plain_Paed Pdr Sach 6.9g</td>\n",
       "      <td>1</td>\n",
       "      <td>4.38</td>\n",
       "      <td>4.07</td>\n",
       "      <td>30</td>\n",
       "      <td>CH44 5UF</td>\n",
       "    </tr>\n",
       "    <tr>\n",
       "      <th>2</th>\n",
       "      <td>N85639</td>\n",
       "      <td>0301011R0</td>\n",
       "      <td>Salbutamol_Inha 100mcg (200 D) CFF</td>\n",
       "      <td>1</td>\n",
       "      <td>1.50</td>\n",
       "      <td>1.40</td>\n",
       "      <td>1</td>\n",
       "      <td>CH44 5UF</td>\n",
       "    </tr>\n",
       "    <tr>\n",
       "      <th>3</th>\n",
       "      <td>N85639</td>\n",
       "      <td>0304010G0</td>\n",
       "      <td>Chlorphenamine Mal_Oral Soln 2mg/5ml</td>\n",
       "      <td>1</td>\n",
       "      <td>2.62</td>\n",
       "      <td>2.44</td>\n",
       "      <td>150</td>\n",
       "      <td>CH44 5UF</td>\n",
       "    </tr>\n",
       "    <tr>\n",
       "      <th>4</th>\n",
       "      <td>N85639</td>\n",
       "      <td>0401020K0</td>\n",
       "      <td>Diazepam_Tab 2mg</td>\n",
       "      <td>1</td>\n",
       "      <td>0.16</td>\n",
       "      <td>0.26</td>\n",
       "      <td>6</td>\n",
       "      <td>CH44 5UF</td>\n",
       "    </tr>\n",
       "  </tbody>\n",
       "</table>\n",
       "</div>"
      ],
      "text/plain": [
       "  practice   bnf_code                              bnf_name  items   nic  \\\n",
       "0   N85639  0106020C0                 Bisacodyl_Tab E/C 5mg      1  0.39   \n",
       "1   N85639  0106040M0      Movicol Plain_Paed Pdr Sach 6.9g      1  4.38   \n",
       "2   N85639  0301011R0    Salbutamol_Inha 100mcg (200 D) CFF      1  1.50   \n",
       "3   N85639  0304010G0  Chlorphenamine Mal_Oral Soln 2mg/5ml      1  2.62   \n",
       "4   N85639  0401020K0                      Diazepam_Tab 2mg      1  0.16   \n",
       "\n",
       "   act_cost  quantity post_code  \n",
       "0      0.47        12  CH44 5UF  \n",
       "1      4.07        30  CH44 5UF  \n",
       "2      1.40         1  CH44 5UF  \n",
       "3      2.44       150  CH44 5UF  \n",
       "4      0.26         6  CH44 5UF  "
      ]
     },
     "execution_count": 73,
     "metadata": {},
     "output_type": "execute_result"
    }
   ],
   "source": [
    "scripts.head()"
   ]
  },
  {
   "cell_type": "code",
   "execution_count": 71,
   "metadata": {},
   "outputs": [
    {
     "data": {
      "text/plain": [
       "856"
      ]
     },
     "execution_count": 71,
     "metadata": {},
     "output_type": "execute_result"
    }
   ],
   "source": [
    "len(scripts.practice.unique())"
   ]
  },
  {
   "cell_type": "code",
   "execution_count": null,
   "metadata": {},
   "outputs": [],
   "source": [
    "chem."
   ]
  },
  {
   "cell_type": "code",
   "execution_count": 44,
   "metadata": {},
   "outputs": [
    {
     "data": {
      "text/plain": [
       "(array(['Bisacodyl_Tab E/C 5mg', 'Movicol Plain_Paed Pdr Sach 6.9g',\n",
       "        'Salbutamol_Inha 100mcg (200 D) CFF', ...,\n",
       "        'Milex Slc Arcing-Arcing Spring(TypeC)Vag', 'R1 Gel 6g Sach',\n",
       "        'R2 Lot 1g Sach'], dtype=object),\n",
       " ['morphine',\n",
       "  'oxycodone',\n",
       "  'methadone',\n",
       "  'fentanyl',\n",
       "  'pethidine',\n",
       "  'buprenorphine',\n",
       "  'propoxyphene',\n",
       "  'codeine'])"
      ]
     },
     "execution_count": 44,
     "metadata": {},
     "output_type": "execute_result"
    }
   ],
   "source": [
    "(scripts['bnf_name'].unique(), opioids)"
   ]
  },
  {
   "cell_type": "code",
   "execution_count": 117,
   "metadata": {},
   "outputs": [
    {
     "data": {
      "text/plain": [
       "{'Bisacodyl_Tab E/C 5mg': 'morphine',\n",
       " 'Movicol Plain_Paed Pdr Sach 6.9g': 'oxycodone',\n",
       " 'Salbutamol_Inha 100mcg (200 D) CFF': 'methadone',\n",
       " 'Chlorphenamine Mal_Oral Soln 2mg/5ml': 'fentanyl',\n",
       " 'Diazepam_Tab 2mg': 'pethidine',\n",
       " 'Prochlpzine Mal_Tab 5mg': 'buprenorphine',\n",
       " 'Co-Codamol_Cap 30mg/500mg': 'propoxyphene',\n",
       " 'Zapain_Tab 30mg/500mg': 'codeine'}"
      ]
     },
     "execution_count": 117,
     "metadata": {},
     "output_type": "execute_result"
    }
   ],
   "source": [
    "state_abbr = dict(zip(scripts['bnf_name'].unique(), opioids))"
   ]
  },
  {
   "cell_type": "code",
   "execution_count": 106,
   "metadata": {},
   "outputs": [
    {
     "data": {
      "text/html": [
       "<div>\n",
       "<style scoped>\n",
       "    .dataframe tbody tr th:only-of-type {\n",
       "        vertical-align: middle;\n",
       "    }\n",
       "\n",
       "    .dataframe tbody tr th {\n",
       "        vertical-align: top;\n",
       "    }\n",
       "\n",
       "    .dataframe thead th {\n",
       "        text-align: right;\n",
       "    }\n",
       "</style>\n",
       "<table border=\"1\" class=\"dataframe\">\n",
       "  <thead>\n",
       "    <tr style=\"text-align: right;\">\n",
       "      <th></th>\n",
       "      <th>practice</th>\n",
       "      <th>bnf_code</th>\n",
       "      <th>bnf_name</th>\n",
       "      <th>items</th>\n",
       "      <th>nic</th>\n",
       "      <th>act_cost</th>\n",
       "      <th>quantity</th>\n",
       "      <th>post_code</th>\n",
       "    </tr>\n",
       "  </thead>\n",
       "  <tbody>\n",
       "    <tr>\n",
       "      <th>0</th>\n",
       "      <td>N85639</td>\n",
       "      <td>0106020C0</td>\n",
       "      <td>Bisacodyl_Tab E/C 5mg</td>\n",
       "      <td>1</td>\n",
       "      <td>0.39</td>\n",
       "      <td>0.47</td>\n",
       "      <td>12</td>\n",
       "      <td>CH44 5UF</td>\n",
       "    </tr>\n",
       "    <tr>\n",
       "      <th>93</th>\n",
       "      <td>N81013</td>\n",
       "      <td>0106020C0</td>\n",
       "      <td>Bisacodyl_Tab E/C 5mg</td>\n",
       "      <td>19</td>\n",
       "      <td>28.10</td>\n",
       "      <td>28.14</td>\n",
       "      <td>860</td>\n",
       "      <td>SK11 6JL</td>\n",
       "    </tr>\n",
       "    <tr>\n",
       "      <th>1579</th>\n",
       "      <td>N81029</td>\n",
       "      <td>0106020C0</td>\n",
       "      <td>Bisacodyl_Tab E/C 5mg</td>\n",
       "      <td>50</td>\n",
       "      <td>67.73</td>\n",
       "      <td>67.51</td>\n",
       "      <td>2074</td>\n",
       "      <td>SK11 6JL</td>\n",
       "    </tr>\n",
       "    <tr>\n",
       "      <th>3392</th>\n",
       "      <td>N81062</td>\n",
       "      <td>0106020C0</td>\n",
       "      <td>Bisacodyl_Tab E/C 5mg</td>\n",
       "      <td>40</td>\n",
       "      <td>50.43</td>\n",
       "      <td>50.69</td>\n",
       "      <td>1544</td>\n",
       "      <td>SK11 6JL</td>\n",
       "    </tr>\n",
       "    <tr>\n",
       "      <th>5424</th>\n",
       "      <td>N81085</td>\n",
       "      <td>0106020C0</td>\n",
       "      <td>Bisacodyl_Tab E/C 5mg</td>\n",
       "      <td>35</td>\n",
       "      <td>43.42</td>\n",
       "      <td>43.83</td>\n",
       "      <td>1328</td>\n",
       "      <td>SK11 6JL</td>\n",
       "    </tr>\n",
       "  </tbody>\n",
       "</table>\n",
       "</div>"
      ],
      "text/plain": [
       "     practice   bnf_code               bnf_name  items    nic  act_cost  \\\n",
       "0      N85639  0106020C0  Bisacodyl_Tab E/C 5mg      1   0.39      0.47   \n",
       "93     N81013  0106020C0  Bisacodyl_Tab E/C 5mg     19  28.10     28.14   \n",
       "1579   N81029  0106020C0  Bisacodyl_Tab E/C 5mg     50  67.73     67.51   \n",
       "3392   N81062  0106020C0  Bisacodyl_Tab E/C 5mg     40  50.43     50.69   \n",
       "5424   N81085  0106020C0  Bisacodyl_Tab E/C 5mg     35  43.42     43.83   \n",
       "\n",
       "      quantity post_code  \n",
       "0           12  CH44 5UF  \n",
       "93         860  SK11 6JL  \n",
       "1579      2074  SK11 6JL  \n",
       "3392      1544  SK11 6JL  \n",
       "5424      1328  SK11 6JL  "
      ]
     },
     "execution_count": 106,
     "metadata": {},
     "output_type": "execute_result"
    }
   ],
   "source": [
    "aa = scripts[scripts['bnf_name'] == 'Bisacodyl_Tab E/C 5mg']\n",
    "aa.head()"
   ]
  },
  {
   "cell_type": "code",
   "execution_count": 111,
   "metadata": {},
   "outputs": [],
   "source": [
    "state_abbr = dict(zip(scripts['bnf_name'].unique(), opioids))"
   ]
  },
  {
   "cell_type": "code",
   "execution_count": 112,
   "metadata": {},
   "outputs": [],
   "source": [
    "dict_opioids = {key : [] for key in opioids}\n",
    "for s in opioids:\n",
    "    for el in scripts['bnf_name'].unique():\n",
    "        if s in el.lower():\n",
    "            dict_opioids[s].append(el)"
   ]
  },
  {
   "cell_type": "code",
   "execution_count": 118,
   "metadata": {
    "scrolled": true
   },
   "outputs": [
    {
     "data": {
      "text/plain": [
       "{'morphine': [],\n",
       " 'oxycodone': ['Oxycodone HCl_Oral Soln 5mg/5ml S/F',\n",
       "  'Oxycodone HCl_Cap 5mg',\n",
       "  'Oxycodone HCl_Tab 10mg M/R',\n",
       "  'Oxycodone HCl_Tab 5mg M/R',\n",
       "  'Oxycodone HCl_Tab 15mg M/R',\n",
       "  'Oxycodone HCl/NaloxoneHCl_Tab 40/20mgM/R',\n",
       "  'Oxycodone HCl_Tab 30mg M/R',\n",
       "  'Oxycodone HCl/Naloxone HCl_Tab 10/5mgM/R',\n",
       "  'Oxycodone HCl/NaloxoneHCl_Tab 5/2.5mgM/R',\n",
       "  'Oxycodone HCl/NaloxoneHCl_Tab 20/10mgM/R',\n",
       "  'Oxycodone HCl_Tab 20mg M/R',\n",
       "  'Oxycodone HCl_Oral Soln 10mg/1ml S/F',\n",
       "  'Oxycodone HCl_Inj 10mg/ml 2ml Amp',\n",
       "  'Oxycodone HCl_Inj 50mg/ml 1ml Amp',\n",
       "  'Oxycodone HCl_Cap 10mg',\n",
       "  'Oxycodone HCl_Tab 40mg M/R',\n",
       "  'Oxycodone HCl_Inj 10mg/ml 1ml Amp',\n",
       "  'Oxycodone HCl_Tab 80mg M/R',\n",
       "  'Oxycodone HCl_Cap 20mg',\n",
       "  'Oxycodone HCl_Tab 60mg M/R',\n",
       "  'Oxycodone HCl_Tab 120mg M/R'],\n",
       " 'methadone': ['Methadone HCl_Mix 1mg/1ml',\n",
       "  'Methadone HCl_Mix 1mg/1ml S/F',\n",
       "  'Methadone HCl_Tab 5mg',\n",
       "  'Methadone HCl_Oral Conc 20mg/1ml S/F',\n",
       "  'Methadone HCl_Oral Conc 10mg/1ml S/F'],\n",
       " 'fentanyl': ['Fentanyl_Transdermal Patch 12mcg/hr',\n",
       "  'Fentanyl_Transdermal Patch 37.5mcg/hr',\n",
       "  'Fentanyl_Transdermal Patch 25mcg/hr',\n",
       "  'Fentanyl_Tab Buccal 400mcg S/F',\n",
       "  'Fentanyl_Transdermal Patch 100mcg/hr',\n",
       "  'Fentanyl_Tab Buccal 100mcg S/F',\n",
       "  'Fentanyl_Transdermal Patch 50mcg/hr',\n",
       "  'Fentanyl_Loz 200mcg',\n",
       "  'Fentanyl Cit_Inj 50mcg/ml 10ml Amp',\n",
       "  'Fentanyl_Transdermal Patch 75mcg/hr',\n",
       "  'Fentanyl_Tab Buccal 200mcg S/F',\n",
       "  'Fentanyl_Loz 1.2mg',\n",
       "  'Fentanyl_Loz 400mcg',\n",
       "  'Fentanyl_Loz 800mcg',\n",
       "  'Fentanyl_Tab Buccal 800mcg S/F',\n",
       "  'Fentanyl_Tab Sublingual 400mcg S/F',\n",
       "  'Fentanyl_Loz 600mcg',\n",
       "  'Fentanyl_Tab Sublingual 100mcg S/F',\n",
       "  'Fentanyl_Loz 1.6mg',\n",
       "  'Fentanyl_Tab Buccal 600mcg S/F',\n",
       "  'Fentanyl_Tab Sublingual 200mcg S/F',\n",
       "  'Fentanyl Cit_Inj 50mcg/ml 2ml Amp',\n",
       "  'Fentanyl_Nsl Spy 100mcg (8D)',\n",
       "  'Fentanyl_Nsl Spy 200mcg/0.1ml Ud (6D)'],\n",
       " 'pethidine': ['Pethidine HCl_Inj 50mg/ml 2ml Amp',\n",
       "  'Pethidine HCl_Tab 50mg',\n",
       "  'Pethidine HCl_Inj 50mg/ml 1ml Amp'],\n",
       " 'buprenorphine': ['Buprenorphine_Tab Subling 200mcg S/F',\n",
       "  'Buprenorphine_Tab Subling 400mcg S/F',\n",
       "  'Buprenorphine_Patch 35mcg/hr (96hr)',\n",
       "  'Buprenorphine_Patch 70mcg/hr (96hr)',\n",
       "  'Buprenorphine_Tab Subling 2mg S/F',\n",
       "  'Buprenorphine_Patch 5mcg/hr (7day)',\n",
       "  'Buprenorphine_Patch 10mcg/hr (7day)',\n",
       "  'Buprenorphine_Patch 20mcg/hr (7day)',\n",
       "  'Buprenorphine_Patch 15mcg/hr (7day)',\n",
       "  'Buprenorphine_Patch 52.5mcg/hr (96hr)',\n",
       "  'Buprenorphine_Tab Subling 8mg S/F'],\n",
       " 'propoxyphene': [],\n",
       " 'codeine': ['Paracet/Dihydrocodeine_Tab 500mg/20mg',\n",
       "  'Paracet/Dihydrocodeine_Tab 500mg/30mg',\n",
       "  'Codeine Phos_Oral Soln 25mg/5ml',\n",
       "  'Codeine Phos_Tab 15mg',\n",
       "  'Codeine Phos_Tab 30mg',\n",
       "  'Dihydrocodeine Tart_Tab 30mg',\n",
       "  'Dihydrocodeine Tart_Tab 60mg M/R',\n",
       "  'Dihydrocodeine Tart_Tab 90mg M/R',\n",
       "  'Dihydrocodeine Tart_Tab 120mg M/R',\n",
       "  'Codeine Phos_Linct 15mg/5ml',\n",
       "  'Codeine Phos_Linct 15mg/5ml S/F',\n",
       "  'Dihydrocodeine Tart_Tab 40mg',\n",
       "  'Codeine Phos_Tab 60mg',\n",
       "  'Dihydrocodeine Tart_Oral Soln 10mg/5ml',\n",
       "  'Paracet/Dihydrocodeine_Tab 500mg/7.46mg',\n",
       "  'Aspirin/Codeine Phos_Tab Disper 500/8mg',\n",
       "  'Ibuprofen/Codeine Phos_Tab 200mg/12.8mg']}"
      ]
     },
     "execution_count": 118,
     "metadata": {},
     "output_type": "execute_result"
    }
   ],
   "source": [
    "dict_opioids"
   ]
  },
  {
   "cell_type": "code",
   "execution_count": 113,
   "metadata": {},
   "outputs": [],
   "source": [
    "gh = set()\n",
    "for key in dict_opioids:\n",
    "    for el in dict_opioids[key]:\n",
    "        gh.add(el)\n",
    "gh = list(gh)\n",
    "list_bnf_opioids = {i : gh[i] for i in range(len(gh))}"
   ]
  },
  {
   "cell_type": "code",
   "execution_count": 119,
   "metadata": {},
   "outputs": [
    {
     "data": {
      "text/plain": [
       "81"
      ]
     },
     "execution_count": 119,
     "metadata": {},
     "output_type": "execute_result"
    }
   ],
   "source": [
    "len(list_bnf_opioids)"
   ]
  },
  {
   "cell_type": "code",
   "execution_count": 120,
   "metadata": {},
   "outputs": [],
   "source": [
    "opioids_one_zero = list()\n",
    "for i in scripts.index:\n",
    "    if scripts['bnf_name'][i] in list_bnf_opioids.values():\n",
    "        opioids_one_zero.append(1)\n",
    "    else:\n",
    "        opioids_one_zero.append(0)"
   ]
  },
  {
   "cell_type": "code",
   "execution_count": 121,
   "metadata": {},
   "outputs": [],
   "source": [
    "scripts['opioids']=opioids_one_zero"
   ]
  },
  {
   "cell_type": "code",
   "execution_count": 122,
   "metadata": {},
   "outputs": [
    {
     "data": {
      "text/html": [
       "<div>\n",
       "<style scoped>\n",
       "    .dataframe tbody tr th:only-of-type {\n",
       "        vertical-align: middle;\n",
       "    }\n",
       "\n",
       "    .dataframe tbody tr th {\n",
       "        vertical-align: top;\n",
       "    }\n",
       "\n",
       "    .dataframe thead th {\n",
       "        text-align: right;\n",
       "    }\n",
       "</style>\n",
       "<table border=\"1\" class=\"dataframe\">\n",
       "  <thead>\n",
       "    <tr style=\"text-align: right;\">\n",
       "      <th></th>\n",
       "      <th>practice</th>\n",
       "      <th>bnf_code</th>\n",
       "      <th>bnf_name</th>\n",
       "      <th>items</th>\n",
       "      <th>nic</th>\n",
       "      <th>act_cost</th>\n",
       "      <th>quantity</th>\n",
       "      <th>post_code</th>\n",
       "      <th>opioids</th>\n",
       "    </tr>\n",
       "  </thead>\n",
       "  <tbody>\n",
       "    <tr>\n",
       "      <th>0</th>\n",
       "      <td>N85639</td>\n",
       "      <td>0106020C0</td>\n",
       "      <td>Bisacodyl_Tab E/C 5mg</td>\n",
       "      <td>1</td>\n",
       "      <td>0.39</td>\n",
       "      <td>0.47</td>\n",
       "      <td>12</td>\n",
       "      <td>CH44 5UF</td>\n",
       "      <td>0</td>\n",
       "    </tr>\n",
       "    <tr>\n",
       "      <th>1</th>\n",
       "      <td>N85639</td>\n",
       "      <td>0106040M0</td>\n",
       "      <td>Movicol Plain_Paed Pdr Sach 6.9g</td>\n",
       "      <td>1</td>\n",
       "      <td>4.38</td>\n",
       "      <td>4.07</td>\n",
       "      <td>30</td>\n",
       "      <td>CH44 5UF</td>\n",
       "      <td>0</td>\n",
       "    </tr>\n",
       "    <tr>\n",
       "      <th>2</th>\n",
       "      <td>N85639</td>\n",
       "      <td>0301011R0</td>\n",
       "      <td>Salbutamol_Inha 100mcg (200 D) CFF</td>\n",
       "      <td>1</td>\n",
       "      <td>1.50</td>\n",
       "      <td>1.40</td>\n",
       "      <td>1</td>\n",
       "      <td>CH44 5UF</td>\n",
       "      <td>0</td>\n",
       "    </tr>\n",
       "    <tr>\n",
       "      <th>3</th>\n",
       "      <td>N85639</td>\n",
       "      <td>0304010G0</td>\n",
       "      <td>Chlorphenamine Mal_Oral Soln 2mg/5ml</td>\n",
       "      <td>1</td>\n",
       "      <td>2.62</td>\n",
       "      <td>2.44</td>\n",
       "      <td>150</td>\n",
       "      <td>CH44 5UF</td>\n",
       "      <td>0</td>\n",
       "    </tr>\n",
       "    <tr>\n",
       "      <th>4</th>\n",
       "      <td>N85639</td>\n",
       "      <td>0401020K0</td>\n",
       "      <td>Diazepam_Tab 2mg</td>\n",
       "      <td>1</td>\n",
       "      <td>0.16</td>\n",
       "      <td>0.26</td>\n",
       "      <td>6</td>\n",
       "      <td>CH44 5UF</td>\n",
       "      <td>0</td>\n",
       "    </tr>\n",
       "  </tbody>\n",
       "</table>\n",
       "</div>"
      ],
      "text/plain": [
       "  practice   bnf_code                              bnf_name  items   nic  \\\n",
       "0   N85639  0106020C0                 Bisacodyl_Tab E/C 5mg      1  0.39   \n",
       "1   N85639  0106040M0      Movicol Plain_Paed Pdr Sach 6.9g      1  4.38   \n",
       "2   N85639  0301011R0    Salbutamol_Inha 100mcg (200 D) CFF      1  1.50   \n",
       "3   N85639  0304010G0  Chlorphenamine Mal_Oral Soln 2mg/5ml      1  2.62   \n",
       "4   N85639  0401020K0                      Diazepam_Tab 2mg      1  0.16   \n",
       "\n",
       "   act_cost  quantity post_code  opioids  \n",
       "0      0.47        12  CH44 5UF        0  \n",
       "1      4.07        30  CH44 5UF        0  \n",
       "2      1.40         1  CH44 5UF        0  \n",
       "3      2.44       150  CH44 5UF        0  \n",
       "4      0.26         6  CH44 5UF        0  "
      ]
     },
     "execution_count": 122,
     "metadata": {},
     "output_type": "execute_result"
    }
   ],
   "source": [
    "scripts.head()"
   ]
  },
  {
   "cell_type": "code",
   "execution_count": 143,
   "metadata": {},
   "outputs": [
    {
     "data": {
      "text/plain": [
       "practice\n",
       "A81005    18\n",
       "A81007    15\n",
       "A81011    21\n",
       "A81012    19\n",
       "A81017    28\n",
       "Name: opioids, dtype: int64"
      ]
     },
     "execution_count": 143,
     "metadata": {},
     "output_type": "execute_result"
    }
   ],
   "source": [
    "group_scripts_practice = scripts.groupby('practice')['opioids'].sum()\n",
    "group_scripts_practice.head()"
   ]
  },
  {
   "cell_type": "code",
   "execution_count": 147,
   "metadata": {},
   "outputs": [
    {
     "data": {
      "text/plain": [
       "10312"
      ]
     },
     "execution_count": 147,
     "metadata": {},
     "output_type": "execute_result"
    }
   ],
   "source": [
    "total_opioid=sum(group_scripts_practice)\n",
    "total_opioid"
   ]
  },
  {
   "cell_type": "code",
   "execution_count": 138,
   "metadata": {},
   "outputs": [
    {
     "data": {
      "text/plain": [
       "practice\n",
       "A81005    16326\n",
       "A81007    14751\n",
       "A81011    21791\n",
       "A81012    13273\n",
       "A81017    34264\n",
       "Name: items, dtype: int64"
      ]
     },
     "execution_count": 138,
     "metadata": {},
     "output_type": "execute_result"
    }
   ],
   "source": [
    "total_practice=scripts.groupby('practice')['items'].sum()\n",
    "total_practice.head()"
   ]
  },
  {
   "cell_type": "code",
   "execution_count": 140,
   "metadata": {},
   "outputs": [
    {
     "data": {
      "text/plain": [
       "practice\n",
       "A81005    0.001103\n",
       "A81007    0.001017\n",
       "A81011    0.000964\n",
       "A81012    0.001431\n",
       "A81017    0.000817\n",
       "dtype: float64"
      ]
     },
     "execution_count": 140,
     "metadata": {},
     "output_type": "execute_result"
    }
   ],
   "source": [
    "opioids_per_practice = group_scripts_practice/total_practice\n",
    "opioids_per_practice.head()"
   ]
  },
  {
   "cell_type": "code",
   "execution_count": 141,
   "metadata": {},
   "outputs": [
    {
     "data": {
      "text/plain": [
       "0.001160176339603146"
      ]
     },
     "execution_count": 141,
     "metadata": {},
     "output_type": "execute_result"
    }
   ],
   "source": [
    "over_all = sum(group_scripts_practice)/float(sum(total_practice))\n",
    "over_all"
   ]
  },
  {
   "cell_type": "code",
   "execution_count": 144,
   "metadata": {},
   "outputs": [
    {
     "data": {
      "text/plain": [
       "practice\n",
       "A81005   -0.000058\n",
       "A81007   -0.000143\n",
       "A81011   -0.000196\n",
       "A81012    0.000271\n",
       "A81017   -0.000343\n",
       "dtype: float64"
      ]
     },
     "execution_count": 144,
     "metadata": {},
     "output_type": "execute_result"
    }
   ],
   "source": [
    "relative_opioids_per_practice=opioids_per_practice-over_all\n",
    "relative_opioids_per_practice.head()"
   ]
  },
  {
   "cell_type": "code",
   "execution_count": 145,
   "metadata": {},
   "outputs": [
    {
     "data": {
      "text/plain": [
       "<matplotlib.axes._subplots.AxesSubplot at 0x7f60b046c780>"
      ]
     },
     "execution_count": 145,
     "metadata": {},
     "output_type": "execute_result"
    },
    {
     "data": {
      "image/png": "[encoded data removed]",
      "text/plain": [
       "<Figure size 864x576 with 1 Axes>"
      ]
     },
     "metadata": {},
     "output_type": "display_data"
    }
   ],
   "source": [
    "relative_opioids_per_practice.hist()"
   ]
  },
  {
   "cell_type": "markdown",
   "metadata": {},
   "source": [
    "Now for each practice calculate the proportion of its prescriptions containing opioids.\n",
    "\n",
    "**Hint:** Consider the following list: `[0, 1, 1, 0, 0, 0]`. What proportion of the entries are 1s? What is the mean value?"
   ]
  },
  {
   "cell_type": "markdown",
   "metadata": {},
   "source": [
    "How do these proportions compare to the overall opioid prescription rate? Subtract off the proportion of all prescriptions that are opioids from each practice's proportion."
   ]
  },
  {
   "cell_type": "markdown",
   "metadata": {},
   "source": [
    "Now that we know the difference between each practice's opioid prescription rate and the overall rate, we can identify which practices prescribe opioids at above average or below average rates. However, are the differences from the overall rate important or just random deviations? In other words, are the differences from the overall rate big or small?\n",
    "\n",
    "To answer this question we have to quantify the difference we would typically expect between a given practice's opioid prescription rate and the overall rate. This quantity is called the **standard error**, and is related to the **standard deviation**, $\\sigma$. The standard error in this case is\n",
    "\n",
    "$$ \\frac{\\sigma}{\\sqrt{n}} $$\n",
    "\n",
    "where $n$ is the number of prescriptions each practice made. Calculate the standard error for each practice. Then divide `relative_opioids_per_practice` by the standard errors. We'll call the final result `opioid_scores`."
   ]
  },
  {
   "cell_type": "code",
   "execution_count": 150,
   "metadata": {},
   "outputs": [
    {
     "data": {
      "text/plain": [
       "practice\n",
       "A81005   -4800.968813\n",
       "A81007   -2115.499103\n",
       "A81011   -1303.990340\n",
       "A81012     992.806433\n",
       "A81017    -646.889004\n",
       "dtype: float64"
      ]
     },
     "execution_count": 150,
     "metadata": {},
     "output_type": "execute_result"
    }
   ],
   "source": [
    "standard_error_per_practice = np.sqrt(sum(opioids_per_practice-over_all)**2/group_scripts_practice)\n",
    "opioid_scores = standard_error_per_practice/relative_opioids_per_practice\n",
    "opioid_scores.head()"
   ]
  },
  {
   "cell_type": "markdown",
   "metadata": {},
   "source": [
    "The quantity we have calculated in `opioid_scores` is called a **z-score**:\n",
    "\n",
    "$$ \\frac{\\bar{X} - \\mu}{\\sqrt{\\sigma^2/n}} $$\n",
    "\n",
    "Here $\\bar{X}$ corresponds with the proportion for each practice, $\\mu$ corresponds with the proportion across all practices, $\\sigma^2$ corresponds with the variance of the proportion across all practices, and $n$ is the number of prescriptions made by each practice. Notice $\\bar{X}$ and $n$ will be different for each practice, while $\\mu$ and $\\sigma$ are determined across all prescriptions, and so are the same for every z-score. The z-score is a useful statistical tool used for hypothesis testing, finding outliers, and comparing data about different types of objects or events.\n",
    "\n",
    "Now that we've calculated this statistic, take the 100 practices with the largest z-score. Return your result as a list of tuples in the form `(practice_name, z-score, number_of_scripts)`. Sort your tuples by z-score in descending order. Note that some practice codes will correspond with multiple names. In this case, use the first match when sorting names alphabetically."
   ]
  },
  {
   "cell_type": "code",
   "execution_count": 157,
   "metadata": {},
   "outputs": [
    {
     "data": {
      "text/plain": [
       "practice\n",
       "Y05670           -inf\n",
       "Y02203           -inf\n",
       "Y02318           -inf\n",
       "Y02532           -inf\n",
       "Y02533           -inf\n",
       "             ...     \n",
       "Y03640    1757.104200\n",
       "A89621    1784.281700\n",
       "P83020    1853.495285\n",
       "M85068    1899.356533\n",
       "P82640    1949.183041\n",
       "Length: 756, dtype: float64"
      ]
     },
     "execution_count": 157,
     "metadata": {},
     "output_type": "execute_result"
    }
   ],
   "source": [
    "#print(opioid_scores)\n",
    "op=opioid_scores.sort_values()[:-100]\n",
    "op"
   ]
  },
  {
   "cell_type": "code",
   "execution_count": 158,
   "metadata": {},
   "outputs": [
    {
     "data": {
      "text/html": [
       "<div>\n",
       "<style scoped>\n",
       "    .dataframe tbody tr th:only-of-type {\n",
       "        vertical-align: middle;\n",
       "    }\n",
       "\n",
       "    .dataframe tbody tr th {\n",
       "        vertical-align: top;\n",
       "    }\n",
       "\n",
       "    .dataframe thead th {\n",
       "        text-align: right;\n",
       "    }\n",
       "</style>\n",
       "<table border=\"1\" class=\"dataframe\">\n",
       "  <thead>\n",
       "    <tr style=\"text-align: right;\">\n",
       "      <th></th>\n",
       "      <th>practice</th>\n",
       "      <th>bnf_code</th>\n",
       "      <th>bnf_name</th>\n",
       "      <th>items</th>\n",
       "      <th>nic</th>\n",
       "      <th>act_cost</th>\n",
       "      <th>quantity</th>\n",
       "      <th>post_code</th>\n",
       "      <th>opioids</th>\n",
       "    </tr>\n",
       "  </thead>\n",
       "  <tbody>\n",
       "    <tr>\n",
       "      <th>373602</th>\n",
       "      <td>Y05670</td>\n",
       "      <td>0301011R0</td>\n",
       "      <td>Salbutamol_Inha B/A 100mcg (200 D) CFF</td>\n",
       "      <td>1</td>\n",
       "      <td>6.30</td>\n",
       "      <td>5.84</td>\n",
       "      <td>1</td>\n",
       "      <td>SR5 2LT</td>\n",
       "      <td>0</td>\n",
       "    </tr>\n",
       "    <tr>\n",
       "      <th>373603</th>\n",
       "      <td>Y05670</td>\n",
       "      <td>0403030E0</td>\n",
       "      <td>Fluoxetine HCl_Cap 20mg</td>\n",
       "      <td>1</td>\n",
       "      <td>0.41</td>\n",
       "      <td>0.49</td>\n",
       "      <td>14</td>\n",
       "      <td>SR5 2LT</td>\n",
       "      <td>0</td>\n",
       "    </tr>\n",
       "    <tr>\n",
       "      <th>373604</th>\n",
       "      <td>Y05670</td>\n",
       "      <td>0406000T0</td>\n",
       "      <td>Prochlpzine Mal_Tab 5mg</td>\n",
       "      <td>1</td>\n",
       "      <td>0.97</td>\n",
       "      <td>0.91</td>\n",
       "      <td>28</td>\n",
       "      <td>SR5 2LT</td>\n",
       "      <td>0</td>\n",
       "    </tr>\n",
       "    <tr>\n",
       "      <th>373605</th>\n",
       "      <td>Y05670</td>\n",
       "      <td>0407010H0</td>\n",
       "      <td>Paracet_Oral Susp 250mg/5ml S/F</td>\n",
       "      <td>1</td>\n",
       "      <td>3.94</td>\n",
       "      <td>3.66</td>\n",
       "      <td>400</td>\n",
       "      <td>SR5 2LT</td>\n",
       "      <td>0</td>\n",
       "    </tr>\n",
       "    <tr>\n",
       "      <th>373606</th>\n",
       "      <td>Y05670</td>\n",
       "      <td>0501011P0</td>\n",
       "      <td>Phenoxymethylpenicillin Pot_Tab 250mg</td>\n",
       "      <td>2</td>\n",
       "      <td>5.94</td>\n",
       "      <td>5.72</td>\n",
       "      <td>160</td>\n",
       "      <td>SR5 2LT</td>\n",
       "      <td>0</td>\n",
       "    </tr>\n",
       "    <tr>\n",
       "      <th>373607</th>\n",
       "      <td>Y05670</td>\n",
       "      <td>0501013B0</td>\n",
       "      <td>Amoxicillin_Cap 500mg</td>\n",
       "      <td>3</td>\n",
       "      <td>3.81</td>\n",
       "      <td>3.56</td>\n",
       "      <td>63</td>\n",
       "      <td>SR5 2LT</td>\n",
       "      <td>0</td>\n",
       "    </tr>\n",
       "    <tr>\n",
       "      <th>373608</th>\n",
       "      <td>Y05670</td>\n",
       "      <td>1001010J0</td>\n",
       "      <td>Ibuprofen_Oral Susp 100mg/5ml S/F</td>\n",
       "      <td>1</td>\n",
       "      <td>2.50</td>\n",
       "      <td>2.33</td>\n",
       "      <td>200</td>\n",
       "      <td>SR5 2LT</td>\n",
       "      <td>0</td>\n",
       "    </tr>\n",
       "    <tr>\n",
       "      <th>373609</th>\n",
       "      <td>Y05670</td>\n",
       "      <td>1103010C0</td>\n",
       "      <td>Chloramphen_Eye Dps 0.5%</td>\n",
       "      <td>1</td>\n",
       "      <td>1.52</td>\n",
       "      <td>1.42</td>\n",
       "      <td>10</td>\n",
       "      <td>SR5 2LT</td>\n",
       "      <td>0</td>\n",
       "    </tr>\n",
       "    <tr>\n",
       "      <th>373610</th>\n",
       "      <td>Y05670</td>\n",
       "      <td>1103010C0</td>\n",
       "      <td>Chloramphen_Eye Oint 1%</td>\n",
       "      <td>1</td>\n",
       "      <td>2.27</td>\n",
       "      <td>2.11</td>\n",
       "      <td>4</td>\n",
       "      <td>SR5 2LT</td>\n",
       "      <td>0</td>\n",
       "    </tr>\n",
       "    <tr>\n",
       "      <th>373611</th>\n",
       "      <td>Y05670</td>\n",
       "      <td>1202010C0</td>\n",
       "      <td>Beclomet Diprop_Nsl Spy 50mcg (200 D)</td>\n",
       "      <td>1</td>\n",
       "      <td>2.10</td>\n",
       "      <td>1.96</td>\n",
       "      <td>1</td>\n",
       "      <td>SR5 2LT</td>\n",
       "      <td>0</td>\n",
       "    </tr>\n",
       "    <tr>\n",
       "      <th>373612</th>\n",
       "      <td>Y05670</td>\n",
       "      <td>1304000F0</td>\n",
       "      <td>Betameth Val_Crm 0.1%</td>\n",
       "      <td>1</td>\n",
       "      <td>2.87</td>\n",
       "      <td>2.67</td>\n",
       "      <td>30</td>\n",
       "      <td>SR5 2LT</td>\n",
       "      <td>0</td>\n",
       "    </tr>\n",
       "    <tr>\n",
       "      <th>373613</th>\n",
       "      <td>Y05670</td>\n",
       "      <td>210102301</td>\n",
       "      <td>Volumatic Paed + Mask</td>\n",
       "      <td>1</td>\n",
       "      <td>6.77</td>\n",
       "      <td>6.28</td>\n",
       "      <td>1</td>\n",
       "      <td>SR5 2LT</td>\n",
       "      <td>0</td>\n",
       "    </tr>\n",
       "  </tbody>\n",
       "</table>\n",
       "</div>"
      ],
      "text/plain": [
       "       practice   bnf_code                                bnf_name  items  \\\n",
       "373602   Y05670  0301011R0  Salbutamol_Inha B/A 100mcg (200 D) CFF      1   \n",
       "373603   Y05670  0403030E0                 Fluoxetine HCl_Cap 20mg      1   \n",
       "373604   Y05670  0406000T0                 Prochlpzine Mal_Tab 5mg      1   \n",
       "373605   Y05670  0407010H0         Paracet_Oral Susp 250mg/5ml S/F      1   \n",
       "373606   Y05670  0501011P0   Phenoxymethylpenicillin Pot_Tab 250mg      2   \n",
       "373607   Y05670  0501013B0                   Amoxicillin_Cap 500mg      3   \n",
       "373608   Y05670  1001010J0       Ibuprofen_Oral Susp 100mg/5ml S/F      1   \n",
       "373609   Y05670  1103010C0                Chloramphen_Eye Dps 0.5%      1   \n",
       "373610   Y05670  1103010C0                 Chloramphen_Eye Oint 1%      1   \n",
       "373611   Y05670  1202010C0   Beclomet Diprop_Nsl Spy 50mcg (200 D)      1   \n",
       "373612   Y05670  1304000F0                   Betameth Val_Crm 0.1%      1   \n",
       "373613   Y05670  210102301                   Volumatic Paed + Mask      1   \n",
       "\n",
       "         nic  act_cost  quantity post_code  opioids  \n",
       "373602  6.30      5.84         1   SR5 2LT        0  \n",
       "373603  0.41      0.49        14   SR5 2LT        0  \n",
       "373604  0.97      0.91        28   SR5 2LT        0  \n",
       "373605  3.94      3.66       400   SR5 2LT        0  \n",
       "373606  5.94      5.72       160   SR5 2LT        0  \n",
       "373607  3.81      3.56        63   SR5 2LT        0  \n",
       "373608  2.50      2.33       200   SR5 2LT        0  \n",
       "373609  1.52      1.42        10   SR5 2LT        0  \n",
       "373610  2.27      2.11         4   SR5 2LT        0  \n",
       "373611  2.10      1.96         1   SR5 2LT        0  \n",
       "373612  2.87      2.67        30   SR5 2LT        0  \n",
       "373613  6.77      6.28         1   SR5 2LT        0  "
      ]
     },
     "execution_count": 158,
     "metadata": {},
     "output_type": "execute_result"
    }
   ],
   "source": [
    "scripts[scripts['practice']=='Y05670']"
   ]
  },
  {
   "cell_type": "code",
   "execution_count": 50,
   "metadata": {},
   "outputs": [],
   "source": [
    "unique_practices = ...\n",
    "anomalies = [(\"NATIONAL ENHANCED SERVICE\", 11.6958178629, 7)] * 100"
   ]
  },
  {
   "cell_type": "code",
   "execution_count": 51,
   "metadata": {},
   "outputs": [
    {
     "ename": "NameError",
     "evalue": "name 'results' is not defined",
     "output_type": "error",
     "traceback": [
      "\u001b[0;31m---------------------------------------------------------------------------\u001b[0m",
      "\u001b[0;31mNameError\u001b[0m                                 Traceback (most recent call last)",
      "\u001b[0;32m<ipython-input-51-0f9ba5b4964d>\u001b[0m in \u001b[0;36m<module>\u001b[0;34m()\u001b[0m\n\u001b[0;32m----> 1\u001b[0;31m \u001b[0mresults\u001b[0m\u001b[0;34m.\u001b[0m\u001b[0mhead\u001b[0m\u001b[0;34m(\u001b[0m\u001b[0;34m)\u001b[0m\u001b[0;34m\u001b[0m\u001b[0;34m\u001b[0m\u001b[0m\n\u001b[0m",
      "\u001b[0;31mNameError\u001b[0m: name 'results' is not defined"
     ]
    }
   ],
   "source": [
    "results.head()"
   ]
  },
  {
   "cell_type": "code",
   "execution_count": 71,
   "metadata": {},
   "outputs": [
    {
     "data": {
      "text/html": [
       "<div>\n",
       "<style scoped>\n",
       "    .dataframe tbody tr th:only-of-type {\n",
       "        vertical-align: middle;\n",
       "    }\n",
       "\n",
       "    .dataframe tbody tr th {\n",
       "        vertical-align: top;\n",
       "    }\n",
       "\n",
       "    .dataframe thead th {\n",
       "        text-align: right;\n",
       "    }\n",
       "</style>\n",
       "<table border=\"1\" class=\"dataframe\">\n",
       "  <thead>\n",
       "    <tr style=\"text-align: right;\">\n",
       "      <th></th>\n",
       "      <th>CHEM SUB</th>\n",
       "      <th>NAME</th>\n",
       "    </tr>\n",
       "  </thead>\n",
       "  <tbody>\n",
       "    <tr>\n",
       "      <th>0</th>\n",
       "      <td>0101010A0</td>\n",
       "      <td>Alexitol Sodium</td>\n",
       "    </tr>\n",
       "    <tr>\n",
       "      <th>1</th>\n",
       "      <td>0101010B0</td>\n",
       "      <td>Almasilate</td>\n",
       "    </tr>\n",
       "    <tr>\n",
       "      <th>2</th>\n",
       "      <td>0101010C0</td>\n",
       "      <td>Aluminium Hydroxide</td>\n",
       "    </tr>\n",
       "    <tr>\n",
       "      <th>3</th>\n",
       "      <td>0101010D0</td>\n",
       "      <td>Aluminium Hydroxide With Magnesium</td>\n",
       "    </tr>\n",
       "    <tr>\n",
       "      <th>4</th>\n",
       "      <td>0101010E0</td>\n",
       "      <td>Hydrotalcite</td>\n",
       "    </tr>\n",
       "  </tbody>\n",
       "</table>\n",
       "</div>"
      ],
      "text/plain": [
       "    CHEM SUB                                NAME\n",
       "0  0101010A0                     Alexitol Sodium\n",
       "1  0101010B0                          Almasilate\n",
       "2  0101010C0                 Aluminium Hydroxide\n",
       "3  0101010D0  Aluminium Hydroxide With Magnesium\n",
       "4  0101010E0                        Hydrotalcite"
      ]
     },
     "execution_count": 71,
     "metadata": {},
     "output_type": "execute_result"
    }
   ],
   "source": [
    "chem.head()"
   ]
  },
  {
   "cell_type": "code",
   "execution_count": 72,
   "metadata": {},
   "outputs": [
    {
     "data": {
      "text/html": [
       "<div>\n",
       "<style scoped>\n",
       "    .dataframe tbody tr th:only-of-type {\n",
       "        vertical-align: middle;\n",
       "    }\n",
       "\n",
       "    .dataframe tbody tr th {\n",
       "        vertical-align: top;\n",
       "    }\n",
       "\n",
       "    .dataframe thead th {\n",
       "        text-align: right;\n",
       "    }\n",
       "</style>\n",
       "<table border=\"1\" class=\"dataframe\">\n",
       "  <thead>\n",
       "    <tr style=\"text-align: right;\">\n",
       "      <th></th>\n",
       "      <th>CHEM SUB</th>\n",
       "      <th>NAME</th>\n",
       "    </tr>\n",
       "  </thead>\n",
       "  <tbody>\n",
       "    <tr>\n",
       "      <th>3431</th>\n",
       "      <td>2399</td>\n",
       "      <td>Ostomy Appliances R/Sub Allowed Pre 1985</td>\n",
       "    </tr>\n",
       "    <tr>\n",
       "      <th>3430</th>\n",
       "      <td>2398</td>\n",
       "      <td>Urostomy Sets</td>\n",
       "    </tr>\n",
       "    <tr>\n",
       "      <th>3429</th>\n",
       "      <td>2396</td>\n",
       "      <td>Urostomy Bags</td>\n",
       "    </tr>\n",
       "    <tr>\n",
       "      <th>3428</th>\n",
       "      <td>2394</td>\n",
       "      <td>Two Piece Ostomy Systems</td>\n",
       "    </tr>\n",
       "    <tr>\n",
       "      <th>3427</th>\n",
       "      <td>2393</td>\n",
       "      <td>Accessories (Guernsey)</td>\n",
       "    </tr>\n",
       "  </tbody>\n",
       "</table>\n",
       "</div>"
      ],
      "text/plain": [
       "     CHEM SUB                                      NAME\n",
       "3431     2399  Ostomy Appliances R/Sub Allowed Pre 1985\n",
       "3430     2398                             Urostomy Sets\n",
       "3429     2396                             Urostomy Bags\n",
       "3428     2394                  Two Piece Ostomy Systems\n",
       "3427     2393                    Accessories (Guernsey)"
      ]
     },
     "execution_count": 72,
     "metadata": {},
     "output_type": "execute_result"
    }
   ],
   "source": [
    "# dropping ALL duplicte values \n",
    "chem = chem.sort_values('CHEM SUB', ascending=False)\n",
    "chem = chem.drop_duplicates(subset='CHEM SUB', keep='first')\n",
    "chem.head()"
   ]
  },
  {
   "cell_type": "code",
   "execution_count": 13,
   "metadata": {},
   "outputs": [
    {
     "data": {
      "text/html": [
       "<div>\n",
       "<style scoped>\n",
       "    .dataframe tbody tr th:only-of-type {\n",
       "        vertical-align: middle;\n",
       "    }\n",
       "\n",
       "    .dataframe tbody tr th {\n",
       "        vertical-align: top;\n",
       "    }\n",
       "\n",
       "    .dataframe thead th {\n",
       "        text-align: right;\n",
       "    }\n",
       "</style>\n",
       "<table border=\"1\" class=\"dataframe\">\n",
       "  <thead>\n",
       "    <tr style=\"text-align: right;\">\n",
       "      <th></th>\n",
       "      <th>practice</th>\n",
       "      <th>bnf_code</th>\n",
       "      <th>bnf_name</th>\n",
       "      <th>items</th>\n",
       "      <th>nic</th>\n",
       "      <th>act_cost</th>\n",
       "      <th>quantity</th>\n",
       "      <th>CHEM SUB</th>\n",
       "      <th>NAME</th>\n",
       "    </tr>\n",
       "  </thead>\n",
       "  <tbody>\n",
       "    <tr>\n",
       "      <th>0</th>\n",
       "      <td>N85639</td>\n",
       "      <td>0106020C0</td>\n",
       "      <td>Bisacodyl_Tab E/C 5mg</td>\n",
       "      <td>1</td>\n",
       "      <td>0.39</td>\n",
       "      <td>0.47</td>\n",
       "      <td>12</td>\n",
       "      <td>0106020C0</td>\n",
       "      <td>Bisacodyl</td>\n",
       "    </tr>\n",
       "    <tr>\n",
       "      <th>1</th>\n",
       "      <td>N85639</td>\n",
       "      <td>0106040M0</td>\n",
       "      <td>Movicol Plain_Paed Pdr Sach 6.9g</td>\n",
       "      <td>1</td>\n",
       "      <td>4.38</td>\n",
       "      <td>4.07</td>\n",
       "      <td>30</td>\n",
       "      <td>0106040M0</td>\n",
       "      <td>Macrogol 3350</td>\n",
       "    </tr>\n",
       "    <tr>\n",
       "      <th>2</th>\n",
       "      <td>N85639</td>\n",
       "      <td>0301011R0</td>\n",
       "      <td>Salbutamol_Inha 100mcg (200 D) CFF</td>\n",
       "      <td>1</td>\n",
       "      <td>1.50</td>\n",
       "      <td>1.40</td>\n",
       "      <td>1</td>\n",
       "      <td>0301011R0</td>\n",
       "      <td>Salbutamol</td>\n",
       "    </tr>\n",
       "    <tr>\n",
       "      <th>3</th>\n",
       "      <td>N85639</td>\n",
       "      <td>0304010G0</td>\n",
       "      <td>Chlorphenamine Mal_Oral Soln 2mg/5ml</td>\n",
       "      <td>1</td>\n",
       "      <td>2.62</td>\n",
       "      <td>2.44</td>\n",
       "      <td>150</td>\n",
       "      <td>0304010G0</td>\n",
       "      <td>Chlorphenamine Maleate</td>\n",
       "    </tr>\n",
       "    <tr>\n",
       "      <th>4</th>\n",
       "      <td>N85639</td>\n",
       "      <td>0401020K0</td>\n",
       "      <td>Diazepam_Tab 2mg</td>\n",
       "      <td>1</td>\n",
       "      <td>0.16</td>\n",
       "      <td>0.26</td>\n",
       "      <td>6</td>\n",
       "      <td>0401020K0</td>\n",
       "      <td>Diazepam</td>\n",
       "    </tr>\n",
       "  </tbody>\n",
       "</table>\n",
       "</div>"
      ],
      "text/plain": [
       "  practice   bnf_code                              bnf_name  items   nic  \\\n",
       "0   N85639  0106020C0                 Bisacodyl_Tab E/C 5mg      1  0.39   \n",
       "1   N85639  0106040M0      Movicol Plain_Paed Pdr Sach 6.9g      1  4.38   \n",
       "2   N85639  0301011R0    Salbutamol_Inha 100mcg (200 D) CFF      1  1.50   \n",
       "3   N85639  0304010G0  Chlorphenamine Mal_Oral Soln 2mg/5ml      1  2.62   \n",
       "4   N85639  0401020K0                      Diazepam_Tab 2mg      1  0.16   \n",
       "\n",
       "   act_cost  quantity   CHEM SUB                    NAME  \n",
       "0      0.47        12  0106020C0               Bisacodyl  \n",
       "1      4.07        30  0106040M0           Macrogol 3350  \n",
       "2      1.40         1  0301011R0              Salbutamol  \n",
       "3      2.44       150  0304010G0  Chlorphenamine Maleate  \n",
       "4      0.26         6  0401020K0                Diazepam  "
      ]
     },
     "execution_count": 13,
     "metadata": {},
     "output_type": "execute_result"
    }
   ],
   "source": [
    "chem_scripts = scripts.merge(chem, left_on='bnf_code', right_on='CHEM SUB', how='left')\n",
    "chem_scripts.head()"
   ]
  },
  {
   "cell_type": "code",
   "execution_count": 116,
   "metadata": {},
   "outputs": [],
   "source": [
    "chem_scripts = scripts.merge(chem, left_on='bnf_code', right_on='CHEM SUB', how='left')\n",
    "chem_scripts.head()\n",
    "\n",
    "# mark prescriptions that contain opioids as positive `is_opioid`\n",
    "opioid_pattern = '|'.join(opioids)\n",
    "opioid_chem_scripts = chem_scripts.copy()\n",
    "opioid_chem_scripts['is_opioid'] = opioid_chem_scripts[\"NAME\"].str.contains(opioid_pattern, na=False, case=False, regex=True)\n",
    "\n",
    "# for `is_opioid`, set False as 0 and True as 1 for easy computation\n",
    "opioid_chem_scripts['is_opioid'].replace({ False: 0, True: 1 }, inplace=True)\n",
    "\n",
    "# calc the opioid prescription rate\n",
    "opioid_prescription_rate = opioid_chem_scripts['is_opioid'].mean()\n",
    "\n",
    "# get the number of opioid prescriptions per practice\n",
    "opioid_scripts_per_practice = opioid_chem_scripts[['practice', 'is_opioid', 'bnf_name']].groupby(['practice']).agg({'is_opioid': 'sum', 'bnf_name': 'count'})\n",
    "opioid_scripts_per_practice = opioid_scripts_per_practice.rename(columns={'bnf_name': 'practice_script_count', 'is_opioid': 'opioid_script_count'})\n",
    "opioid_scripts_per_practice['opioid_per_practice'] = opioid_scripts_per_practice['opioid_script_count'] / opioid_scripts_per_practice['practice_script_count'] \n",
    "\n",
    "relative_opioids_per_practice = opioid_scripts_per_practice.copy()\n",
    "relative_opioids_per_practice = relative_opioids_per_practice.reset_index()\n",
    "relative_opioids_per_practice['relative_opioids_per_practice'] = relative_opioids_per_practice['opioid_per_practice'] - opioid_prescription_rate\n",
    "\n",
    "\n",
    "relative_opioids_per_practice['std_error'] = round(opioid_chem_scripts['is_opioid'].std()/ np.sqrt(relative_opioids_per_practice['practice_script_count']), 5)\n",
    "relative_opioids_per_practice['z_score'] =  (relative_opioids_per_practice['relative_opioids_per_practice'] /(relative_opioids_per_practice['std_error']))\n",
    "relative_opioids_per_practice.sort_values(by=('z_score'), ascending=False, inplace=True)\n",
    "\n",
    "unique_practices = (relative_opioids_per_practice.merge(practices, left_on=\"practice\", right_on=\"code\", how=\"inner\").sort_values(['code', 'name'])\n",
    "                    .drop_duplicates('code')\n",
    "                    .reset_index())\n",
    "\n",
    "anomalies1 = unique_practices.sort_values(by=('z_score'), ascending=False)\n",
    "results = []\n",
    "\n",
    "for index, item in anomalies1.iterrows():\n",
    "    data = (item['name'], item['z_score'], item['practice_script_count'])\n",
    "    results.append(data)\n",
    "anomalies=results[:100]"
   ]
  },
  {
   "cell_type": "code",
   "execution_count": 118,
   "metadata": {},
   "outputs": [
    {
     "data": {
      "text/html": [
       "<div>\n",
       "<style scoped>\n",
       "    .dataframe tbody tr th:only-of-type {\n",
       "        vertical-align: middle;\n",
       "    }\n",
       "\n",
       "    .dataframe tbody tr th {\n",
       "        vertical-align: top;\n",
       "    }\n",
       "\n",
       "    .dataframe thead th {\n",
       "        text-align: right;\n",
       "    }\n",
       "</style>\n",
       "<table border=\"1\" class=\"dataframe\">\n",
       "  <thead>\n",
       "    <tr style=\"text-align: right;\">\n",
       "      <th></th>\n",
       "      <th>index</th>\n",
       "      <th>practice</th>\n",
       "      <th>opioid_script_count</th>\n",
       "      <th>practice_script_count</th>\n",
       "      <th>opioid_per_practice</th>\n",
       "      <th>relative_opioids_per_practice</th>\n",
       "      <th>std_error</th>\n",
       "      <th>z_score</th>\n",
       "      <th>code</th>\n",
       "      <th>name</th>\n",
       "      <th>addr_1</th>\n",
       "      <th>addr_2</th>\n",
       "      <th>borough</th>\n",
       "      <th>village</th>\n",
       "      <th>post_code</th>\n",
       "    </tr>\n",
       "  </thead>\n",
       "  <tbody>\n",
       "    <tr>\n",
       "      <th>0</th>\n",
       "      <td>629</td>\n",
       "      <td>A81005</td>\n",
       "      <td>50</td>\n",
       "      <td>1509</td>\n",
       "      <td>0.033135</td>\n",
       "      <td>-0.002638</td>\n",
       "      <td>0.00478</td>\n",
       "      <td>-0.551926</td>\n",
       "      <td>A81005</td>\n",
       "      <td>SPRINGWOOD SURGERY</td>\n",
       "      <td>SPRINGWOOD SURGERY</td>\n",
       "      <td>RECTORY LANE</td>\n",
       "      <td>GUISBOROUGH</td>\n",
       "      <td>NaN</td>\n",
       "      <td>TS14 7DJ</td>\n",
       "    </tr>\n",
       "    <tr>\n",
       "      <th>1</th>\n",
       "      <td>135</td>\n",
       "      <td>A81007</td>\n",
       "      <td>63</td>\n",
       "      <td>1456</td>\n",
       "      <td>0.043269</td>\n",
       "      <td>0.007496</td>\n",
       "      <td>0.00487</td>\n",
       "      <td>1.539322</td>\n",
       "      <td>A81007</td>\n",
       "      <td>BANKHOUSE SURGERY</td>\n",
       "      <td>ONE LIFE HARTLEPOOL</td>\n",
       "      <td>PARK ROAD</td>\n",
       "      <td>HARTLEPOOL</td>\n",
       "      <td>CLEVELAND</td>\n",
       "      <td>TS24 7PW</td>\n",
       "    </tr>\n",
       "    <tr>\n",
       "      <th>2</th>\n",
       "      <td>62</td>\n",
       "      <td>A81011</td>\n",
       "      <td>73</td>\n",
       "      <td>1569</td>\n",
       "      <td>0.046526</td>\n",
       "      <td>0.010754</td>\n",
       "      <td>0.00469</td>\n",
       "      <td>2.292903</td>\n",
       "      <td>A81011</td>\n",
       "      <td>CHADWICK PRACTICE</td>\n",
       "      <td>ONE LIFE HARTLEPOOL</td>\n",
       "      <td>PARK ROAD</td>\n",
       "      <td>HARTLEPOOL</td>\n",
       "      <td>CLEVELAND</td>\n",
       "      <td>TS24 7PW</td>\n",
       "    </tr>\n",
       "    <tr>\n",
       "      <th>3</th>\n",
       "      <td>162</td>\n",
       "      <td>A81012</td>\n",
       "      <td>57</td>\n",
       "      <td>1333</td>\n",
       "      <td>0.042761</td>\n",
       "      <td>0.006988</td>\n",
       "      <td>0.00509</td>\n",
       "      <td>1.372880</td>\n",
       "      <td>A81012</td>\n",
       "      <td>WESTBOURNE MEDICAL CENTRE</td>\n",
       "      <td>WESTBOURNE MEDICAL CENTRE</td>\n",
       "      <td>7 TRINITY MEWS N. ORMESBY</td>\n",
       "      <td>MIDDLESBROUGH</td>\n",
       "      <td>NaN</td>\n",
       "      <td>TS3 6AL</td>\n",
       "    </tr>\n",
       "    <tr>\n",
       "      <th>4</th>\n",
       "      <td>336</td>\n",
       "      <td>A81017</td>\n",
       "      <td>82</td>\n",
       "      <td>2151</td>\n",
       "      <td>0.038122</td>\n",
       "      <td>0.002349</td>\n",
       "      <td>0.00400</td>\n",
       "      <td>0.587268</td>\n",
       "      <td>A81017</td>\n",
       "      <td>WOODBRIDGE PRACTICE</td>\n",
       "      <td>THE HEALTH CENTRE</td>\n",
       "      <td>TRENCHARD AVE  THORNABY</td>\n",
       "      <td>STOCKTON ON TEES</td>\n",
       "      <td>CLEVELAND</td>\n",
       "      <td>TS17 0EE</td>\n",
       "    </tr>\n",
       "  </tbody>\n",
       "</table>\n",
       "</div>"
      ],
      "text/plain": [
       "   index practice  opioid_script_count  practice_script_count  \\\n",
       "0    629   A81005                   50                   1509   \n",
       "1    135   A81007                   63                   1456   \n",
       "2     62   A81011                   73                   1569   \n",
       "3    162   A81012                   57                   1333   \n",
       "4    336   A81017                   82                   2151   \n",
       "\n",
       "   opioid_per_practice  relative_opioids_per_practice  std_error   z_score  \\\n",
       "0             0.033135                      -0.002638    0.00478 -0.551926   \n",
       "1             0.043269                       0.007496    0.00487  1.539322   \n",
       "2             0.046526                       0.010754    0.00469  2.292903   \n",
       "3             0.042761                       0.006988    0.00509  1.372880   \n",
       "4             0.038122                       0.002349    0.00400  0.587268   \n",
       "\n",
       "     code                       name                     addr_1  \\\n",
       "0  A81005         SPRINGWOOD SURGERY         SPRINGWOOD SURGERY   \n",
       "1  A81007          BANKHOUSE SURGERY        ONE LIFE HARTLEPOOL   \n",
       "2  A81011          CHADWICK PRACTICE        ONE LIFE HARTLEPOOL   \n",
       "3  A81012  WESTBOURNE MEDICAL CENTRE  WESTBOURNE MEDICAL CENTRE   \n",
       "4  A81017        WOODBRIDGE PRACTICE          THE HEALTH CENTRE   \n",
       "\n",
       "                      addr_2           borough    village post_code  \n",
       "0               RECTORY LANE       GUISBOROUGH        NaN  TS14 7DJ  \n",
       "1                  PARK ROAD        HARTLEPOOL  CLEVELAND  TS24 7PW  \n",
       "2                  PARK ROAD        HARTLEPOOL  CLEVELAND  TS24 7PW  \n",
       "3  7 TRINITY MEWS N. ORMESBY     MIDDLESBROUGH        NaN   TS3 6AL  \n",
       "4    TRENCHARD AVE  THORNABY  STOCKTON ON TEES  CLEVELAND  TS17 0EE  "
      ]
     },
     "execution_count": 118,
     "metadata": {},
     "output_type": "execute_result"
    }
   ],
   "source": [
    "unique_practices.head()"
   ]
  },
  {
   "cell_type": "code",
   "execution_count": 74,
   "metadata": {
    "scrolled": true
   },
   "outputs": [
    {
     "data": {
      "text/plain": [
       "100"
      ]
     },
     "execution_count": 74,
     "metadata": {},
     "output_type": "execute_result"
    }
   ],
   "source": [
    "len(anomalies)"
   ]
  },
  {
   "cell_type": "code",
   "execution_count": 86,
   "metadata": {},
   "outputs": [
    {
     "name": "stdout",
     "output_type": "stream",
     "text": [
      "==================\n",
      "Error!\n",
      "You have been rate limited for exceeding the limit of 3 per 1 minute.\n",
      "Please slow down your submission rate.\n",
      "==================\n"
     ]
    }
   ],
   "source": [
    "grader.score.dw__script_anomalies(anomalies)"
   ]
  },
  {
   "cell_type": "markdown",
   "metadata": {},
   "source": [
    "## Question 5: script_growth\n",
    "\n",
    "Another way to identify anomalies is by comparing current data to historical data. In the case of identifying sites of drug abuse, we might compare a practice's current rate of opioid prescription to their rate 5 or 10 years ago. Unless the nature of the practice has changed, the profile of drugs they prescribe should be relatively stable. We might also want to identify trends through time for business reasons, identifying drugs that are gaining market share. That's what we'll do in this question.\n",
    "\n",
    "We'll load in beneficiary data from 6 months earlier, June 2016, and calculate the percent growth in prescription rate from June 2016 to January 2017 for each `bnf_name`. We'll return the 50 items with largest growth and the 50 items with the largest shrinkage (i.e. negative percent growth) as a list of tuples sorted by growth rate in descending order in the format `(script_name, growth_rate, raw_2016_count)`. You'll notice that many of the 50 fastest growing items have low counts of prescriptions in 2016. Filter out any items that were prescribed less than 50 times."
   ]
  },
  {
   "cell_type": "code",
   "execution_count": 13,
   "metadata": {},
   "outputs": [
    {
     "name": "stdout",
     "output_type": "stream",
     "text": [
      "<class 'pandas.core.frame.DataFrame'>\n",
      "RangeIndex: 973193 entries, 0 to 973192\n",
      "Data columns (total 7 columns):\n",
      "practice    973193 non-null object\n",
      "bnf_code    973193 non-null object\n",
      "bnf_name    973193 non-null object\n",
      "items       973193 non-null int64\n",
      "nic         973193 non-null float64\n",
      "act_cost    973193 non-null float64\n",
      "quantity    973193 non-null int64\n",
      "dtypes: float64(2), int64(2), object(3)\n",
      "memory usage: 52.0+ MB\n"
     ]
    }
   ],
   "source": [
    "scripts16 = pd.read_csv('./dw-data/201606scripts_sample.csv.gz')\n",
    "#scripts16=scripts16[scripts16['items'] >= 50]\n",
    "scripts16.info()"
   ]
  },
  {
   "cell_type": "code",
   "execution_count": 53,
   "metadata": {},
   "outputs": [],
   "source": [
    "#scripts16 = scripts16.sort_values('bnf_name', ascending=False)\n",
    "#scripts16 = scripts16.drop_duplicates(subset='bnf_name', keep='first')\n",
    "#scripts16.head()"
   ]
  },
  {
   "cell_type": "code",
   "execution_count": 54,
   "metadata": {},
   "outputs": [
    {
     "name": "stdout",
     "output_type": "stream",
     "text": [
      "<class 'pandas.core.frame.DataFrame'>\n",
      "Int64Index: 4212 entries, 10 to 13477\n",
      "Data columns (total 2 columns):\n",
      "bnf_name    4212 non-null object\n",
      "item16      4212 non-null int64\n",
      "dtypes: int64(1), object(1)\n",
      "memory usage: 98.7+ KB\n"
     ]
    }
   ],
   "source": [
    "scripts16_check=scripts16.groupby('bnf_name')['items'].sum()\n",
    "scripts16_check=pd.DataFrame(scripts16_check)\n",
    "scripts16_check.rename(columns={'items':'item16'},inplace=True)\n",
    "scripts16_check =scripts16_check.reset_index(level='bnf_name')\n",
    "scripts16_check=scripts16_check[scripts16_check.item16 > 50]\n",
    "scripts16_check.info()\n"
   ]
  },
  {
   "cell_type": "code",
   "execution_count": 55,
   "metadata": {},
   "outputs": [],
   "source": [
    "#scripts_check = scripts_check.sort_values('bnf_name', ascending=False)\n",
    "#scripts_check = scripts_check.drop_duplicates(subset='bnf_name', keep='first')\n",
    "#scripts_check.info()"
   ]
  },
  {
   "cell_type": "code",
   "execution_count": 56,
   "metadata": {},
   "outputs": [
    {
     "data": {
      "text/plain": [
       "13471"
      ]
     },
     "execution_count": 56,
     "metadata": {},
     "output_type": "execute_result"
    }
   ],
   "source": [
    "scripts.bnf_name.nunique()"
   ]
  },
  {
   "cell_type": "code",
   "execution_count": 57,
   "metadata": {},
   "outputs": [
    {
     "name": "stdout",
     "output_type": "stream",
     "text": [
      "<class 'pandas.core.frame.DataFrame'>\n",
      "RangeIndex: 13471 entries, 0 to 13470\n",
      "Data columns (total 2 columns):\n",
      "bnf_name    13471 non-null object\n",
      "item17      13471 non-null int64\n",
      "dtypes: int64(1), object(1)\n",
      "memory usage: 210.6+ KB\n"
     ]
    }
   ],
   "source": [
    "scripts_check=scripts.groupby('bnf_name')['items'].sum()\n",
    "scripts_check=pd.DataFrame(scripts_check)\n",
    "scripts_check.rename(columns={'items':'item17'},inplace=True)\n",
    "scripts_check =scripts_check.reset_index(level='bnf_name')\n",
    "#scripts_check=scripts_check[scripts_check.item17 > 50]\n",
    "scripts_check.info()\n"
   ]
  },
  {
   "cell_type": "code",
   "execution_count": 58,
   "metadata": {},
   "outputs": [
    {
     "name": "stdout",
     "output_type": "stream",
     "text": [
      "<class 'pandas.core.frame.DataFrame'>\n",
      "Int64Index: 4172 entries, 0 to 4171\n",
      "Data columns (total 3 columns):\n",
      "bnf_name    4172 non-null object\n",
      "item17      4172 non-null int64\n",
      "item16      4172 non-null int64\n",
      "dtypes: int64(2), object(1)\n",
      "memory usage: 130.4+ KB\n"
     ]
    }
   ],
   "source": [
    "result= pd.merge(scripts_check, scripts16_check, on='bnf_name')\n",
    "result.info()"
   ]
  },
  {
   "cell_type": "code",
   "execution_count": 59,
   "metadata": {},
   "outputs": [
    {
     "data": {
      "text/html": [
       "<div>\n",
       "<style scoped>\n",
       "    .dataframe tbody tr th:only-of-type {\n",
       "        vertical-align: middle;\n",
       "    }\n",
       "\n",
       "    .dataframe tbody tr th {\n",
       "        vertical-align: top;\n",
       "    }\n",
       "\n",
       "    .dataframe thead th {\n",
       "        text-align: right;\n",
       "    }\n",
       "</style>\n",
       "<table border=\"1\" class=\"dataframe\">\n",
       "  <thead>\n",
       "    <tr style=\"text-align: right;\">\n",
       "      <th></th>\n",
       "      <th>bnf_name</th>\n",
       "      <th>item17</th>\n",
       "      <th>item16</th>\n",
       "      <th>growth</th>\n",
       "    </tr>\n",
       "  </thead>\n",
       "  <tbody>\n",
       "    <tr>\n",
       "      <th>0</th>\n",
       "      <td>3m Health Care_Cavilon Durable Barrier C</td>\n",
       "      <td>4132</td>\n",
       "      <td>5129</td>\n",
       "      <td>-0.194385</td>\n",
       "    </tr>\n",
       "    <tr>\n",
       "      <th>1</th>\n",
       "      <td>3m Health Care_Cavilon No Sting 1ml Barr</td>\n",
       "      <td>517</td>\n",
       "      <td>593</td>\n",
       "      <td>-0.128162</td>\n",
       "    </tr>\n",
       "    <tr>\n",
       "      <th>2</th>\n",
       "      <td>3m Health Care_Cavilon No Sting 3ml Barr</td>\n",
       "      <td>150</td>\n",
       "      <td>204</td>\n",
       "      <td>-0.264706</td>\n",
       "    </tr>\n",
       "    <tr>\n",
       "      <th>3</th>\n",
       "      <td>3m Health Care_Cavilon No Sting Barrier</td>\n",
       "      <td>968</td>\n",
       "      <td>1103</td>\n",
       "      <td>-0.122393</td>\n",
       "    </tr>\n",
       "    <tr>\n",
       "      <th>4</th>\n",
       "      <td>A.S Saliva Orthana Spy 50ml (App)</td>\n",
       "      <td>163</td>\n",
       "      <td>114</td>\n",
       "      <td>0.429825</td>\n",
       "    </tr>\n",
       "  </tbody>\n",
       "</table>\n",
       "</div>"
      ],
      "text/plain": [
       "                                   bnf_name  item17  item16    growth\n",
       "0  3m Health Care_Cavilon Durable Barrier C    4132    5129 -0.194385\n",
       "1  3m Health Care_Cavilon No Sting 1ml Barr     517     593 -0.128162\n",
       "2  3m Health Care_Cavilon No Sting 3ml Barr     150     204 -0.264706\n",
       "3   3m Health Care_Cavilon No Sting Barrier     968    1103 -0.122393\n",
       "4         A.S Saliva Orthana Spy 50ml (App)     163     114  0.429825"
      ]
     },
     "execution_count": 59,
     "metadata": {},
     "output_type": "execute_result"
    }
   ],
   "source": [
    "result['growth']= (result['item17']-result['item16'])/result['item16']\n",
    "result.head()"
   ]
  },
  {
   "cell_type": "code",
   "execution_count": 60,
   "metadata": {},
   "outputs": [],
   "source": [
    "growth=result.sort_values('growth', ascending=False)\n",
    "\n",
    "top=growth.head(50)\n",
    "bottom=growth.tail(50)\n",
    "all=pd.concat([top,bottom])"
   ]
  },
  {
   "cell_type": "code",
   "execution_count": 61,
   "metadata": {},
   "outputs": [
    {
     "data": {
      "text/html": [
       "<div>\n",
       "<style scoped>\n",
       "    .dataframe tbody tr th:only-of-type {\n",
       "        vertical-align: middle;\n",
       "    }\n",
       "\n",
       "    .dataframe tbody tr th {\n",
       "        vertical-align: top;\n",
       "    }\n",
       "\n",
       "    .dataframe thead th {\n",
       "        text-align: right;\n",
       "    }\n",
       "</style>\n",
       "<table border=\"1\" class=\"dataframe\">\n",
       "  <thead>\n",
       "    <tr style=\"text-align: right;\">\n",
       "      <th></th>\n",
       "      <th>bnf_name</th>\n",
       "      <th>item17</th>\n",
       "      <th>item16</th>\n",
       "      <th>growth</th>\n",
       "    </tr>\n",
       "  </thead>\n",
       "  <tbody>\n",
       "    <tr>\n",
       "      <th>3656</th>\n",
       "      <td>Sunsense_Toddler Suncare Milk Spf 50+</td>\n",
       "      <td>3</td>\n",
       "      <td>56</td>\n",
       "      <td>-0.946429</td>\n",
       "    </tr>\n",
       "    <tr>\n",
       "      <th>3659</th>\n",
       "      <td>SuperCheck Plus (Reagent)_Strips</td>\n",
       "      <td>5</td>\n",
       "      <td>123</td>\n",
       "      <td>-0.959350</td>\n",
       "    </tr>\n",
       "    <tr>\n",
       "      <th>3357</th>\n",
       "      <td>Rimexolone_Eye Dps 10mg/ml</td>\n",
       "      <td>3</td>\n",
       "      <td>74</td>\n",
       "      <td>-0.959459</td>\n",
       "    </tr>\n",
       "    <tr>\n",
       "      <th>2372</th>\n",
       "      <td>Macrogol_Co Oral Pdr Sach</td>\n",
       "      <td>1</td>\n",
       "      <td>71</td>\n",
       "      <td>-0.985915</td>\n",
       "    </tr>\n",
       "    <tr>\n",
       "      <th>3111</th>\n",
       "      <td>Polyalc_Eye Dps 1.4%</td>\n",
       "      <td>1</td>\n",
       "      <td>806</td>\n",
       "      <td>-0.998759</td>\n",
       "    </tr>\n",
       "  </tbody>\n",
       "</table>\n",
       "</div>"
      ],
      "text/plain": [
       "                                   bnf_name  item17  item16    growth\n",
       "3656  Sunsense_Toddler Suncare Milk Spf 50+       3      56 -0.946429\n",
       "3659       SuperCheck Plus (Reagent)_Strips       5     123 -0.959350\n",
       "3357             Rimexolone_Eye Dps 10mg/ml       3      74 -0.959459\n",
       "2372              Macrogol_Co Oral Pdr Sach       1      71 -0.985915\n",
       "3111                   Polyalc_Eye Dps 1.4%       1     806 -0.998759"
      ]
     },
     "execution_count": 61,
     "metadata": {},
     "output_type": "execute_result"
    }
   ],
   "source": [
    "all.tail()"
   ]
  },
  {
   "cell_type": "code",
   "execution_count": 62,
   "metadata": {},
   "outputs": [],
   "source": [
    "results = []\n",
    "\n",
    "for index, item in all.iterrows():\n",
    "    data = (item['bnf_name'], item['growth'], item['item16'])\n",
    "    results.append(data)\n",
    "script_growth=results[:100]\n"
   ]
  },
  {
   "cell_type": "code",
   "execution_count": 66,
   "metadata": {},
   "outputs": [
    {
     "data": {
      "text/plain": [
       "100"
      ]
     },
     "execution_count": 66,
     "metadata": {},
     "output_type": "execute_result"
    }
   ],
   "source": [
    "len(script_growth)"
   ]
  },
  {
   "cell_type": "code",
   "execution_count": 26,
   "metadata": {},
   "outputs": [],
   "source": [
    "scripts16 = pd.read_csv('./dw-data/201606scripts_sample.csv.gz')\n",
    "#scripts16=scripts16[scripts16['items'] >= 50]\n",
    "\n",
    "scripts16_check=scripts16.groupby('bnf_name')['items'].sum()\n",
    "scripts16_check=pd.DataFrame(scripts16_check)\n",
    "scripts16_check.rename(columns={'items':'item16'},inplace=True)\n",
    "scripts16_check =scripts16_check.reset_index(level='bnf_name')\n",
    "scripts16_check=scripts16_check[scripts16_check.item16 >= 50]\n",
    "\n",
    "\n",
    "scripts_check=scripts.groupby('bnf_name')['items'].sum()\n",
    "scripts_check=pd.DataFrame(scripts_check)\n",
    "scripts_check.rename(columns={'items':'item17'},inplace=True)\n",
    "scripts_check =scripts_check.reset_index(level='bnf_name')\n",
    "#scripts_check=scripts_check[scripts_check.item17 > 50]\n",
    "\n",
    "\n",
    "result= pd.merge(scripts_check, scripts16_check, left_on='bnf_name',right_on='bnf_name', how='inner')\n",
    "result=result.dropna()\n",
    "result['growth']= (result['item17']-result['item16'])/result['item16']\n",
    "\n",
    "\n",
    "growth=result.sort_values('growth', ascending=False)\n",
    "\n",
    "top=growth.head(50)\n",
    "bottom=growth.tail(50)\n",
    "all=pd.concat([top,bottom])\n",
    "\n",
    "results = []\n",
    "\n",
    "for index, item in all.iterrows():\n",
    "    data = (item['bnf_name'], item['growth'], item['item16'])\n",
    "    results.append(data)\n",
    "script_growth=results[:100]\n"
   ]
  },
  {
   "cell_type": "code",
   "execution_count": 14,
   "metadata": {},
   "outputs": [],
   "source": [
    "pct_growth=scripts['bnf_name'].value_counts()/scripts16['bnf_name'].value_counts()-1\n",
    "pct_growth.name='growth'"
   ]
  },
  {
   "cell_type": "code",
   "execution_count": 15,
   "metadata": {},
   "outputs": [],
   "source": [
    "raw_count=scripts16['bnf_name'].value_counts()"
   ]
  },
  {
   "cell_type": "code",
   "execution_count": 16,
   "metadata": {},
   "outputs": [
    {
     "data": {
      "text/html": [
       "<div>\n",
       "<style scoped>\n",
       "    .dataframe tbody tr th:only-of-type {\n",
       "        vertical-align: middle;\n",
       "    }\n",
       "\n",
       "    .dataframe tbody tr th {\n",
       "        vertical-align: top;\n",
       "    }\n",
       "\n",
       "    .dataframe thead th {\n",
       "        text-align: right;\n",
       "    }\n",
       "</style>\n",
       "<table border=\"1\" class=\"dataframe\">\n",
       "  <thead>\n",
       "    <tr style=\"text-align: right;\">\n",
       "      <th></th>\n",
       "      <th>index</th>\n",
       "      <th>growth</th>\n",
       "      <th>raw_count</th>\n",
       "    </tr>\n",
       "  </thead>\n",
       "  <tbody>\n",
       "    <tr>\n",
       "      <th>0</th>\n",
       "      <td>Butec_Transdermal Patch 5mcg/hr</td>\n",
       "      <td>3.467742</td>\n",
       "      <td>62.0</td>\n",
       "    </tr>\n",
       "    <tr>\n",
       "      <th>1</th>\n",
       "      <td>Butec_Transdermal Patch 10mcg/hr</td>\n",
       "      <td>3.000000</td>\n",
       "      <td>69.0</td>\n",
       "    </tr>\n",
       "    <tr>\n",
       "      <th>2</th>\n",
       "      <td>Fostair NEXThaler_Inh 200mcg/6mcg (120D)</td>\n",
       "      <td>1.430233</td>\n",
       "      <td>86.0</td>\n",
       "    </tr>\n",
       "    <tr>\n",
       "      <th>3</th>\n",
       "      <td>Pneumococcal_Vac 0.5ml Vl (23 Valent)</td>\n",
       "      <td>1.269430</td>\n",
       "      <td>193.0</td>\n",
       "    </tr>\n",
       "    <tr>\n",
       "      <th>4</th>\n",
       "      <td>Spiolto Respimat_Inha2.5/2.5mcg(60D)+Dev</td>\n",
       "      <td>1.269231</td>\n",
       "      <td>52.0</td>\n",
       "    </tr>\n",
       "  </tbody>\n",
       "</table>\n",
       "</div>"
      ],
      "text/plain": [
       "                                      index    growth  raw_count\n",
       "0           Butec_Transdermal Patch 5mcg/hr  3.467742       62.0\n",
       "1          Butec_Transdermal Patch 10mcg/hr  3.000000       69.0\n",
       "2  Fostair NEXThaler_Inh 200mcg/6mcg (120D)  1.430233       86.0\n",
       "3     Pneumococcal_Vac 0.5ml Vl (23 Valent)  1.269430      193.0\n",
       "4  Spiolto Respimat_Inha2.5/2.5mcg(60D)+Dev  1.269231       52.0"
      ]
     },
     "execution_count": 16,
     "metadata": {},
     "output_type": "execute_result"
    }
   ],
   "source": [
    "result=pct_growth.to_frame()\n",
    "result['raw_count']=raw_count\n",
    "result=(result.sort_values('growth', ascending=False)\n",
    "        .query('raw_count >50')\n",
    "        .dropna()\n",
    "        .reset_index())\n",
    "result.head()"
   ]
  },
  {
   "cell_type": "code",
   "execution_count": 17,
   "metadata": {},
   "outputs": [],
   "source": [
    "script_growth=pd.concat([result.head(50),result.tail(50)])\n",
    "script_growth_ans=script_growth[['index','growth','raw_count']]"
   ]
  },
  {
   "cell_type": "code",
   "execution_count": 18,
   "metadata": {},
   "outputs": [],
   "source": [
    "#script_growth = [(\"Butec_Transdermal Patch 5mcg\\/hr\", 3.4677419355, 62.0)] * 100"
   ]
  },
  {
   "cell_type": "code",
   "execution_count": 19,
   "metadata": {},
   "outputs": [
    {
     "name": "stdout",
     "output_type": "stream",
     "text": [
      "==================\n",
      "Your score:  0.9900000000000007\n",
      "==================\n"
     ]
    }
   ],
   "source": [
    "grader.score.dw__script_growth(script_growth_ans)"
   ]
  },
  {
   "cell_type": "markdown",
   "metadata": {},
   "source": [
    "## Question 6: rare_scripts\n",
    "\n",
    "Does a practice's prescription costs originate from routine care or from reliance on rarely prescribed treatments? Commonplace treatments can carry lower costs than rare treatments because of efficiencies in large-scale production. While some specialist practices can't help but avoid prescribing rare medicines because there are no alternatives, some practices may be prescribing a unnecessary amount of brand-name products when generics are available. Let's identify practices whose costs disproportionately originate from rarely prescribed items.\n",
    "\n",
    "First we have to identify which `'bnf_code'` are rare. To do this, find the probability $p$ of a prescription having a particular `'bnf_code'` if the `'bnf_code'` was randomly chosen from the unique options in the beneficiary data. We will call a `'bnf_code'` rare if it is prescribed at a rate less than $0.1p$."
   ]
  },
  {
   "cell_type": "code",
   "execution_count": 87,
   "metadata": {},
   "outputs": [
    {
     "data": {
      "text/plain": [
       "1975"
      ]
     },
     "execution_count": 87,
     "metadata": {},
     "output_type": "execute_result"
    }
   ],
   "source": [
    "scripts['bnf_code'].nunique()"
   ]
  },
  {
   "cell_type": "code",
   "execution_count": 88,
   "metadata": {},
   "outputs": [],
   "source": [
    "p = 1/scripts['bnf_code'].nunique()\n",
    "rates = scripts['bnf_code'].value_counts()/len(scripts)\n",
    "rare_codes = rates < 0.1*p\n",
    "scripts=scripts.set_index(['bnf_code'])\n",
    "scripts['rare'] = rare_codes"
   ]
  },
  {
   "cell_type": "code",
   "execution_count": 89,
   "metadata": {},
   "outputs": [],
   "source": [
    "rare_cost_total=scripts.query('rare==True').groupby('practice')['act_cost'].sum()\n",
    "all_cost_total=scripts.groupby('practice')['act_cost'].sum()\n"
   ]
  },
  {
   "cell_type": "markdown",
   "metadata": {},
   "source": [
    "Now for each practice, calculate the proportion of costs that originate from prescription of rare treatments (i.e. rare `'bnf_code'`). Use the `'act_cost'` field for this calculation."
   ]
  },
  {
   "cell_type": "code",
   "execution_count": 90,
   "metadata": {},
   "outputs": [
    {
     "data": {
      "text/plain": [
       "0"
      ]
     },
     "execution_count": 90,
     "metadata": {},
     "output_type": "execute_result"
    }
   ],
   "source": [
    "rare_cost_prop = (rare_cost_total/all_cost_total).fillna(0)\n",
    "rare_cost_prop.isna().sum()"
   ]
  },
  {
   "cell_type": "code",
   "execution_count": 93,
   "metadata": {},
   "outputs": [],
   "source": [
    "#set(all_cost_total.index)-set(rare_cost_total.index)"
   ]
  },
  {
   "cell_type": "code",
   "execution_count": 94,
   "metadata": {},
   "outputs": [
    {
     "data": {
      "text/html": [
       "<div>\n",
       "<style scoped>\n",
       "    .dataframe tbody tr th:only-of-type {\n",
       "        vertical-align: middle;\n",
       "    }\n",
       "\n",
       "    .dataframe tbody tr th {\n",
       "        vertical-align: top;\n",
       "    }\n",
       "\n",
       "    .dataframe thead th {\n",
       "        text-align: right;\n",
       "    }\n",
       "</style>\n",
       "<table border=\"1\" class=\"dataframe\">\n",
       "  <thead>\n",
       "    <tr style=\"text-align: right;\">\n",
       "      <th></th>\n",
       "      <th>practice</th>\n",
       "      <th>bnf_name</th>\n",
       "      <th>items</th>\n",
       "      <th>nic</th>\n",
       "      <th>act_cost</th>\n",
       "      <th>quantity</th>\n",
       "      <th>post_code</th>\n",
       "      <th>rare</th>\n",
       "    </tr>\n",
       "    <tr>\n",
       "      <th>bnf_code</th>\n",
       "      <th></th>\n",
       "      <th></th>\n",
       "      <th></th>\n",
       "      <th></th>\n",
       "      <th></th>\n",
       "      <th></th>\n",
       "      <th></th>\n",
       "      <th></th>\n",
       "    </tr>\n",
       "  </thead>\n",
       "  <tbody>\n",
       "    <tr>\n",
       "      <th>0301011R0</th>\n",
       "      <td>Y05366</td>\n",
       "      <td>Salbutamol_Inha B/A 100mcg (200 D) CFF</td>\n",
       "      <td>1</td>\n",
       "      <td>6.3</td>\n",
       "      <td>5.84</td>\n",
       "      <td>1</td>\n",
       "      <td>NG10 1RY</td>\n",
       "      <td>False</td>\n",
       "    </tr>\n",
       "  </tbody>\n",
       "</table>\n",
       "</div>"
      ],
      "text/plain": [
       "          practice                                bnf_name  items  nic  \\\n",
       "bnf_code                                                                 \n",
       "0301011R0   Y05366  Salbutamol_Inha B/A 100mcg (200 D) CFF      1  6.3   \n",
       "\n",
       "           act_cost  quantity post_code   rare  \n",
       "bnf_code                                        \n",
       "0301011R0      5.84         1  NG10 1RY  False  "
      ]
     },
     "execution_count": 94,
     "metadata": {},
     "output_type": "execute_result"
    }
   ],
   "source": [
    "scripts.query('practice==\"Y05366\"')"
   ]
  },
  {
   "cell_type": "code",
   "execution_count": 95,
   "metadata": {},
   "outputs": [],
   "source": [
    "relative_rare_cost_prop = rare_cost_prop-scripts.query('rare==True')['act_cost'].sum()/scripts['act_cost'].sum()"
   ]
  },
  {
   "cell_type": "code",
   "execution_count": 96,
   "metadata": {},
   "outputs": [],
   "source": [
    "standard_errors=relative_rare_cost_prop.std()"
   ]
  },
  {
   "cell_type": "code",
   "execution_count": 97,
   "metadata": {},
   "outputs": [],
   "source": [
    "rare_scores=relative_rare_cost_prop/standard_errors"
   ]
  },
  {
   "cell_type": "markdown",
   "metadata": {},
   "source": [
    "Now we will calculate a z-score for each practice based on this proportion.\n",
    "First take the difference of `rare_cost_prop` and the proportion of costs originating from rare treatments across all practices."
   ]
  },
  {
   "cell_type": "code",
   "execution_count": 136,
   "metadata": {},
   "outputs": [
    {
     "data": {
      "text/plain": [
       "<matplotlib.axes._subplots.AxesSubplot at 0x7f04d7e99eb8>"
      ]
     },
     "execution_count": 136,
     "metadata": {},
     "output_type": "execute_result"
    },
    {
     "data": {
      "image/png": "[encoded data removed]",
      "text/plain": [
       "<Figure size 864x576 with 1 Axes>"
      ]
     },
     "metadata": {},
     "output_type": "display_data"
    }
   ],
   "source": [
    "rare_scores.hist(bins=40)"
   ]
  },
  {
   "cell_type": "markdown",
   "metadata": {},
   "source": [
    "Now we will estimate the standard errors (i.e. the denominator of the z-score) by simply taking the standard deviation of this difference."
   ]
  },
  {
   "cell_type": "code",
   "execution_count": 140,
   "metadata": {},
   "outputs": [
    {
     "data": {
      "text/html": [
       "<div>\n",
       "<style scoped>\n",
       "    .dataframe tbody tr th:only-of-type {\n",
       "        vertical-align: middle;\n",
       "    }\n",
       "\n",
       "    .dataframe tbody tr th {\n",
       "        vertical-align: top;\n",
       "    }\n",
       "\n",
       "    .dataframe thead th {\n",
       "        text-align: right;\n",
       "    }\n",
       "</style>\n",
       "<table border=\"1\" class=\"dataframe\">\n",
       "  <thead>\n",
       "    <tr style=\"text-align: right;\">\n",
       "      <th></th>\n",
       "      <th>practice</th>\n",
       "      <th>rare_scores</th>\n",
       "    </tr>\n",
       "  </thead>\n",
       "  <tbody>\n",
       "    <tr>\n",
       "      <th>765</th>\n",
       "      <td>Y03472</td>\n",
       "      <td>16.262687</td>\n",
       "    </tr>\n",
       "    <tr>\n",
       "      <th>831</th>\n",
       "      <td>Y05320</td>\n",
       "      <td>15.128648</td>\n",
       "    </tr>\n",
       "    <tr>\n",
       "      <th>793</th>\n",
       "      <td>Y04404</td>\n",
       "      <td>7.542139</td>\n",
       "    </tr>\n",
       "    <tr>\n",
       "      <th>766</th>\n",
       "      <td>Y03484</td>\n",
       "      <td>7.287222</td>\n",
       "    </tr>\n",
       "    <tr>\n",
       "      <th>794</th>\n",
       "      <td>Y04424</td>\n",
       "      <td>6.838614</td>\n",
       "    </tr>\n",
       "  </tbody>\n",
       "</table>\n",
       "</div>"
      ],
      "text/plain": [
       "    practice  rare_scores\n",
       "765   Y03472    16.262687\n",
       "831   Y05320    15.128648\n",
       "793   Y04404     7.542139\n",
       "766   Y03484     7.287222\n",
       "794   Y04424     6.838614"
      ]
     },
     "execution_count": 140,
     "metadata": {},
     "output_type": "execute_result"
    }
   ],
   "source": [
    "rare_scores.name='rare_scores'\n",
    "rare_scripts=rare_scores.to_frame().reset_index().sort_values('rare_scores', ascending=False)\n",
    "rare_scripts.head()"
   ]
  },
  {
   "cell_type": "code",
   "execution_count": 146,
   "metadata": {},
   "outputs": [],
   "source": [
    "rare_scripts['name']=unique_practices['name']\n",
    "rare_stuff=rare_scripts[['practice','name','rare_scores']].head(100)\n"
   ]
  },
  {
   "cell_type": "code",
   "execution_count": 138,
   "metadata": {},
   "outputs": [],
   "source": [
    "#(unique_practices.sort_values('rare_scores', ascending=False)\n",
    " #                .reset_index().loc[:,['code','name','act_cost']]\n",
    "  #                .head(100))\n",
    " "
   ]
  },
  {
   "cell_type": "code",
   "execution_count": null,
   "metadata": {},
   "outputs": [],
   "source": []
  },
  {
   "cell_type": "markdown",
   "metadata": {},
   "source": [
    "Finally compute the z-scores. Return the practices with the top 100 z-scores in the form `(post_code, practice_name, z-score)`. Note that some practice codes will correspond with multiple names. In this case, use the first match when sorting names alphabetically."
   ]
  },
  {
   "cell_type": "code",
   "execution_count": null,
   "metadata": {},
   "outputs": [],
   "source": [
    "#rare_scores = ..."
   ]
  },
  {
   "cell_type": "code",
   "execution_count": null,
   "metadata": {},
   "outputs": [],
   "source": [
    "#rare_scripts = [(\"Y03472\", \"CONSULTANT DIABETES TEAM\", 16.2626871247)] * 100"
   ]
  },
  {
   "cell_type": "code",
   "execution_count": 147,
   "metadata": {},
   "outputs": [
    {
     "name": "stdout",
     "output_type": "stream",
     "text": [
      "==================\n",
      "Your score:  1.0\n",
      "==================\n"
     ]
    }
   ],
   "source": [
    "grader.score.dw__rare_scripts(rare_stuff)"
   ]
  },
  {
   "cell_type": "markdown",
   "metadata": {},
   "source": [
    "*Copyright &copy; 2020 The Data Incubator.  All rights reserved.*"
   ]
  }
 ],
 "metadata": {
  "kernelspec": {
   "display_name": "Python 3",
   "language": "python",
   "name": "python3"
  },
  "language_info": {
   "codemirror_mode": {
    "name": "ipython",
    "version": 3
   },
   "file_extension": ".py",
   "mimetype": "text/x-python",
   "name": "python",
   "nbconvert_exporter": "python",
   "pygments_lexer": "ipython3",
   "version": "3.7.3"
  },
  "nbclean": true
 },
 "nbformat": 4,
 "nbformat_minor": 1
}
