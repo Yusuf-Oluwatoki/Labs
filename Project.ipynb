{
  "nbformat": 4,
  "nbformat_minor": 0,
  "metadata": {
    "accelerator": "GPU",
    "colab": {
      "name": "Project.ipynb",
      "provenance": [],
      "collapsed_sections": [],
      "include_colab_link": true
    },
    "kernelspec": {
      "display_name": "Python 3",
      "language": "python",
      "name": "python3"
    },
    "language_info": {
      "codemirror_mode": {
        "name": "ipython",
        "version": 3
      },
      "file_extension": ".py",
      "mimetype": "text/x-python",
      "name": "python",
      "nbconvert_exporter": "python",
      "pygments_lexer": "ipython3",
      "version": "3.6.5"
    }
  },
  "cells": [
    {
      "cell_type": "markdown",
      "metadata": {
        "id": "view-in-github",
        "colab_type": "text"
      },
      "source": [
        "<a href=\"https://colab.research.google.com/github/gapton76/Labs/blob/master/Project.ipynb\" target=\"_parent\"><img src=\"https://colab.research.google.com/assets/colab-badge.svg\" alt=\"Open In Colab\"/></a>"
      ]
    },
    {
      "cell_type": "code",
      "metadata": {
        "id": "Gswz8JWcY_Pi"
      },
      "source": [
        "#!pip install -U -q kaggle\n",
        "#!mkdir -p ~/.kaggle\n",
        "#!echo '{\"username\":\"gapton76\",\"key\":\"2e4d19178578b29fcdba3efdb423eddd\"}' >~/.kaggle/kaggle.json\n",
        "#!chmod 600 ~/.kaggle/kaggle.json"
      ],
      "execution_count": 1,
      "outputs": []
    },
    {
      "cell_type": "code",
      "metadata": {
        "id": "gsOG9nsefn5o"
      },
      "source": [
        "import pandas as pd\n",
        "import matplotlib.pyplot as plt\n",
        "import numpy as np\n",
        "import seaborn as se\n",
        "import time\n",
        "import timeit\n",
        "%matplotlib inline"
      ],
      "execution_count": 2,
      "outputs": []
    },
    {
      "cell_type": "code",
      "metadata": {
        "id": "cjFLI9myeibG",
        "outputId": "76ebf857-30cf-437a-d92d-be912dff3a96",
        "colab": {
          "base_uri": "https://localhost:8080/",
          "height": 34
        }
      },
      "source": [
        "from google.colab import drive\n",
        "drive.mount('/content/gdrive')"
      ],
      "execution_count": 3,
      "outputs": [
        {
          "output_type": "stream",
          "text": [
            "Drive already mounted at /content/gdrive; to attempt to forcibly remount, call drive.mount(\"/content/gdrive\", force_remount=True).\n"
          ],
          "name": "stdout"
        }
      ]
    },
    {
      "cell_type": "code",
      "metadata": {
        "id": "92-pmwrff18s",
        "outputId": "44f5cc8f-ecb9-4b07-8f23-be92d3fc24db",
        "colab": {
          "base_uri": "https://localhost:8080/",
          "height": 204
        }
      },
      "source": [
        "train=pd.read_csv('/content/gdrive/My Drive/Babra/train_values.csv')\n",
        "labels=pd.read_csv('/content/gdrive/My Drive/Babra/train_labels.csv')\n",
        "test=pd.read_csv('/content/gdrive/My Drive/Babra/test_values.csv')\n",
        "labels.head()"
      ],
      "execution_count": 4,
      "outputs": [
        {
          "output_type": "execute_result",
          "data": {
            "text/html": [
              "<div>\n",
              "<style scoped>\n",
              "    .dataframe tbody tr th:only-of-type {\n",
              "        vertical-align: middle;\n",
              "    }\n",
              "\n",
              "    .dataframe tbody tr th {\n",
              "        vertical-align: top;\n",
              "    }\n",
              "\n",
              "    .dataframe thead th {\n",
              "        text-align: right;\n",
              "    }\n",
              "</style>\n",
              "<table border=\"1\" class=\"dataframe\">\n",
              "  <thead>\n",
              "    <tr style=\"text-align: right;\">\n",
              "      <th></th>\n",
              "      <th>row_id</th>\n",
              "      <th>accepted</th>\n",
              "    </tr>\n",
              "  </thead>\n",
              "  <tbody>\n",
              "    <tr>\n",
              "      <th>0</th>\n",
              "      <td>0</td>\n",
              "      <td>1</td>\n",
              "    </tr>\n",
              "    <tr>\n",
              "      <th>1</th>\n",
              "      <td>1</td>\n",
              "      <td>0</td>\n",
              "    </tr>\n",
              "    <tr>\n",
              "      <th>2</th>\n",
              "      <td>2</td>\n",
              "      <td>1</td>\n",
              "    </tr>\n",
              "    <tr>\n",
              "      <th>3</th>\n",
              "      <td>3</td>\n",
              "      <td>1</td>\n",
              "    </tr>\n",
              "    <tr>\n",
              "      <th>4</th>\n",
              "      <td>4</td>\n",
              "      <td>1</td>\n",
              "    </tr>\n",
              "  </tbody>\n",
              "</table>\n",
              "</div>"
            ],
            "text/plain": [
              "   row_id  accepted\n",
              "0       0         1\n",
              "1       1         0\n",
              "2       2         1\n",
              "3       3         1\n",
              "4       4         1"
            ]
          },
          "metadata": {
            "tags": []
          },
          "execution_count": 4
        }
      ]
    },
    {
      "cell_type": "code",
      "metadata": {
        "id": "3N7yoY4ZnPjp",
        "outputId": "c06822bb-c636-4d91-9055-497f352872d9",
        "colab": {
          "base_uri": "https://localhost:8080/",
          "height": 179
        }
      },
      "source": [
        "train.head(3)"
      ],
      "execution_count": 5,
      "outputs": [
        {
          "output_type": "execute_result",
          "data": {
            "text/html": [
              "<div>\n",
              "<style scoped>\n",
              "    .dataframe tbody tr th:only-of-type {\n",
              "        vertical-align: middle;\n",
              "    }\n",
              "\n",
              "    .dataframe tbody tr th {\n",
              "        vertical-align: top;\n",
              "    }\n",
              "\n",
              "    .dataframe thead th {\n",
              "        text-align: right;\n",
              "    }\n",
              "</style>\n",
              "<table border=\"1\" class=\"dataframe\">\n",
              "  <thead>\n",
              "    <tr style=\"text-align: right;\">\n",
              "      <th></th>\n",
              "      <th>row_id</th>\n",
              "      <th>loan_type</th>\n",
              "      <th>property_type</th>\n",
              "      <th>loan_purpose</th>\n",
              "      <th>occupancy</th>\n",
              "      <th>loan_amount</th>\n",
              "      <th>preapproval</th>\n",
              "      <th>msa_md</th>\n",
              "      <th>state_code</th>\n",
              "      <th>county_code</th>\n",
              "      <th>applicant_ethnicity</th>\n",
              "      <th>applicant_race</th>\n",
              "      <th>applicant_sex</th>\n",
              "      <th>applicant_income</th>\n",
              "      <th>population</th>\n",
              "      <th>minority_population_pct</th>\n",
              "      <th>ffiecmedian_family_income</th>\n",
              "      <th>tract_to_msa_md_income_pct</th>\n",
              "      <th>number_of_owner-occupied_units</th>\n",
              "      <th>number_of_1_to_4_family_units</th>\n",
              "      <th>lender</th>\n",
              "      <th>co_applicant</th>\n",
              "    </tr>\n",
              "  </thead>\n",
              "  <tbody>\n",
              "    <tr>\n",
              "      <th>0</th>\n",
              "      <td>0</td>\n",
              "      <td>3</td>\n",
              "      <td>1</td>\n",
              "      <td>1</td>\n",
              "      <td>1</td>\n",
              "      <td>70.0</td>\n",
              "      <td>3</td>\n",
              "      <td>18</td>\n",
              "      <td>37</td>\n",
              "      <td>246</td>\n",
              "      <td>2</td>\n",
              "      <td>5</td>\n",
              "      <td>1</td>\n",
              "      <td>24.0</td>\n",
              "      <td>6203.0</td>\n",
              "      <td>44.230</td>\n",
              "      <td>60588.0</td>\n",
              "      <td>50.933</td>\n",
              "      <td>716.0</td>\n",
              "      <td>2642.0</td>\n",
              "      <td>4536</td>\n",
              "      <td>False</td>\n",
              "    </tr>\n",
              "    <tr>\n",
              "      <th>1</th>\n",
              "      <td>1</td>\n",
              "      <td>1</td>\n",
              "      <td>1</td>\n",
              "      <td>3</td>\n",
              "      <td>1</td>\n",
              "      <td>178.0</td>\n",
              "      <td>3</td>\n",
              "      <td>369</td>\n",
              "      <td>52</td>\n",
              "      <td>299</td>\n",
              "      <td>1</td>\n",
              "      <td>5</td>\n",
              "      <td>1</td>\n",
              "      <td>57.0</td>\n",
              "      <td>5774.0</td>\n",
              "      <td>15.905</td>\n",
              "      <td>54821.0</td>\n",
              "      <td>100.000</td>\n",
              "      <td>1622.0</td>\n",
              "      <td>2108.0</td>\n",
              "      <td>2458</td>\n",
              "      <td>False</td>\n",
              "    </tr>\n",
              "    <tr>\n",
              "      <th>2</th>\n",
              "      <td>2</td>\n",
              "      <td>2</td>\n",
              "      <td>1</td>\n",
              "      <td>3</td>\n",
              "      <td>1</td>\n",
              "      <td>163.0</td>\n",
              "      <td>3</td>\n",
              "      <td>16</td>\n",
              "      <td>10</td>\n",
              "      <td>306</td>\n",
              "      <td>2</td>\n",
              "      <td>5</td>\n",
              "      <td>1</td>\n",
              "      <td>67.0</td>\n",
              "      <td>6094.0</td>\n",
              "      <td>61.270</td>\n",
              "      <td>67719.0</td>\n",
              "      <td>100.000</td>\n",
              "      <td>760.0</td>\n",
              "      <td>1048.0</td>\n",
              "      <td>5710</td>\n",
              "      <td>False</td>\n",
              "    </tr>\n",
              "  </tbody>\n",
              "</table>\n",
              "</div>"
            ],
            "text/plain": [
              "   row_id  loan_type  ...  lender  co_applicant\n",
              "0       0          3  ...    4536         False\n",
              "1       1          1  ...    2458         False\n",
              "2       2          2  ...    5710         False\n",
              "\n",
              "[3 rows x 22 columns]"
            ]
          },
          "metadata": {
            "tags": []
          },
          "execution_count": 5
        }
      ]
    },
    {
      "cell_type": "code",
      "metadata": {
        "id": "3Oi8saELoYqd",
        "outputId": "cb9011d2-7c7a-4c84-83d1-da41501ec393",
        "colab": {
          "base_uri": "https://localhost:8080/",
          "height": 334
        }
      },
      "source": [
        "train.describe()"
      ],
      "execution_count": 6,
      "outputs": [
        {
          "output_type": "execute_result",
          "data": {
            "text/html": [
              "<div>\n",
              "<style scoped>\n",
              "    .dataframe tbody tr th:only-of-type {\n",
              "        vertical-align: middle;\n",
              "    }\n",
              "\n",
              "    .dataframe tbody tr th {\n",
              "        vertical-align: top;\n",
              "    }\n",
              "\n",
              "    .dataframe thead th {\n",
              "        text-align: right;\n",
              "    }\n",
              "</style>\n",
              "<table border=\"1\" class=\"dataframe\">\n",
              "  <thead>\n",
              "    <tr style=\"text-align: right;\">\n",
              "      <th></th>\n",
              "      <th>row_id</th>\n",
              "      <th>loan_type</th>\n",
              "      <th>property_type</th>\n",
              "      <th>loan_purpose</th>\n",
              "      <th>occupancy</th>\n",
              "      <th>loan_amount</th>\n",
              "      <th>preapproval</th>\n",
              "      <th>msa_md</th>\n",
              "      <th>state_code</th>\n",
              "      <th>county_code</th>\n",
              "      <th>applicant_ethnicity</th>\n",
              "      <th>applicant_race</th>\n",
              "      <th>applicant_sex</th>\n",
              "      <th>applicant_income</th>\n",
              "      <th>population</th>\n",
              "      <th>minority_population_pct</th>\n",
              "      <th>ffiecmedian_family_income</th>\n",
              "      <th>tract_to_msa_md_income_pct</th>\n",
              "      <th>number_of_owner-occupied_units</th>\n",
              "      <th>number_of_1_to_4_family_units</th>\n",
              "      <th>lender</th>\n",
              "    </tr>\n",
              "  </thead>\n",
              "  <tbody>\n",
              "    <tr>\n",
              "      <th>count</th>\n",
              "      <td>500000.000000</td>\n",
              "      <td>500000.000000</td>\n",
              "      <td>500000.000000</td>\n",
              "      <td>500000.000000</td>\n",
              "      <td>500000.000000</td>\n",
              "      <td>500000.000000</td>\n",
              "      <td>500000.000000</td>\n",
              "      <td>500000.000000</td>\n",
              "      <td>500000.000000</td>\n",
              "      <td>500000.000000</td>\n",
              "      <td>500000.000000</td>\n",
              "      <td>500000.000000</td>\n",
              "      <td>500000.000000</td>\n",
              "      <td>460052.000000</td>\n",
              "      <td>477535.000000</td>\n",
              "      <td>477534.000000</td>\n",
              "      <td>477560.000000</td>\n",
              "      <td>477486.000000</td>\n",
              "      <td>477435.000000</td>\n",
              "      <td>477470.000000</td>\n",
              "      <td>500000.000000</td>\n",
              "    </tr>\n",
              "    <tr>\n",
              "      <th>mean</th>\n",
              "      <td>249999.500000</td>\n",
              "      <td>1.366276</td>\n",
              "      <td>1.047650</td>\n",
              "      <td>2.066810</td>\n",
              "      <td>1.109590</td>\n",
              "      <td>221.753158</td>\n",
              "      <td>2.764722</td>\n",
              "      <td>181.606972</td>\n",
              "      <td>23.726924</td>\n",
              "      <td>144.542062</td>\n",
              "      <td>2.036228</td>\n",
              "      <td>4.786586</td>\n",
              "      <td>1.462374</td>\n",
              "      <td>102.389521</td>\n",
              "      <td>5416.833956</td>\n",
              "      <td>31.617310</td>\n",
              "      <td>69235.603298</td>\n",
              "      <td>91.832624</td>\n",
              "      <td>1427.718282</td>\n",
              "      <td>1886.147065</td>\n",
              "      <td>3720.121344</td>\n",
              "    </tr>\n",
              "    <tr>\n",
              "      <th>std</th>\n",
              "      <td>144337.711634</td>\n",
              "      <td>0.690555</td>\n",
              "      <td>0.231404</td>\n",
              "      <td>0.948371</td>\n",
              "      <td>0.326092</td>\n",
              "      <td>590.641648</td>\n",
              "      <td>0.543061</td>\n",
              "      <td>138.464169</td>\n",
              "      <td>15.982768</td>\n",
              "      <td>100.243612</td>\n",
              "      <td>0.511351</td>\n",
              "      <td>1.024927</td>\n",
              "      <td>0.677685</td>\n",
              "      <td>153.534496</td>\n",
              "      <td>2728.144999</td>\n",
              "      <td>26.333938</td>\n",
              "      <td>14810.058791</td>\n",
              "      <td>14.210924</td>\n",
              "      <td>737.559511</td>\n",
              "      <td>914.123744</td>\n",
              "      <td>1838.313175</td>\n",
              "    </tr>\n",
              "    <tr>\n",
              "      <th>min</th>\n",
              "      <td>0.000000</td>\n",
              "      <td>1.000000</td>\n",
              "      <td>1.000000</td>\n",
              "      <td>1.000000</td>\n",
              "      <td>1.000000</td>\n",
              "      <td>1.000000</td>\n",
              "      <td>1.000000</td>\n",
              "      <td>-1.000000</td>\n",
              "      <td>-1.000000</td>\n",
              "      <td>-1.000000</td>\n",
              "      <td>1.000000</td>\n",
              "      <td>1.000000</td>\n",
              "      <td>1.000000</td>\n",
              "      <td>1.000000</td>\n",
              "      <td>14.000000</td>\n",
              "      <td>0.534000</td>\n",
              "      <td>17858.000000</td>\n",
              "      <td>3.981000</td>\n",
              "      <td>4.000000</td>\n",
              "      <td>1.000000</td>\n",
              "      <td>0.000000</td>\n",
              "    </tr>\n",
              "    <tr>\n",
              "      <th>25%</th>\n",
              "      <td>124999.750000</td>\n",
              "      <td>1.000000</td>\n",
              "      <td>1.000000</td>\n",
              "      <td>1.000000</td>\n",
              "      <td>1.000000</td>\n",
              "      <td>93.000000</td>\n",
              "      <td>3.000000</td>\n",
              "      <td>25.000000</td>\n",
              "      <td>6.000000</td>\n",
              "      <td>57.000000</td>\n",
              "      <td>2.000000</td>\n",
              "      <td>5.000000</td>\n",
              "      <td>1.000000</td>\n",
              "      <td>47.000000</td>\n",
              "      <td>3744.000000</td>\n",
              "      <td>10.700000</td>\n",
              "      <td>59731.000000</td>\n",
              "      <td>88.067250</td>\n",
              "      <td>944.000000</td>\n",
              "      <td>1301.000000</td>\n",
              "      <td>2442.000000</td>\n",
              "    </tr>\n",
              "    <tr>\n",
              "      <th>50%</th>\n",
              "      <td>249999.500000</td>\n",
              "      <td>1.000000</td>\n",
              "      <td>1.000000</td>\n",
              "      <td>2.000000</td>\n",
              "      <td>1.000000</td>\n",
              "      <td>162.000000</td>\n",
              "      <td>3.000000</td>\n",
              "      <td>192.000000</td>\n",
              "      <td>26.000000</td>\n",
              "      <td>131.000000</td>\n",
              "      <td>2.000000</td>\n",
              "      <td>5.000000</td>\n",
              "      <td>1.000000</td>\n",
              "      <td>74.000000</td>\n",
              "      <td>4975.000000</td>\n",
              "      <td>22.901000</td>\n",
              "      <td>67526.000000</td>\n",
              "      <td>100.000000</td>\n",
              "      <td>1327.000000</td>\n",
              "      <td>1753.000000</td>\n",
              "      <td>3731.000000</td>\n",
              "    </tr>\n",
              "    <tr>\n",
              "      <th>75%</th>\n",
              "      <td>374999.250000</td>\n",
              "      <td>2.000000</td>\n",
              "      <td>1.000000</td>\n",
              "      <td>3.000000</td>\n",
              "      <td>1.000000</td>\n",
              "      <td>266.000000</td>\n",
              "      <td>3.000000</td>\n",
              "      <td>314.000000</td>\n",
              "      <td>37.000000</td>\n",
              "      <td>246.000000</td>\n",
              "      <td>2.000000</td>\n",
              "      <td>5.000000</td>\n",
              "      <td>2.000000</td>\n",
              "      <td>117.000000</td>\n",
              "      <td>6467.000000</td>\n",
              "      <td>46.020000</td>\n",
              "      <td>75351.000000</td>\n",
              "      <td>100.000000</td>\n",
              "      <td>1780.000000</td>\n",
              "      <td>2309.000000</td>\n",
              "      <td>5436.000000</td>\n",
              "    </tr>\n",
              "    <tr>\n",
              "      <th>max</th>\n",
              "      <td>499999.000000</td>\n",
              "      <td>4.000000</td>\n",
              "      <td>3.000000</td>\n",
              "      <td>3.000000</td>\n",
              "      <td>3.000000</td>\n",
              "      <td>100878.000000</td>\n",
              "      <td>3.000000</td>\n",
              "      <td>408.000000</td>\n",
              "      <td>52.000000</td>\n",
              "      <td>324.000000</td>\n",
              "      <td>4.000000</td>\n",
              "      <td>7.000000</td>\n",
              "      <td>4.000000</td>\n",
              "      <td>10139.000000</td>\n",
              "      <td>37097.000000</td>\n",
              "      <td>100.000000</td>\n",
              "      <td>125248.000000</td>\n",
              "      <td>100.000000</td>\n",
              "      <td>8771.000000</td>\n",
              "      <td>13623.000000</td>\n",
              "      <td>6508.000000</td>\n",
              "    </tr>\n",
              "  </tbody>\n",
              "</table>\n",
              "</div>"
            ],
            "text/plain": [
              "              row_id  ...         lender\n",
              "count  500000.000000  ...  500000.000000\n",
              "mean   249999.500000  ...    3720.121344\n",
              "std    144337.711634  ...    1838.313175\n",
              "min         0.000000  ...       0.000000\n",
              "25%    124999.750000  ...    2442.000000\n",
              "50%    249999.500000  ...    3731.000000\n",
              "75%    374999.250000  ...    5436.000000\n",
              "max    499999.000000  ...    6508.000000\n",
              "\n",
              "[8 rows x 21 columns]"
            ]
          },
          "metadata": {
            "tags": []
          },
          "execution_count": 6
        }
      ]
    },
    {
      "cell_type": "code",
      "metadata": {
        "id": "N7IHgC5OqRE6",
        "outputId": "39c67ae2-7af8-46eb-8e45-90a3f154760f",
        "colab": {
          "base_uri": "https://localhost:8080/",
          "height": 170
        }
      },
      "source": [
        "labels.accepted.describe()"
      ],
      "execution_count": 7,
      "outputs": [
        {
          "output_type": "execute_result",
          "data": {
            "text/plain": [
              "count    500000.000000\n",
              "mean          0.500228\n",
              "std           0.500000\n",
              "min           0.000000\n",
              "25%           0.000000\n",
              "50%           1.000000\n",
              "75%           1.000000\n",
              "max           1.000000\n",
              "Name: accepted, dtype: float64"
            ]
          },
          "metadata": {
            "tags": []
          },
          "execution_count": 7
        }
      ]
    },
    {
      "cell_type": "code",
      "metadata": {
        "id": "egiNcNIxeAE7",
        "outputId": "8c919033-cd11-4086-911a-0d8a8ebc44b2",
        "colab": {
          "base_uri": "https://localhost:8080/",
          "height": 510
        }
      },
      "source": [
        "train.info()"
      ],
      "execution_count": 8,
      "outputs": [
        {
          "output_type": "stream",
          "text": [
            "<class 'pandas.core.frame.DataFrame'>\n",
            "RangeIndex: 500000 entries, 0 to 499999\n",
            "Data columns (total 22 columns):\n",
            " #   Column                          Non-Null Count   Dtype  \n",
            "---  ------                          --------------   -----  \n",
            " 0   row_id                          500000 non-null  int64  \n",
            " 1   loan_type                       500000 non-null  int64  \n",
            " 2   property_type                   500000 non-null  int64  \n",
            " 3   loan_purpose                    500000 non-null  int64  \n",
            " 4   occupancy                       500000 non-null  int64  \n",
            " 5   loan_amount                     500000 non-null  float64\n",
            " 6   preapproval                     500000 non-null  int64  \n",
            " 7   msa_md                          500000 non-null  int64  \n",
            " 8   state_code                      500000 non-null  int64  \n",
            " 9   county_code                     500000 non-null  int64  \n",
            " 10  applicant_ethnicity             500000 non-null  int64  \n",
            " 11  applicant_race                  500000 non-null  int64  \n",
            " 12  applicant_sex                   500000 non-null  int64  \n",
            " 13  applicant_income                460052 non-null  float64\n",
            " 14  population                      477535 non-null  float64\n",
            " 15  minority_population_pct         477534 non-null  float64\n",
            " 16  ffiecmedian_family_income       477560 non-null  float64\n",
            " 17  tract_to_msa_md_income_pct      477486 non-null  float64\n",
            " 18  number_of_owner-occupied_units  477435 non-null  float64\n",
            " 19  number_of_1_to_4_family_units   477470 non-null  float64\n",
            " 20  lender                          500000 non-null  int64  \n",
            " 21  co_applicant                    500000 non-null  bool   \n",
            "dtypes: bool(1), float64(8), int64(13)\n",
            "memory usage: 80.6 MB\n"
          ],
          "name": "stdout"
        }
      ]
    },
    {
      "cell_type": "code",
      "metadata": {
        "id": "iWod3FjceAFJ",
        "outputId": "a3c9d5ca-24bb-4cf0-a363-4234e8c045a1",
        "colab": {
          "base_uri": "https://localhost:8080/",
          "height": 510
        }
      },
      "source": [
        "test.info()"
      ],
      "execution_count": 9,
      "outputs": [
        {
          "output_type": "stream",
          "text": [
            "<class 'pandas.core.frame.DataFrame'>\n",
            "RangeIndex: 500000 entries, 0 to 499999\n",
            "Data columns (total 22 columns):\n",
            " #   Column                          Non-Null Count   Dtype  \n",
            "---  ------                          --------------   -----  \n",
            " 0   row_id                          500000 non-null  int64  \n",
            " 1   loan_type                       500000 non-null  int64  \n",
            " 2   property_type                   500000 non-null  int64  \n",
            " 3   loan_purpose                    500000 non-null  int64  \n",
            " 4   occupancy                       500000 non-null  int64  \n",
            " 5   loan_amount                     500000 non-null  float64\n",
            " 6   preapproval                     500000 non-null  int64  \n",
            " 7   msa_md                          500000 non-null  int64  \n",
            " 8   state_code                      500000 non-null  int64  \n",
            " 9   county_code                     500000 non-null  int64  \n",
            " 10  applicant_ethnicity             500000 non-null  int64  \n",
            " 11  applicant_race                  500000 non-null  int64  \n",
            " 12  applicant_sex                   500000 non-null  int64  \n",
            " 13  applicant_income                459859 non-null  float64\n",
            " 14  population                      477520 non-null  float64\n",
            " 15  minority_population_pct         477518 non-null  float64\n",
            " 16  ffiecmedian_family_income       477547 non-null  float64\n",
            " 17  tract_to_msa_md_income_pct      477483 non-null  float64\n",
            " 18  number_of_owner-occupied_units  477426 non-null  float64\n",
            " 19  number_of_1_to_4_family_units   477450 non-null  float64\n",
            " 20  lender                          500000 non-null  int64  \n",
            " 21  co_applicant                    500000 non-null  bool   \n",
            "dtypes: bool(1), float64(8), int64(13)\n",
            "memory usage: 80.6 MB\n"
          ],
          "name": "stdout"
        }
      ]
    },
    {
      "cell_type": "code",
      "metadata": {
        "id": "qfHvAKhoeAFP",
        "outputId": "82dbd445-f28c-4359-e239-b7fac3627a60",
        "colab": {
          "base_uri": "https://localhost:8080/",
          "height": 170
        }
      },
      "source": [
        "labels.info()"
      ],
      "execution_count": 10,
      "outputs": [
        {
          "output_type": "stream",
          "text": [
            "<class 'pandas.core.frame.DataFrame'>\n",
            "RangeIndex: 500000 entries, 0 to 499999\n",
            "Data columns (total 2 columns):\n",
            " #   Column    Non-Null Count   Dtype\n",
            "---  ------    --------------   -----\n",
            " 0   row_id    500000 non-null  int64\n",
            " 1   accepted  500000 non-null  int64\n",
            "dtypes: int64(2)\n",
            "memory usage: 7.6 MB\n"
          ],
          "name": "stdout"
        }
      ]
    },
    {
      "cell_type": "code",
      "metadata": {
        "id": "FGY9quqMeAFX",
        "outputId": "a35f0e84-ed9d-47a9-d93a-ac9a2d3e990d",
        "colab": {
          "base_uri": "https://localhost:8080/",
          "height": 170
        }
      },
      "source": [
        "train.applicant_income.describe()"
      ],
      "execution_count": 11,
      "outputs": [
        {
          "output_type": "execute_result",
          "data": {
            "text/plain": [
              "count    460052.000000\n",
              "mean        102.389521\n",
              "std         153.534496\n",
              "min           1.000000\n",
              "25%          47.000000\n",
              "50%          74.000000\n",
              "75%         117.000000\n",
              "max       10139.000000\n",
              "Name: applicant_income, dtype: float64"
            ]
          },
          "metadata": {
            "tags": []
          },
          "execution_count": 11
        }
      ]
    },
    {
      "cell_type": "code",
      "metadata": {
        "id": "lwhTkV54eAFf",
        "outputId": "1bd0e5e9-331c-4981-d383-2955113dcbe4",
        "colab": {
          "base_uri": "https://localhost:8080/",
          "height": 34
        }
      },
      "source": [
        "train.applicant_income.isnull().sum()"
      ],
      "execution_count": 12,
      "outputs": [
        {
          "output_type": "execute_result",
          "data": {
            "text/plain": [
              "39948"
            ]
          },
          "metadata": {
            "tags": []
          },
          "execution_count": 12
        }
      ]
    },
    {
      "cell_type": "code",
      "metadata": {
        "id": "Fnee9IuEeAFq",
        "outputId": "421ffc10-5777-495d-d856-683247a4ae98",
        "colab": {
          "base_uri": "https://localhost:8080/",
          "height": 221
        }
      },
      "source": [
        "(train.applicant_income>np.mean(train.applicant_income))"
      ],
      "execution_count": 13,
      "outputs": [
        {
          "output_type": "execute_result",
          "data": {
            "text/plain": [
              "0         False\n",
              "1         False\n",
              "2         False\n",
              "3          True\n",
              "4         False\n",
              "          ...  \n",
              "499995    False\n",
              "499996     True\n",
              "499997    False\n",
              "499998    False\n",
              "499999    False\n",
              "Name: applicant_income, Length: 500000, dtype: bool"
            ]
          },
          "metadata": {
            "tags": []
          },
          "execution_count": 13
        }
      ]
    },
    {
      "cell_type": "code",
      "metadata": {
        "id": "ckUmqr9FeAFw",
        "outputId": "c7270c55-1fdc-4599-e6f6-e1409beb7219",
        "colab": {
          "base_uri": "https://localhost:8080/",
          "height": 315
        }
      },
      "source": [
        "train.hist(column='applicant_income', bins=5)"
      ],
      "execution_count": 14,
      "outputs": [
        {
          "output_type": "execute_result",
          "data": {
            "text/plain": [
              "array([[<matplotlib.axes._subplots.AxesSubplot object at 0x7ff786e49390>]],\n",
              "      dtype=object)"
            ]
          },
          "metadata": {
            "tags": []
          },
          "execution_count": 14
        },
        {
          "output_type": "display_data",
          "data": {
            "image/png": "[encoded data removed]",
            "text/plain": [
              "<Figure size 432x288 with 1 Axes>"
            ]
          },
          "metadata": {
            "tags": [],
            "needs_background": "light"
          }
        }
      ]
    },
    {
      "cell_type": "code",
      "metadata": {
        "id": "UnUNZBi_eAF2",
        "outputId": "537c801f-f0c5-4cf0-8883-e9bf60a421fb",
        "colab": {
          "base_uri": "https://localhost:8080/",
          "height": 282
        }
      },
      "source": [
        "plt.plot(train.applicant_income)"
      ],
      "execution_count": 15,
      "outputs": [
        {
          "output_type": "execute_result",
          "data": {
            "text/plain": [
              "[<matplotlib.lines.Line2D at 0x7ff7868ffa58>]"
            ]
          },
          "metadata": {
            "tags": []
          },
          "execution_count": 15
        },
        {
          "output_type": "display_data",
          "data": {
            "image/png": "[encoded data removed]",
            "text/plain": [
              "<Figure size 432x288 with 1 Axes>"
            ]
          },
          "metadata": {
            "tags": [],
            "needs_background": "light"
          }
        }
      ]
    },
    {
      "cell_type": "code",
      "metadata": {
        "id": "YEXKQmzRsavZ",
        "outputId": "269da0d9-dee5-4552-8f43-81ed613301c7",
        "colab": {
          "base_uri": "https://localhost:8080/",
          "height": 315
        }
      },
      "source": [
        "train.hist(column='loan_amount', bins=5)"
      ],
      "execution_count": 16,
      "outputs": [
        {
          "output_type": "execute_result",
          "data": {
            "text/plain": [
              "array([[<matplotlib.axes._subplots.AxesSubplot object at 0x7ff7868be2b0>]],\n",
              "      dtype=object)"
            ]
          },
          "metadata": {
            "tags": []
          },
          "execution_count": 16
        },
        {
          "output_type": "display_data",
          "data": {
            "image/png": "[encoded data removed]",
            "text/plain": [
              "<Figure size 432x288 with 1 Axes>"
            ]
          },
          "metadata": {
            "tags": [],
            "needs_background": "light"
          }
        }
      ]
    },
    {
      "cell_type": "code",
      "metadata": {
        "id": "zI-dOgy7wdr9",
        "outputId": "a84c7750-38fc-4c93-d554-87a53badf580",
        "colab": {
          "base_uri": "https://localhost:8080/",
          "height": 554
        }
      },
      "source": [
        "x = train.loan_amount[:1000]\n",
        "plt.hist(x, bins=50)"
      ],
      "execution_count": 17,
      "outputs": [
        {
          "output_type": "execute_result",
          "data": {
            "text/plain": [
              "(array([172., 220., 213., 143.,  97.,  49.,  35.,  24.,  11.,  10.,   5.,\n",
              "          5.,   3.,   1.,   2.,   2.,   1.,   2.,   1.,   0.,   0.,   0.,\n",
              "          1.,   0.,   0.,   0.,   0.,   1.,   0.,   0.,   0.,   0.,   0.,\n",
              "          0.,   0.,   0.,   1.,   0.,   0.,   0.,   0.,   0.,   0.,   0.,\n",
              "          0.,   0.,   0.,   0.,   0.,   1.]),\n",
              " array([1.00000e+00, 6.66200e+01, 1.32240e+02, 1.97860e+02, 2.63480e+02,\n",
              "        3.29100e+02, 3.94720e+02, 4.60340e+02, 5.25960e+02, 5.91580e+02,\n",
              "        6.57200e+02, 7.22820e+02, 7.88440e+02, 8.54060e+02, 9.19680e+02,\n",
              "        9.85300e+02, 1.05092e+03, 1.11654e+03, 1.18216e+03, 1.24778e+03,\n",
              "        1.31340e+03, 1.37902e+03, 1.44464e+03, 1.51026e+03, 1.57588e+03,\n",
              "        1.64150e+03, 1.70712e+03, 1.77274e+03, 1.83836e+03, 1.90398e+03,\n",
              "        1.96960e+03, 2.03522e+03, 2.10084e+03, 2.16646e+03, 2.23208e+03,\n",
              "        2.29770e+03, 2.36332e+03, 2.42894e+03, 2.49456e+03, 2.56018e+03,\n",
              "        2.62580e+03, 2.69142e+03, 2.75704e+03, 2.82266e+03, 2.88828e+03,\n",
              "        2.95390e+03, 3.01952e+03, 3.08514e+03, 3.15076e+03, 3.21638e+03,\n",
              "        3.28200e+03]),\n",
              " <a list of 50 Patch objects>)"
            ]
          },
          "metadata": {
            "tags": []
          },
          "execution_count": 17
        },
        {
          "output_type": "display_data",
          "data": {
            "image/png": "[encoded data removed]",
            "text/plain": [
              "<Figure size 432x288 with 1 Axes>"
            ]
          },
          "metadata": {
            "tags": [],
            "needs_background": "light"
          }
        }
      ]
    },
    {
      "cell_type": "code",
      "metadata": {
        "id": "LviBgz639ehp",
        "outputId": "2a54852c-6e0f-47a4-fc63-251e2a21e3d5",
        "colab": {
          "base_uri": "https://localhost:8080/",
          "height": 204
        }
      },
      "source": [
        "bool_data = train.select_dtypes(include=['bool']).copy()\n",
        "new_data_lc = bool_data.copy()\n",
        "new_data_lc['co_applicant'] = new_data_lc['co_applicant'].astype('category')\n",
        "new_data_lc['co_applicant'] = new_data_lc['co_applicant'].cat.codes\n",
        "#replace_map = {'co_applicant': {False: 0, True:1}}\n",
        "#All.replace(replace_map, inplace=True)\n",
        "#All.head()\n",
        "new_data_lc.head()"
      ],
      "execution_count": 18,
      "outputs": [
        {
          "output_type": "execute_result",
          "data": {
            "text/html": [
              "<div>\n",
              "<style scoped>\n",
              "    .dataframe tbody tr th:only-of-type {\n",
              "        vertical-align: middle;\n",
              "    }\n",
              "\n",
              "    .dataframe tbody tr th {\n",
              "        vertical-align: top;\n",
              "    }\n",
              "\n",
              "    .dataframe thead th {\n",
              "        text-align: right;\n",
              "    }\n",
              "</style>\n",
              "<table border=\"1\" class=\"dataframe\">\n",
              "  <thead>\n",
              "    <tr style=\"text-align: right;\">\n",
              "      <th></th>\n",
              "      <th>co_applicant</th>\n",
              "    </tr>\n",
              "  </thead>\n",
              "  <tbody>\n",
              "    <tr>\n",
              "      <th>0</th>\n",
              "      <td>0</td>\n",
              "    </tr>\n",
              "    <tr>\n",
              "      <th>1</th>\n",
              "      <td>0</td>\n",
              "    </tr>\n",
              "    <tr>\n",
              "      <th>2</th>\n",
              "      <td>0</td>\n",
              "    </tr>\n",
              "    <tr>\n",
              "      <th>3</th>\n",
              "      <td>1</td>\n",
              "    </tr>\n",
              "    <tr>\n",
              "      <th>4</th>\n",
              "      <td>0</td>\n",
              "    </tr>\n",
              "  </tbody>\n",
              "</table>\n",
              "</div>"
            ],
            "text/plain": [
              "   co_applicant\n",
              "0             0\n",
              "1             0\n",
              "2             0\n",
              "3             1\n",
              "4             0"
            ]
          },
          "metadata": {
            "tags": []
          },
          "execution_count": 18
        }
      ]
    },
    {
      "cell_type": "code",
      "metadata": {
        "id": "YpZ4VWYkBjkC",
        "outputId": "f4e17feb-6a8d-489a-a796-6469a2623a25",
        "colab": {
          "base_uri": "https://localhost:8080/",
          "height": 241
        }
      },
      "source": [
        "new_All=train.drop(['co_applicant'], axis=1)\n",
        "All=pd.concat([new_All,new_data_lc,labels.accepted],axis=1)\n",
        "All.head()"
      ],
      "execution_count": 19,
      "outputs": [
        {
          "output_type": "execute_result",
          "data": {
            "text/html": [
              "<div>\n",
              "<style scoped>\n",
              "    .dataframe tbody tr th:only-of-type {\n",
              "        vertical-align: middle;\n",
              "    }\n",
              "\n",
              "    .dataframe tbody tr th {\n",
              "        vertical-align: top;\n",
              "    }\n",
              "\n",
              "    .dataframe thead th {\n",
              "        text-align: right;\n",
              "    }\n",
              "</style>\n",
              "<table border=\"1\" class=\"dataframe\">\n",
              "  <thead>\n",
              "    <tr style=\"text-align: right;\">\n",
              "      <th></th>\n",
              "      <th>row_id</th>\n",
              "      <th>loan_type</th>\n",
              "      <th>property_type</th>\n",
              "      <th>loan_purpose</th>\n",
              "      <th>occupancy</th>\n",
              "      <th>loan_amount</th>\n",
              "      <th>preapproval</th>\n",
              "      <th>msa_md</th>\n",
              "      <th>state_code</th>\n",
              "      <th>county_code</th>\n",
              "      <th>applicant_ethnicity</th>\n",
              "      <th>applicant_race</th>\n",
              "      <th>applicant_sex</th>\n",
              "      <th>applicant_income</th>\n",
              "      <th>population</th>\n",
              "      <th>minority_population_pct</th>\n",
              "      <th>ffiecmedian_family_income</th>\n",
              "      <th>tract_to_msa_md_income_pct</th>\n",
              "      <th>number_of_owner-occupied_units</th>\n",
              "      <th>number_of_1_to_4_family_units</th>\n",
              "      <th>lender</th>\n",
              "      <th>co_applicant</th>\n",
              "      <th>accepted</th>\n",
              "    </tr>\n",
              "  </thead>\n",
              "  <tbody>\n",
              "    <tr>\n",
              "      <th>0</th>\n",
              "      <td>0</td>\n",
              "      <td>3</td>\n",
              "      <td>1</td>\n",
              "      <td>1</td>\n",
              "      <td>1</td>\n",
              "      <td>70.0</td>\n",
              "      <td>3</td>\n",
              "      <td>18</td>\n",
              "      <td>37</td>\n",
              "      <td>246</td>\n",
              "      <td>2</td>\n",
              "      <td>5</td>\n",
              "      <td>1</td>\n",
              "      <td>24.0</td>\n",
              "      <td>6203.0</td>\n",
              "      <td>44.230</td>\n",
              "      <td>60588.0</td>\n",
              "      <td>50.933</td>\n",
              "      <td>716.0</td>\n",
              "      <td>2642.0</td>\n",
              "      <td>4536</td>\n",
              "      <td>0</td>\n",
              "      <td>1</td>\n",
              "    </tr>\n",
              "    <tr>\n",
              "      <th>1</th>\n",
              "      <td>1</td>\n",
              "      <td>1</td>\n",
              "      <td>1</td>\n",
              "      <td>3</td>\n",
              "      <td>1</td>\n",
              "      <td>178.0</td>\n",
              "      <td>3</td>\n",
              "      <td>369</td>\n",
              "      <td>52</td>\n",
              "      <td>299</td>\n",
              "      <td>1</td>\n",
              "      <td>5</td>\n",
              "      <td>1</td>\n",
              "      <td>57.0</td>\n",
              "      <td>5774.0</td>\n",
              "      <td>15.905</td>\n",
              "      <td>54821.0</td>\n",
              "      <td>100.000</td>\n",
              "      <td>1622.0</td>\n",
              "      <td>2108.0</td>\n",
              "      <td>2458</td>\n",
              "      <td>0</td>\n",
              "      <td>0</td>\n",
              "    </tr>\n",
              "    <tr>\n",
              "      <th>2</th>\n",
              "      <td>2</td>\n",
              "      <td>2</td>\n",
              "      <td>1</td>\n",
              "      <td>3</td>\n",
              "      <td>1</td>\n",
              "      <td>163.0</td>\n",
              "      <td>3</td>\n",
              "      <td>16</td>\n",
              "      <td>10</td>\n",
              "      <td>306</td>\n",
              "      <td>2</td>\n",
              "      <td>5</td>\n",
              "      <td>1</td>\n",
              "      <td>67.0</td>\n",
              "      <td>6094.0</td>\n",
              "      <td>61.270</td>\n",
              "      <td>67719.0</td>\n",
              "      <td>100.000</td>\n",
              "      <td>760.0</td>\n",
              "      <td>1048.0</td>\n",
              "      <td>5710</td>\n",
              "      <td>0</td>\n",
              "      <td>1</td>\n",
              "    </tr>\n",
              "    <tr>\n",
              "      <th>3</th>\n",
              "      <td>3</td>\n",
              "      <td>1</td>\n",
              "      <td>1</td>\n",
              "      <td>1</td>\n",
              "      <td>1</td>\n",
              "      <td>155.0</td>\n",
              "      <td>1</td>\n",
              "      <td>305</td>\n",
              "      <td>47</td>\n",
              "      <td>180</td>\n",
              "      <td>2</td>\n",
              "      <td>5</td>\n",
              "      <td>1</td>\n",
              "      <td>105.0</td>\n",
              "      <td>6667.0</td>\n",
              "      <td>6.246</td>\n",
              "      <td>78439.0</td>\n",
              "      <td>100.000</td>\n",
              "      <td>2025.0</td>\n",
              "      <td>2299.0</td>\n",
              "      <td>5888</td>\n",
              "      <td>1</td>\n",
              "      <td>1</td>\n",
              "    </tr>\n",
              "    <tr>\n",
              "      <th>4</th>\n",
              "      <td>4</td>\n",
              "      <td>1</td>\n",
              "      <td>1</td>\n",
              "      <td>1</td>\n",
              "      <td>1</td>\n",
              "      <td>305.0</td>\n",
              "      <td>3</td>\n",
              "      <td>24</td>\n",
              "      <td>37</td>\n",
              "      <td>20</td>\n",
              "      <td>2</td>\n",
              "      <td>3</td>\n",
              "      <td>2</td>\n",
              "      <td>71.0</td>\n",
              "      <td>6732.0</td>\n",
              "      <td>100.000</td>\n",
              "      <td>63075.0</td>\n",
              "      <td>82.200</td>\n",
              "      <td>1464.0</td>\n",
              "      <td>1847.0</td>\n",
              "      <td>289</td>\n",
              "      <td>0</td>\n",
              "      <td>1</td>\n",
              "    </tr>\n",
              "  </tbody>\n",
              "</table>\n",
              "</div>"
            ],
            "text/plain": [
              "   row_id  loan_type  property_type  ...  lender  co_applicant  accepted\n",
              "0       0          3              1  ...    4536             0         1\n",
              "1       1          1              1  ...    2458             0         0\n",
              "2       2          2              1  ...    5710             0         1\n",
              "3       3          1              1  ...    5888             1         1\n",
              "4       4          1              1  ...     289             0         1\n",
              "\n",
              "[5 rows x 23 columns]"
            ]
          },
          "metadata": {
            "tags": []
          },
          "execution_count": 19
        }
      ]
    },
    {
      "cell_type": "code",
      "metadata": {
        "id": "vcjayi00DClQ",
        "outputId": "2e7a69b6-ee7c-4225-f536-b1b886bbc6f3",
        "colab": {
          "base_uri": "https://localhost:8080/",
          "height": 527
        }
      },
      "source": [
        "All.info()"
      ],
      "execution_count": 20,
      "outputs": [
        {
          "output_type": "stream",
          "text": [
            "<class 'pandas.core.frame.DataFrame'>\n",
            "RangeIndex: 500000 entries, 0 to 499999\n",
            "Data columns (total 23 columns):\n",
            " #   Column                          Non-Null Count   Dtype  \n",
            "---  ------                          --------------   -----  \n",
            " 0   row_id                          500000 non-null  int64  \n",
            " 1   loan_type                       500000 non-null  int64  \n",
            " 2   property_type                   500000 non-null  int64  \n",
            " 3   loan_purpose                    500000 non-null  int64  \n",
            " 4   occupancy                       500000 non-null  int64  \n",
            " 5   loan_amount                     500000 non-null  float64\n",
            " 6   preapproval                     500000 non-null  int64  \n",
            " 7   msa_md                          500000 non-null  int64  \n",
            " 8   state_code                      500000 non-null  int64  \n",
            " 9   county_code                     500000 non-null  int64  \n",
            " 10  applicant_ethnicity             500000 non-null  int64  \n",
            " 11  applicant_race                  500000 non-null  int64  \n",
            " 12  applicant_sex                   500000 non-null  int64  \n",
            " 13  applicant_income                460052 non-null  float64\n",
            " 14  population                      477535 non-null  float64\n",
            " 15  minority_population_pct         477534 non-null  float64\n",
            " 16  ffiecmedian_family_income       477560 non-null  float64\n",
            " 17  tract_to_msa_md_income_pct      477486 non-null  float64\n",
            " 18  number_of_owner-occupied_units  477435 non-null  float64\n",
            " 19  number_of_1_to_4_family_units   477470 non-null  float64\n",
            " 20  lender                          500000 non-null  int64  \n",
            " 21  co_applicant                    500000 non-null  int8   \n",
            " 22  accepted                        500000 non-null  int64  \n",
            "dtypes: float64(8), int64(14), int8(1)\n",
            "memory usage: 84.4 MB\n"
          ],
          "name": "stdout"
        }
      ]
    },
    {
      "cell_type": "code",
      "metadata": {
        "id": "vNa5b9ej_3H8",
        "outputId": "f715b921-ba32-40f7-8f5d-fb3e89ecd11b",
        "colab": {
          "base_uri": "https://localhost:8080/",
          "height": 715
        }
      },
      "source": [
        "plt.rcParams[\"figure.figsize\"] = [16,9]\n",
        "se.heatmap(All.corr())"
      ],
      "execution_count": 21,
      "outputs": [
        {
          "output_type": "execute_result",
          "data": {
            "text/plain": [
              "<matplotlib.axes._subplots.AxesSubplot at 0x7ff786de7828>"
            ]
          },
          "metadata": {
            "tags": []
          },
          "execution_count": 21
        },
        {
          "output_type": "display_data",
          "data": {
            "image/png": "[encoded data removed]",
            "text/plain": [
              "<Figure size 1152x648 with 2 Axes>"
            ]
          },
          "metadata": {
            "tags": [],
            "needs_background": "light"
          }
        }
      ]
    },
    {
      "cell_type": "code",
      "metadata": {
        "id": "cbG1qRlvAPWL"
      },
      "source": [
        "#scatter_matrix(All.iloc[:,1:20], c='y', figsize=(15,15), s=150, marker='D')\n",
        "#plt.show()\n",
        "All=All.dropna()"
      ],
      "execution_count": 22,
      "outputs": []
    },
    {
      "cell_type": "code",
      "metadata": {
        "id": "OAGI3xduhyyv",
        "outputId": "99967a8e-54df-41bb-d731-c5908f4ca417",
        "colab": {
          "base_uri": "https://localhost:8080/",
          "height": 425
        }
      },
      "source": [
        "All.isna().sum()\n"
      ],
      "execution_count": 23,
      "outputs": [
        {
          "output_type": "execute_result",
          "data": {
            "text/plain": [
              "row_id                            0\n",
              "loan_type                         0\n",
              "property_type                     0\n",
              "loan_purpose                      0\n",
              "occupancy                         0\n",
              "loan_amount                       0\n",
              "preapproval                       0\n",
              "msa_md                            0\n",
              "state_code                        0\n",
              "county_code                       0\n",
              "applicant_ethnicity               0\n",
              "applicant_race                    0\n",
              "applicant_sex                     0\n",
              "applicant_income                  0\n",
              "population                        0\n",
              "minority_population_pct           0\n",
              "ffiecmedian_family_income         0\n",
              "tract_to_msa_md_income_pct        0\n",
              "number_of_owner-occupied_units    0\n",
              "number_of_1_to_4_family_units     0\n",
              "lender                            0\n",
              "co_applicant                      0\n",
              "accepted                          0\n",
              "dtype: int64"
            ]
          },
          "metadata": {
            "tags": []
          },
          "execution_count": 23
        }
      ]
    },
    {
      "cell_type": "code",
      "metadata": {
        "id": "pj0O7PWARg4D",
        "outputId": "8d7c03c5-6f92-424c-bb7a-124fa7488452",
        "colab": {
          "base_uri": "https://localhost:8080/",
          "height": 570
        }
      },
      "source": [
        "plt.figure()\n",
        "All[:1000].hist(color='b', alpha=0.5, bins=50)\n",
        "plt.figsize=(20,20)"
      ],
      "execution_count": 24,
      "outputs": [
        {
          "output_type": "display_data",
          "data": {
            "text/plain": [
              "<Figure size 1152x648 with 0 Axes>"
            ]
          },
          "metadata": {
            "tags": []
          }
        },
        {
          "output_type": "display_data",
          "data": {
            "image/png": "[encoded data removed]",
            "text/plain": [
              "<Figure size 1152x648 with 25 Axes>"
            ]
          },
          "metadata": {
            "tags": [],
            "needs_background": "light"
          }
        }
      ]
    },
    {
      "cell_type": "markdown",
      "metadata": {
        "id": "7byJ-mmYD4ug"
      },
      "source": [
        "#Feature selection"
      ]
    },
    {
      "cell_type": "code",
      "metadata": {
        "id": "4I-7rkzLD73T"
      },
      "source": [
        "from pandas.plotting import scatter_matrix\n",
        "from sklearn.model_selection import train_test_split\n"
      ],
      "execution_count": 25,
      "outputs": []
    },
    {
      "cell_type": "code",
      "metadata": {
        "id": "hpGimY4oEO3y",
        "outputId": "fded0423-6f6d-477a-84ab-789e951ba694",
        "colab": {
          "base_uri": "https://localhost:8080/",
          "height": 153
        }
      },
      "source": [
        "print(All.columns)\n",
        "Unused=['tract_to_msa_md_income_pct','number_of_owner-occupied_units','msa_md','county_code','applicant_race','minority_population_pct','accepted']\n",
        "feats=['loan_type','number_of_1_to_4_family_units',\n",
        "       'property_type', 'loan_purpose', 'occupancy','lender','co_applicant',\n",
        "       'loan_amount', 'preapproval', 'state_code','applicant_ethnicity','applicant_sex','applicant_income','population','ffiecmedian_family_income']\n",
        "#list = ['url','shares']\n",
        "X = All.drop(Unused, axis = 1)\n",
        "#x = x[feats]\n",
        "X.columns\n",
        "y = All.loc[:,'accepted']"
      ],
      "execution_count": 26,
      "outputs": [
        {
          "output_type": "stream",
          "text": [
            "Index(['row_id', 'loan_type', 'property_type', 'loan_purpose', 'occupancy',\n",
            "       'loan_amount', 'preapproval', 'msa_md', 'state_code', 'county_code',\n",
            "       'applicant_ethnicity', 'applicant_race', 'applicant_sex',\n",
            "       'applicant_income', 'population', 'minority_population_pct',\n",
            "       'ffiecmedian_family_income', 'tract_to_msa_md_income_pct',\n",
            "       'number_of_owner-occupied_units', 'number_of_1_to_4_family_units',\n",
            "       'lender', 'co_applicant', 'accepted'],\n",
            "      dtype='object')\n"
          ],
          "name": "stdout"
        }
      ]
    },
    {
      "cell_type": "code",
      "metadata": {
        "id": "yRn64inDgSJc"
      },
      "source": [
        ""
      ],
      "execution_count": 26,
      "outputs": []
    },
    {
      "cell_type": "code",
      "metadata": {
        "id": "WRek-pZfUiFL",
        "outputId": "a3209334-f8f3-4163-e84b-80b0fd08c85d",
        "colab": {
          "base_uri": "https://localhost:8080/",
          "height": 153
        }
      },
      "source": [
        "print(All.columns)"
      ],
      "execution_count": 27,
      "outputs": [
        {
          "output_type": "stream",
          "text": [
            "Index(['row_id', 'loan_type', 'property_type', 'loan_purpose', 'occupancy',\n",
            "       'loan_amount', 'preapproval', 'msa_md', 'state_code', 'county_code',\n",
            "       'applicant_ethnicity', 'applicant_race', 'applicant_sex',\n",
            "       'applicant_income', 'population', 'minority_population_pct',\n",
            "       'ffiecmedian_family_income', 'tract_to_msa_md_income_pct',\n",
            "       'number_of_owner-occupied_units', 'number_of_1_to_4_family_units',\n",
            "       'lender', 'co_applicant', 'accepted'],\n",
            "      dtype='object')\n"
          ],
          "name": "stdout"
        }
      ]
    },
    {
      "cell_type": "code",
      "metadata": {
        "id": "XTWdjJM0NPOz"
      },
      "source": [
        "#scatter_matrix(X, c='y', figsize=(15,15), s=150, marker='D')\n",
        "from sklearn.preprocessing import StandardScaler\n",
        "scaler = StandardScaler()\n",
        "#scaler.fit(X)\n",
        "#X=scaler.transform(X)\n",
        "df_scaled = pd.DataFrame(scaler.fit_transform(X),columns = X.columns)\n"
      ],
      "execution_count": 28,
      "outputs": []
    },
    {
      "cell_type": "code",
      "metadata": {
        "id": "-P1J0C0TJX-A"
      },
      "source": [
        "X_train, X_test, y_train, y_test = train_test_split( df_scaled, y, test_size=0.20, random_state=42)"
      ],
      "execution_count": 29,
      "outputs": []
    },
    {
      "cell_type": "markdown",
      "metadata": {
        "id": "eyXe_j-kDpVJ"
      },
      "source": [
        "#Learners"
      ]
    },
    {
      "cell_type": "code",
      "metadata": {
        "id": "QP-qBZ8vDnv0"
      },
      "source": [
        "from sklearn.model_selection import KFold\n",
        "from sklearn.linear_model import LinearRegression\n",
        "from sklearn.linear_model import Ridge\n",
        "from sklearn.linear_model import Lasso\n",
        "from sklearn.linear_model import ElasticNet\n",
        "from sklearn.neighbors import KNeighborsRegressor\n",
        "from sklearn.tree import DecisionTreeRegressor\n",
        "from sklearn.svm import SVR\n",
        "from xgboost import XGBRegressor\n",
        "from sklearn.metrics import mean_squared_error\n",
        "from sklearn.metrics import mean_absolute_error"
      ],
      "execution_count": 30,
      "outputs": []
    },
    {
      "cell_type": "code",
      "metadata": {
        "id": "c3o2erAEhdsK",
        "outputId": "c861e747-b4d6-49a3-f5e6-afacffe59ee4",
        "colab": {
          "base_uri": "https://localhost:8080/",
          "height": 306
        }
      },
      "source": [
        "X_train.isna().sum()"
      ],
      "execution_count": 31,
      "outputs": [
        {
          "output_type": "execute_result",
          "data": {
            "text/plain": [
              "row_id                           0\n",
              "loan_type                        0\n",
              "property_type                    0\n",
              "loan_purpose                     0\n",
              "occupancy                        0\n",
              "loan_amount                      0\n",
              "preapproval                      0\n",
              "state_code                       0\n",
              "applicant_ethnicity              0\n",
              "applicant_sex                    0\n",
              "applicant_income                 0\n",
              "population                       0\n",
              "ffiecmedian_family_income        0\n",
              "number_of_1_to_4_family_units    0\n",
              "lender                           0\n",
              "co_applicant                     0\n",
              "dtype: int64"
            ]
          },
          "metadata": {
            "tags": []
          },
          "execution_count": 31
        }
      ]
    },
    {
      "cell_type": "code",
      "metadata": {
        "id": "-sPOuO6NKn0E",
        "outputId": "3ae452b3-77b2-46cc-983f-58d55fad82df",
        "colab": {
          "base_uri": "https://localhost:8080/",
          "height": 605
        }
      },
      "source": [
        "%%time\n",
        "\n",
        "LinReg = LinearRegression()\n",
        "LinReg.fit(X_train, y_train)\n",
        "LinPred = LinReg.predict(X_test)\n",
        "\n",
        "\n",
        "print('linearregression ', np.sqrt(mean_squared_error(LinPred,y_test)))\n",
        "\n",
        "plt.scatter(y_test, LinPred)\n",
        "print ('Score:', LinReg.score(X_test, y_test))\n"
      ],
      "execution_count": 32,
      "outputs": [
        {
          "output_type": "stream",
          "text": [
            "linearregression  0.47967610840034586\n",
            "Score: 0.07826699664087955\n",
            "CPU times: user 228 ms, sys: 59 ms, total: 288 ms\n",
            "Wall time: 188 ms\n"
          ],
          "name": "stdout"
        },
        {
          "output_type": "display_data",
          "data": {
            "image/png": "[encoded data removed]",
            "text/plain": [
              "<Figure size 1152x648 with 1 Axes>"
            ]
          },
          "metadata": {
            "tags": [],
            "needs_background": "light"
          }
        }
      ]
    },
    {
      "cell_type": "code",
      "metadata": {
        "id": "VgYLK6Ozj0pi",
        "outputId": "d7b715b9-6db9-4b07-893d-c4e39b0f3270",
        "colab": {
          "base_uri": "https://localhost:8080/",
          "height": 255
        }
      },
      "source": [
        "%%time\n",
        "from sklearn.linear_model import LogisticRegression\n",
        "from sklearn.metrics import classification_report \n",
        "from sklearn.metrics import mean_squared_error as mse\n",
        "\n",
        "\n",
        "\n",
        "Log=LogisticRegression(penalty='l2',C=1.0, intercept_scaling=1, random_state=42, max_iter=100)\n",
        "## Trains the learner, Log, with the training dataset\n",
        "Log.fit(X_train, y_train)\n",
        "\n",
        "# Prediction on the training dataset\n",
        "y_tr_pred = Log.predict(X_train)\n",
        "\n",
        "# Classification repport on the training dataset:\n",
        "print('Classification repport:\\n',classification_report(y_train, y_tr_pred))\n",
        "# Accuracy score on the training dataset\n",
        "print('Accuracy score:\\n',Log.score(X_train, y_train))"
      ],
      "execution_count": 33,
      "outputs": [
        {
          "output_type": "stream",
          "text": [
            "Classification repport:\n",
            "               precision    recall  f1-score   support\n",
            "\n",
            "           0       0.61      0.61      0.61    168076\n",
            "           1       0.64      0.65      0.65    182528\n",
            "\n",
            "    accuracy                           0.63    350604\n",
            "   macro avg       0.63      0.63      0.63    350604\n",
            "weighted avg       0.63      0.63      0.63    350604\n",
            "\n",
            "Accuracy score:\n",
            " 0.6302466600495146\n",
            "CPU times: user 1.54 s, sys: 593 ms, total: 2.13 s\n",
            "Wall time: 1.35 s\n"
          ],
          "name": "stdout"
        }
      ]
    },
    {
      "cell_type": "code",
      "metadata": {
        "id": "2_NHe50GkWeZ",
        "outputId": "f08c54a7-a249-4a16-9f66-b895143c0bdf",
        "colab": {
          "base_uri": "https://localhost:8080/",
          "height": 255
        }
      },
      "source": [
        "# Test the learner, Log, with the test dataset\n",
        "%%time\n",
        "\n",
        "## Prediction on the training dataset\n",
        "y_te_pred = Log.predict(X_test)\n",
        "\n",
        "# Classification repport on the training dataset:\n",
        "print('Classification repport:\\n',classification_report(y_test, y_te_pred))\n",
        "\n",
        "# Accuracy score on the training dataset\n",
        "print('Accuracy score:\\n',Log.score(X_test, y_test))"
      ],
      "execution_count": 34,
      "outputs": [
        {
          "output_type": "stream",
          "text": [
            "Classification repport:\n",
            "               precision    recall  f1-score   support\n",
            "\n",
            "           0       0.61      0.61      0.61     42132\n",
            "           1       0.64      0.64      0.64     45519\n",
            "\n",
            "    accuracy                           0.63     87651\n",
            "   macro avg       0.63      0.63      0.63     87651\n",
            "weighted avg       0.63      0.63      0.63     87651\n",
            "\n",
            "Accuracy score:\n",
            " 0.6285724064756819\n",
            "CPU times: user 212 ms, sys: 114 ms, total: 326 ms\n",
            "Wall time: 204 ms\n"
          ],
          "name": "stdout"
        }
      ]
    },
    {
      "cell_type": "code",
      "metadata": {
        "id": "masfTlRMkmO7"
      },
      "source": [
        "#from sklearn.model_selection import cross_val_predict, cross_val_score\n",
        "\n",
        "# List of metrics that helps in assessing the performance of the learner for different metric\n",
        "#cv_metric = ['accuracy', 'precision_macro', 'recall_macro']\n",
        "#for i in range(len(cv_metric)):\n",
        " #   scores = cross_val_score(Log, X, y, scoring=cv_metric[i],cv=5)\n",
        " #   print('\\nMetric used: ', cv_metric[i])\n",
        "  #  print('Cross validation scores:', scores)\n",
        "  #  print('Mean of the scores: ', scores.mean(),'\\n with standard deviation', scores.std())"
      ],
      "execution_count": 35,
      "outputs": []
    },
    {
      "cell_type": "code",
      "metadata": {
        "id": "G6ILEvVHkqCd"
      },
      "source": [
        "# Select your learner\n",
        "from sklearn.neighbors import KNeighborsClassifier\n",
        "from sklearn.linear_model import SGDClassifier \n",
        "from sklearn.tree import DecisionTreeClassifier\n",
        "from sklearn.naive_bayes import GaussianNB\n",
        "from sklearn.neural_network import MLPClassifier\n",
        "from sklearn.svm import SVC  \n",
        "from sklearn.ensemble import RandomForestClassifier\n"
      ],
      "execution_count": 36,
      "outputs": []
    },
    {
      "cell_type": "code",
      "metadata": {
        "id": "1A7YoBT_Bzwy",
        "outputId": "171c6539-742b-447c-db17-d37f3d0784ef",
        "colab": {
          "base_uri": "https://localhost:8080/",
          "height": 255
        }
      },
      "source": [
        "%%time\n",
        "\n",
        "RFC = RandomForestClassifier(max_depth=2, random_state=0)\n",
        "#neigh.fit(X, y)\n",
        "RFC.fit(X_train, y_train)\n",
        "\n",
        "# Prediction on the training dataset\n",
        "y_tr_pred = RFC.predict(X_train)\n",
        "\n",
        "# Classification repport on the training dataset:\n",
        "print('Classification repport:\\n',classification_report(y_train, y_tr_pred))\n",
        "# Accuracy score on the training dataset\n",
        "print('Accuracy score:\\n',RFC.score(X_train, y_train))\n",
        "\n"
      ],
      "execution_count": 37,
      "outputs": [
        {
          "output_type": "stream",
          "text": [
            "Classification repport:\n",
            "               precision    recall  f1-score   support\n",
            "\n",
            "           0       0.63      0.61      0.62    168076\n",
            "           1       0.65      0.67      0.66    182528\n",
            "\n",
            "    accuracy                           0.64    350604\n",
            "   macro avg       0.64      0.64      0.64    350604\n",
            "weighted avg       0.64      0.64      0.64    350604\n",
            "\n",
            "Accuracy score:\n",
            " 0.6393509486486179\n",
            "CPU times: user 16.1 s, sys: 117 ms, total: 16.2 s\n",
            "Wall time: 16.2 s\n"
          ],
          "name": "stdout"
        }
      ]
    },
    {
      "cell_type": "code",
      "metadata": {
        "id": "5EfX17ZsC2G-",
        "outputId": "02f5910f-6cdd-4251-f63c-c6a233a6e526",
        "colab": {
          "base_uri": "https://localhost:8080/",
          "height": 255
        }
      },
      "source": [
        "## Prediction on the training dataset\n",
        "%%time\n",
        "\n",
        "y_te_pred = RFC.predict(X_test)\n",
        "\n",
        "# Classification repport on the training dataset:\n",
        "print('Classification repport:\\n',classification_report(y_test, y_te_pred))\n",
        "\n",
        "# Accuracy score on the training dataset\n",
        "print('Accuracy score:\\n',RFC.score(X_test, y_test))"
      ],
      "execution_count": 38,
      "outputs": [
        {
          "output_type": "stream",
          "text": [
            "Classification repport:\n",
            "               precision    recall  f1-score   support\n",
            "\n",
            "           0       0.63      0.61      0.62     42132\n",
            "           1       0.65      0.66      0.66     45519\n",
            "\n",
            "    accuracy                           0.64     87651\n",
            "   macro avg       0.64      0.64      0.64     87651\n",
            "weighted avg       0.64      0.64      0.64     87651\n",
            "\n",
            "Accuracy score:\n",
            " 0.637585424011135\n",
            "CPU times: user 870 ms, sys: 11.9 ms, total: 882 ms\n",
            "Wall time: 881 ms\n"
          ],
          "name": "stdout"
        }
      ]
    },
    {
      "cell_type": "code",
      "metadata": {
        "id": "iLoCTGaZkqKY",
        "outputId": "e6129e19-db78-4309-83b4-8ff8df6ac4cb",
        "colab": {
          "base_uri": "https://localhost:8080/",
          "height": 255
        }
      },
      "source": [
        "%%time\n",
        "neigh = KNeighborsClassifier(n_neighbors=5, weights='uniform', algorithm='auto', leaf_size=30, p=2, metric='minkowski', metric_params=None, n_jobs=None)\n",
        "\n",
        "\n",
        "#neigh.fit(X, y)\n",
        "neigh.fit(X_train, y_train)\n",
        "\n",
        "# Prediction on the training dataset\n",
        "y_tr_pred = neigh.predict(X_train)\n",
        "\n",
        "# Classification repport on the training dataset:\n",
        "print('Classification report:\\n',classification_report(y_train, y_tr_pred))\n",
        "# Accuracy score on the training dataset\n",
        "print('Accuracy score:\\n',neigh.score(X_train, y_train))"
      ],
      "execution_count": 39,
      "outputs": [
        {
          "output_type": "stream",
          "text": [
            "Classification repport:\n",
            "               precision    recall  f1-score   support\n",
            "\n",
            "           0       0.74      0.70      0.72    168076\n",
            "           1       0.74      0.78      0.76    182528\n",
            "\n",
            "    accuracy                           0.74    350604\n",
            "   macro avg       0.74      0.74      0.74    350604\n",
            "weighted avg       0.74      0.74      0.74    350604\n",
            "\n",
            "Accuracy score:\n",
            " 0.7421963240579115\n",
            "CPU times: user 36min 16s, sys: 213 ms, total: 36min 16s\n",
            "Wall time: 36min 17s\n"
          ],
          "name": "stdout"
        }
      ]
    },
    {
      "cell_type": "code",
      "metadata": {
        "id": "Q9QnTlHikqQH"
      },
      "source": [
        "%%time\n",
        "\n",
        "## Prediction on the training dataset\n",
        "y_te_pred = neigh.predict(X_test)\n",
        "\n",
        "# Classification repport on the training dataset:\n",
        "print('Classification repport:\\n',classification_report(y_test, y_te_pred))\n",
        "\n",
        "# Accuracy score on the training dataset\n",
        "print('Accuracy score:\\n',neigh.score(X_test, y_test))"
      ],
      "execution_count": null,
      "outputs": []
    },
    {
      "cell_type": "code",
      "metadata": {
        "id": "O_36V2bgkqWr"
      },
      "source": [
        "#from sklearn.model_selection import cross_val_predict, cross_val_score\n",
        "\n",
        "# List of metrics that helps in assessing the performance of the learner for different metric\n",
        "#cv_metric = ['accuracy', 'precision_macro', 'recall_macro']\n",
        "#for i in range(len(cv_metric)):\n",
        " #   scores = cross_val_score(neigh, X, y, scoring=cv_metric[i],cv=5)\n",
        "  #  print('\\nMetric used: ', cv_metric[i])\n",
        "   # print('Cross validation scores:', scores)\n",
        "    #print('Mean of the scores: ', scores.mean(),'\\n with standard deviation', scores.std())"
      ],
      "execution_count": null,
      "outputs": []
    },
    {
      "cell_type": "code",
      "metadata": {
        "id": "kek3MfVdFMeY"
      },
      "source": [
        "#neigh.fit(X, y)\n",
        "%%time\n",
        "SVClass=SVC(C=1.0, kernel='rbf', degree=3, gamma='auto_deprecated', coef0=0.0, shrinking=True, probability=False, tol=0.001, cache_size=200, class_weight=None, verbose=False, max_iter=-1, decision_function_shape='ovr', random_state=None)\n",
        "\n",
        "SVClass.fit(X_train, y_train)\n",
        "\n",
        "# Prediction on the training dataset\n",
        "y_tr_pred = SVClass.predict(X_train)\n",
        "\n",
        "# Classification repport on the training dataset:\n",
        "print('Classification repport:\\n',classification_report(y_train, y_tr_pred))\n",
        "# Accuracy score on the training dataset\n",
        "print('Accuracy score:\\n',SVClass.score(X_train, y_train))"
      ],
      "execution_count": null,
      "outputs": []
    },
    {
      "cell_type": "code",
      "metadata": {
        "id": "VG9jtgziFMoJ"
      },
      "source": [
        "# Test the learner, Log, with the test dataset\n",
        "%%time\n",
        "## Prediction on the training dataset\n",
        "y_te_pred = SVClass.predict(X_test)\n",
        "\n",
        "# Classification repport on the training dataset:\n",
        "print('Classification repport:\\n',classification_report(y_test, y_te_pred))\n",
        "\n",
        "# Accuracy score on the training dataset\n",
        "print('Accuracy score:\\n',SVClass.score(X_test, y_test))"
      ],
      "execution_count": null,
      "outputs": []
    },
    {
      "cell_type": "code",
      "metadata": {
        "id": "vidhamr1lW9N"
      },
      "source": [
        "#SDG=SGDClassifier(loss='squared_hinge', penalty='l2', alpha=0.0001, l1_ratio=0.15, fit_intercept=True, max_iter=None, tol=None, shuffle=True, verbose=0, epsilon=0.1, n_jobs=None, random_state=None, learning_rate='optimal', eta0=0.0, power_t=0.5, early_stopping=False, validation_fraction=0.1, n_iter_no_change=5, class_weight=None, warm_start=False, average=False)\n",
        "%%time\n",
        "\n",
        "SDG=SGDClassifier(loss=\"perceptron\", eta0=1, learning_rate=\"constant\",   penalty=None)\n",
        "SDG.fit(X_train, y_train)\n",
        "\n",
        "# Prediction on the training dataset\n",
        "y_tr_pred = SDG.predict(X_train)\n",
        "\n",
        "# Classification repport on the training dataset:\n",
        "print('Classification repport:\\n',classification_report(y_train, y_tr_pred))\n",
        "# Accuracy score on the training dataset\n",
        "print('Accuracy score:\\n',SDG.score(X_train, y_train))"
      ],
      "execution_count": null,
      "outputs": []
    },
    {
      "cell_type": "code",
      "metadata": {
        "id": "zRHy3OIAlXCw"
      },
      "source": [
        "## Prediction on the training dataset\n",
        "%%time\n",
        "\n",
        "y_te_pred = SDG.predict(X_test)\n",
        "\n",
        "# Classification repport on the training dataset:\n",
        "print('Classification repport:\\n',classification_report(y_test, y_te_pred))\n",
        "\n",
        "# Accuracy score on the training dataset\n",
        "print('Accuracy score:\\n',SDG.score(X_test, y_test))"
      ],
      "execution_count": null,
      "outputs": []
    },
    {
      "cell_type": "code",
      "metadata": {
        "id": "ERTY_BoalXHj"
      },
      "source": [
        "#from sklearn.model_selection import cross_val_predict, cross_val_score\n",
        "\n",
        "# List of metrics that helps in assessing the performance of the learner for different metric\n",
        "#cv_metric = ['accuracy', 'precision_macro', 'recall_macro']\n",
        "#for i in range(len(cv_metric)):\n",
        " #   scores = cross_val_score(SDG, X, y, scoring=cv_metric[i],cv=5)\n",
        "  #  print('\\nMetric used: ', cv_metric[i])\n",
        " #   print('Cross validation scores:', scores)\n",
        "   # print('Mean of the scores: ', scores.mean(),'\\n with standard deviation', scores.std())"
      ],
      "execution_count": null,
      "outputs": []
    },
    {
      "cell_type": "code",
      "metadata": {
        "id": "oaTxny9ElXWb"
      },
      "source": [
        "%%time\n",
        "\n",
        "DTC = DecisionTreeClassifier(criterion='gini', splitter='best', max_depth=None, min_samples_split=2, min_samples_leaf=1, min_weight_fraction_leaf=0.0, max_features=None, random_state=None, max_leaf_nodes=None, min_impurity_decrease=0.0, min_impurity_split=None, class_weight=None, presort=False)\n",
        "DTC.fit(X_train, y_train)\n",
        "\n",
        "# Prediction on the training dataset\n",
        "y_tr_pred = DTC.predict(X_train)\n",
        "\n",
        "# Classification repport on the training dataset:\n",
        "print('Classification repport:\\n',classification_report(y_train, y_tr_pred))\n",
        "# Accuracy score on the training dataset\n",
        "print('Accuracy score:\\n',DTC.score(X_train, y_train))"
      ],
      "execution_count": null,
      "outputs": []
    },
    {
      "cell_type": "code",
      "metadata": {
        "id": "twTngB0SlXb2"
      },
      "source": [
        "## Prediction on the training dataset\n",
        "%%time\n",
        "\n",
        "y_te_pred = DTC.predict(X_test)\n",
        "\n",
        "# Classification repport on the training dataset:\n",
        "print('Classification repport:\\n',classification_report(y_test, y_te_pred))\n",
        "\n",
        "# Accuracy score on the training dataset\n",
        "print('Accuracy score:\\n',DTC.score(X_test, y_test))"
      ],
      "execution_count": null,
      "outputs": []
    },
    {
      "cell_type": "code",
      "metadata": {
        "id": "YO_gfbValXTs"
      },
      "source": [
        "#from sklearn.model_selection import cross_val_predict, cross_val_score\n",
        "\n",
        "# List of metrics that helps in assessing the performance of the learner for different metric\n",
        "#cv_metric = ['accuracy', 'precision_macro', 'recall_macro']\n",
        "#for i in range(len(cv_metric)):\n",
        "  #  scores = cross_val_score(DTC, X, y, scoring=cv_metric[i],cv=5)\n",
        "  #  print('\\nMetric used: ', cv_metric[i])\n",
        "   # print('Cross validation scores:', scores)\n",
        "   # print('Mean of the scores: ', scores.mean(),'\\n with standard deviation', scores.std())"
      ],
      "execution_count": null,
      "outputs": []
    },
    {
      "cell_type": "code",
      "metadata": {
        "id": "hFZSUB9tRXTY"
      },
      "source": [
        "pip install catboost\n"
      ],
      "execution_count": null,
      "outputs": []
    },
    {
      "cell_type": "code",
      "metadata": {
        "id": "5EKIX6-0RPa5"
      },
      "source": [
        "%%time\n",
        "from catboost import CatBoostClassifier\n",
        "\n",
        "\n",
        "clf = CatBoostClassifier(\n",
        "    iterations=5, \n",
        "    learning_rate=0.1, \n",
        "    #loss_function='CrossEntropy'\n",
        ")\n",
        "\n",
        "\n",
        "clf.fit(X_train, y_train)\n",
        "\n",
        "# Prediction on the training dataset\n",
        "y_tr_pred = clf.predict(X_train)\n",
        "\n",
        "# Classification repport on the training dataset:\n",
        "print('Classification repport:\\n',classification_report(y_train, y_tr_pred))\n",
        "# Accuracy score on the training dataset\n",
        "print('Accuracy score:\\n',clf.score(X_train, y_train))"
      ],
      "execution_count": null,
      "outputs": []
    },
    {
      "cell_type": "code",
      "metadata": {
        "id": "WDOtOQr5bz5Q"
      },
      "source": [
        "%%time\n",
        "\n",
        "y_te_pred = clf.predict(X_test)\n",
        "\n",
        "# Classification repport on the training dataset:\n",
        "print('Classification repport:\\n',classification_report(y_test, y_te_pred))\n",
        "\n",
        "# Accuracy score on the training dataset\n",
        "print('Accuracy score:\\n',clf.score(X_test, y_test))"
      ],
      "execution_count": null,
      "outputs": []
    },
    {
      "cell_type": "code",
      "metadata": {
        "id": "f-dk1l0ZmtrP"
      },
      "source": [
        "#from sklearn.model_selection import cross_val_predict, cross_val_score\n",
        "\n",
        "# List of metrics that helps in assessing the performance of the learner for different metric\n",
        "#cv_metric = ['accuracy', 'precision_macro', 'recall_macro']\n",
        "#for i in range(len(cv_metric)):\n",
        " #   scores = cross_val_score(MLP, X, y, scoring=cv_metric[i],cv=5)\n",
        "  #  print('\\nMetric used: ', cv_metric[i])\n",
        "   # print('Cross validation scores:', scores)\n",
        "   # print('Mean of the scores: ', scores.mean(),'\\n with standard deviation', scores.std())"
      ],
      "execution_count": null,
      "outputs": []
    },
    {
      "cell_type": "code",
      "metadata": {
        "id": "YDGToae8lXPQ"
      },
      "source": [
        "%%time\n",
        "\n",
        "MLP=MLPClassifier(hidden_layer_sizes=(100,), activation='relu', solver='adam', alpha=0.0001, batch_size='auto', learning_rate='constant', learning_rate_init=0.001, power_t=0.5, max_iter=200, shuffle=True, random_state=None, tol=0.0001, verbose=False, warm_start=False, momentum=0.9, nesterovs_momentum=True, early_stopping=False, validation_fraction=0.1, beta_1=0.9, beta_2=0.999, epsilon=1e-08, n_iter_no_change=10)\n",
        "MLP.fit(X_train, y_train)\n",
        "\n",
        "# Prediction on the training dataset\n",
        "y_tr_pred = MLP.predict(X_train)\n",
        "\n",
        "# Classification repport on the training dataset:\n",
        "print('Classification repport:\\n',classification_report(y_train, y_tr_pred))\n",
        "# Accuracy score on the training dataset\n",
        "print('Accuracy score:\\n',MLP.score(X_train, y_train))"
      ],
      "execution_count": null,
      "outputs": []
    },
    {
      "cell_type": "code",
      "metadata": {
        "id": "5ChDJDvulXLe"
      },
      "source": [
        "%%time\n",
        "\n",
        "## Prediction on the training dataset\n",
        "y_te_pred = MLP.predict(X_test)\n",
        "\n",
        "# Classification repport on the training dataset:\n",
        "print('Classification repport:\\n',classification_report(y_test, y_te_pred))\n",
        "\n",
        "# Accuracy score on the training dataset\n",
        "print('Accuracy score:\\n',MLP.score(X_test, y_test))"
      ],
      "execution_count": null,
      "outputs": []
    },
    {
      "cell_type": "code",
      "metadata": {
        "id": "i7ytLVczOYbR"
      },
      "source": [
        "# Plot feature importance\n",
        "feature_importance = MLP.feature_importances_\n",
        "# make importances relative to max importance\n",
        "feature_importance = 100.0 * (feature_importance / feature_importance.max())\n",
        "sorted_idx = np.argsort(feature_importance)\n",
        "pos = np.arange(sorted_idx.shape[0]) + .5\n",
        "plt.subplot(1, 2, 2)\n",
        "plt.barh(pos, feature_importance[sorted_idx], align='center')\n",
        "plt.yticks(pos, data.columns[sorted_idx])\n",
        "plt.xlabel('Relative Importance')\n",
        "plt.title('Variable Importance')\n",
        "plt.show()"
      ],
      "execution_count": null,
      "outputs": []
    },
    {
      "cell_type": "code",
      "metadata": {
        "id": "apheTT3uI5nB"
      },
      "source": [
        "\n",
        "models = []\n",
        "models.append(('LR', LinearRegression()))\n",
        "models.append(('Ridge', Ridge()))\n",
        "models.append(('Lasso', ElasticNet()))\n",
        "models.append(('knn', KNeighborsRegressor()))\n",
        "models.append(('treeregre', DecisionTreeRegressor())) \n",
        "models.append(('xgboost', XGBRegressor()))\n",
        "\n",
        "\n",
        "results = []\n",
        "names = []\n",
        "scoring = 'r2'\n",
        "X.head()\n",
        "for name, model in models:\n",
        "  kfold = KFold(n_splits=10, random_state=7)\n",
        "  cv_results = cross_val_score(model, X_train, Y_train, cv=kfold, scoring=scoring)\n",
        "  results.append(cv_results)\n",
        "  names.append(name)\n",
        "  msg = \"%s: %f (%f)\" % (name, cv_results.mean(), cv_results.std())\n",
        "  print('--------------------')\n",
        "  print(msg)\n",
        "  \n",
        "fig = plt.figure()\n",
        "fig.suptitle('Algorithm Comparison')\n",
        "ax = fig.add_subplot(111)\n",
        "plt.boxplot(results)\n",
        "ax.set_xticklabels(names)\n",
        "plt.show() "
      ],
      "execution_count": null,
      "outputs": []
    },
    {
      "cell_type": "code",
      "metadata": {
        "id": "OsJiPQ8n2bVy"
      },
      "source": [
        "new=All.groupby('applicant_ethnicity')['accepted'].mean().reset_index().rename(\n",
        "    columns={'applicant_ethnicity':'applicant_ethnicity','accepted' : 'MeanAccepted'})\n",
        "new"
      ],
      "execution_count": null,
      "outputs": []
    },
    {
      "cell_type": "code",
      "metadata": {
        "id": "ozH-j98O5NiM"
      },
      "source": [
        "new_2=All.groupby('applicant_sex')['accepted'].mean().reset_index().rename(\n",
        "    columns={'applicant_sex':'applicant_sex','accepted' : 'MeanAccepted'})\n",
        "new_2"
      ],
      "execution_count": null,
      "outputs": []
    },
    {
      "cell_type": "code",
      "metadata": {
        "id": "gt8a2hme8O0Z"
      },
      "source": [
        "new_3=All[All.state_code == 45]\n",
        "new_4=new_3.groupby('applicant_income')['loan_amount'].mean().reset_index().rename(\n",
        "    columns={'applicant_income':'applicant_income','loan_amount' : 'Meanloan'})\n",
        "new_4.head()\n"
      ],
      "execution_count": null,
      "outputs": []
    },
    {
      "cell_type": "code",
      "metadata": {
        "id": "28XN-OGAKghW"
      },
      "source": [
        "plt.plot(new_4.applicant_income,new_4.Meanloan)"
      ],
      "execution_count": null,
      "outputs": []
    },
    {
      "cell_type": "code",
      "metadata": {
        "id": "KQK1Q92xLCYY"
      },
      "source": [
        "new_5=All[All.state_code == 48]\n",
        "new_6=new_5.groupby('county_code')['accepted'].mean().reset_index().rename(\n",
        "    columns={'county_code':'county_code','accepted' : 'MeanAccepted'})\n",
        "new_6.head()"
      ],
      "execution_count": null,
      "outputs": []
    },
    {
      "cell_type": "code",
      "metadata": {
        "id": "c1AFgJunMhYn"
      },
      "source": [
        "new_7=new_6.drop(0)\n",
        "new_7.describe()"
      ],
      "execution_count": null,
      "outputs": []
    },
    {
      "cell_type": "code",
      "metadata": {
        "id": "jRE_LVzYLuKB"
      },
      "source": [
        "plt.plot(new_7.county_code,new_7.MeanAccepted)"
      ],
      "execution_count": null,
      "outputs": []
    },
    {
      "cell_type": "code",
      "metadata": {
        "id": "CXOtldk1Nhxz"
      },
      "source": [
        "new_8=All[All.state_code == 2]\n",
        "new_8.head()"
      ],
      "execution_count": null,
      "outputs": []
    },
    {
      "cell_type": "code",
      "metadata": {
        "id": "_nI2Ako1O74X"
      },
      "source": [
        "new_9=new_8.groupby('loan_type')['accepted'].mean().reset_index().rename(\n",
        "    columns={'loan_type':'loan_type','accepted' : 'MeanAccepted'})\n",
        "new_9"
      ],
      "execution_count": null,
      "outputs": []
    },
    {
      "cell_type": "code",
      "metadata": {
        "id": "4o2A0WGFOrBV"
      },
      "source": [
        "new_10=All[All.state_code == 4]\n",
        "new_11=new_10.groupby('loan_type')['accepted'].mean().reset_index().rename(\n",
        "    columns={'loan_type':'loan_type','accepted' : 'MeanAccepted'})\n",
        "new_11"
      ],
      "execution_count": null,
      "outputs": []
    }
  ]
}